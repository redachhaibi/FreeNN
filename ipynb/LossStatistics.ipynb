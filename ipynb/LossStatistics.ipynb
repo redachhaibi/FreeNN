{
 "cells": [
  {
   "cell_type": "markdown",
   "metadata": {},
   "source": [
    "## I. Extract recorded data and describe status"
   ]
  },
  {
   "cell_type": "code",
   "execution_count": 85,
   "metadata": {
    "scrolled": true
   },
   "outputs": [
    {
     "name": "stdout",
     "output_type": "stream",
     "text": [
      "random_Mon_Feb_7_22-50-42_2022.json :\n",
      "  |- 11 quantiles available\n",
      "  |- 5 training samples available\n",
      "  |- Losses  [0.2775 0.2764 0.279  0.2797 0.2773]\n",
      "  |- Accuracies  [0.9221 0.922 ]\n",
      "random_Fri_Oct_15_09-15-52_2021.json :\n",
      "  |- 11 quantiles available\n",
      "  |- 7 training samples available\n",
      "  |- Losses  [0.1762 0.1784 0.1746 0.1729 0.1779 0.1746 0.1743]\n",
      "  |- Accuracies  [0.9493 0.9493]\n",
      "random_Fri_Oct_15_08-44-05_2021.json :\n",
      "  |- 11 quantiles available\n",
      "  |- 7 training samples available\n",
      "  |- Losses  [0.1159 0.1178 0.1148 0.1163 0.1154 0.1161 0.1165]\n",
      "  |- Accuracies  [0.9614 0.9632]\n",
      "random_Mon_Feb_7_22-57-04_2022.json :\n",
      "  |- 11 quantiles available\n",
      "  |- 5 training samples available\n",
      "  |- Losses  [0.2842 0.2862 0.2848 0.282  0.2848]\n",
      "  |- Accuracies  [0.9203 0.9206]\n",
      "random_Mon_Feb_7_22-47-24_2022.json :\n",
      "  |- 11 quantiles available\n",
      "  |- 5 training samples available\n",
      "  |- Losses  [0.1826 0.1865 0.182  0.1831 0.1829]\n",
      "  |- Accuracies  [0.9487 0.9466]\n",
      "random_Mon_Feb_7_22-44-58_2022.json :\n",
      "  |- 11 quantiles available\n",
      "  |- 6 training samples available\n",
      "  |- Losses  [2.2691 2.279  2.2642 2.2787 2.2419 2.2839]\n",
      "  |- Accuracies  [0.1461 0.1355]\n",
      "random_Mon_Feb_7_22-56-43_2022.json :\n",
      "  |- 11 quantiles available\n",
      "  |- 5 training samples available\n",
      "  |- Losses  [0.0435 0.044  0.0441 0.0436 0.0441]\n",
      "  |- Accuracies  [0.9764 0.9746]\n",
      "random_Mon_Feb_7_22-53-10_2022.json :\n",
      "  |- 11 quantiles available\n",
      "  |- 5 training samples available\n",
      "  |- Losses  [0.2925 0.2912 0.291  0.2906 0.2914]\n",
      "  |- Accuracies  [0.9187 0.9191]\n",
      "random_Mon_Feb_7_22-46-16_2022.json :\n",
      "  |- 11 quantiles available\n",
      "  |- 5 training samples available\n",
      "  |- Losses  [0.2823 0.2879 0.2843 0.2836 0.2865]\n",
      "  |- Accuracies  [0.9225 0.9196]\n",
      "random_Mon_Feb_7_22-50-43_2022.json :\n",
      "  |- 11 quantiles available\n",
      "  |- 5 training samples available\n",
      "  |- Losses  [0.1775 0.1769 0.1782 0.1784 0.1771]\n",
      "  |- Accuracies  [0.9472 0.9481]\n",
      "random_Mon_Feb_7_22-45-16_2022.json :\n",
      "  |- 11 quantiles available\n",
      "  |- 5 training samples available\n",
      "  |- Losses  [0.1549 0.1563 0.1526 0.1556 0.1531]\n",
      "  |- Accuracies  [0.9538 0.9542]\n",
      "random_Mon_Feb_7_22-45-31_2022.json :\n",
      "  |- 11 quantiles available\n",
      "  |- 5 training samples available\n",
      "  |- Losses  [2.2968 2.2042 2.3003 2.2934 2.2976]\n",
      "  |- Accuracies  [0.1865 0.2764]\n",
      "random_Mon_Feb_7_22-52-06_2022.json :\n",
      "  |- 11 quantiles available\n",
      "  |- 4 training samples available\n",
      "  |- Losses  [1.0544 1.0347 0.8013 1.2399]\n",
      "  |- Accuracies  [0.7601 0.6254]\n",
      "random_Fri_Oct_15_09-17-31_2021.json :\n",
      "  |- 11 quantiles available\n",
      "  |- 7 training samples available\n",
      "  |- Losses  [0.182  0.1845 0.1841 0.1859 0.1828 0.1814 0.1828]\n",
      "  |- Accuracies  [0.9467 0.9472]\n",
      "random_Mon_Feb_7_22-46-46_2022.json :\n",
      "  |- 11 quantiles available\n",
      "  |- 5 training samples available\n",
      "  |- Losses  [2.2995 2.2985 2.2982 2.2993 2.2991]\n",
      "  |- Accuracies  [0.2782 0.388 ]\n",
      "random_Fri_Oct_15_08-56-53_2021.json :\n",
      "  |- 11 quantiles available\n",
      "  |- 7 training samples available\n",
      "  |- Losses  [0.1786 0.1782 0.1768 0.1794 0.1824 0.1786 0.1758]\n",
      "  |- Accuracies  [0.9479 0.9481]\n",
      "random_Mon_Feb_7_22-51-11_2022.json :\n",
      "  |- 11 quantiles available\n",
      "  |- 5 training samples available\n",
      "  |- Losses  [0.1714 0.1711 0.1712 0.1709 0.1702]\n",
      "  |- Accuracies  [0.9505 0.9501]\n",
      "random_Mon_Feb_7_22-57-02_2022.json :\n",
      "  |- 11 quantiles available\n",
      "  |- 5 training samples available\n",
      "  |- Losses  [0.0877 0.0863 0.0861 0.0877 0.0852]\n",
      "  |- Accuracies  [0.9619 0.9613]\n",
      "random_Mon_Feb_7_22-54-36_2022.json :\n",
      "  |- 11 quantiles available\n",
      "  |- 4 training samples available\n",
      "  |- Losses  [0.1835 0.1857 0.185  0.188 ]\n",
      "  |- Accuracies  [0.9456 0.9466]\n",
      "random_Mon_Feb_7_22-47-58_2022.json :\n",
      "  |- 11 quantiles available\n",
      "  |- 4 training samples available\n",
      "  |- Losses  [0.2838 0.2839 0.2852 0.2825]\n",
      "  |- Accuracies  [0.919  0.9214]\n",
      "random_Mon_Feb_7_22-50-34_2022.json :\n",
      "  |- 11 quantiles available\n",
      "  |- 4 training samples available\n",
      "  |- Losses  [0.1735 0.1733 0.1753 0.1765]\n",
      "  |- Accuracies  [0.948  0.9469]\n",
      "random_Mon_Feb_7_22-54-03_2022.json :\n",
      "  |- 11 quantiles available\n",
      "  |- 4 training samples available\n",
      "  |- Losses  [0.0746 0.0735 0.0725 0.0735]\n",
      "  |- Accuracies  [0.9655 0.9666]\n",
      "random_Mon_Feb_7_22-47-50_2022.json :\n",
      "  |- 11 quantiles available\n",
      "  |- 4 training samples available\n",
      "  |- Losses  [0.0962 0.0942 0.0949 0.0959]\n",
      "  |- Accuracies  [0.9599 0.9617]\n",
      "random_Mon_Feb_7_22-44-34_2022.json :\n",
      "  |- 11 quantiles available\n",
      "  |- 4 training samples available\n",
      "  |- Losses  [2.2753 2.287  2.2888 2.2887]\n",
      "  |- Accuracies  [0.1137 0.1979]\n",
      "random_Mon_Feb_7_22-56-45_2022.json :\n",
      "  |- 11 quantiles available\n",
      "  |- 4 training samples available\n",
      "  |- Losses  [0.288  0.2848 0.2802 0.2808]\n",
      "  |- Accuracies  [0.9217 0.9218]\n",
      "random_Mon_Feb_7_22-50-35_2022.json :\n",
      "  |- 11 quantiles available\n",
      "  |- 4 training samples available\n",
      "  |- Losses  [0.6491 0.6217 0.6594 0.6494]\n",
      "  |- Accuracies  [0.8008 0.8108]\n",
      "random_Fri_Oct_15_08-54-46_2021.json :\n",
      "  |- 11 quantiles available\n",
      "  |- 8 training samples available\n",
      "  |- Losses  [0.1971 0.1974 0.1978 0.1978 0.2001 0.1949 0.1951 0.1997]\n",
      "  |- Accuracies  [0.9442 0.9429]\n",
      "random_Mon_Feb_7_22-52-03_2022.json :\n",
      "  |- 11 quantiles available\n",
      "  |- 4 training samples available\n",
      "  |- Losses  [0.103  0.1037 0.1068 0.1066]\n",
      "  |- Accuracies  [0.9591 0.9597]\n",
      "random_Mon_Feb_7_22-46-07_2022.json :\n",
      "  |- 11 quantiles available\n",
      "  |- 4 training samples available\n",
      "  |- Losses  [0.1559 0.1563 0.1561 0.1542]\n",
      "  |- Accuracies  [0.9535 0.9527]\n",
      "random_Mon_Feb_7_22-54-01_2022.json :\n",
      "  |- 11 quantiles available\n",
      "  |- 4 training samples available\n",
      "  |- Losses  [0.1769 0.1713 0.173  0.1752]\n",
      "  |- Accuracies  [0.9497 0.9483]\n",
      "random_Mon_Feb_7_22-57-37_2022.json :\n",
      "  |- 11 quantiles available\n",
      "  |- 3 training samples available\n",
      "  |- Losses  [0.6774 0.6759 0.6949]\n",
      "  |- Accuracies  [0.7992 0.7965]\n",
      "random_Mon_Feb_7_22-54-37_2022.json :\n",
      "  |- 11 quantiles available\n",
      "  |- 4 training samples available\n",
      "  |- Losses  [0.6607 0.658  0.6812 0.675 ]\n",
      "  |- Accuracies  [0.7945 0.7986]\n",
      "random_Mon_Feb_7_22-45-45_2022.json :\n",
      "  |- 11 quantiles available\n",
      "  |- 4 training samples available\n",
      "  |- Losses  [0.037  0.0366 0.036  0.0363]\n",
      "  |- Accuracies  [0.9733 0.9749]\n",
      "random_Mon_Feb_7_22-51-50_2022.json :\n",
      "  |- 11 quantiles available\n",
      "  |- 4 training samples available\n",
      "  |- Losses  [0.167  0.1661 0.1678 0.1648]\n",
      "  |- Accuracies  [0.9492 0.9528]\n",
      "random_Mon_Feb_7_22-56-19_2022.json :\n",
      "  |- 11 quantiles available\n",
      "  |- 4 training samples available\n",
      "  |- Losses  [1.0185 1.2434 1.0669 1.7477]\n",
      "  |- Accuracies  [0.6812 0.4778]\n",
      "random_Mon_Feb_7_22-47-19_2022.json :\n",
      "  |- 11 quantiles available\n",
      "  |- 3 training samples available\n",
      "  |- Losses  [0.0558 0.0561 0.0571]\n",
      "  |- Accuracies  [0.9714 0.9703]\n",
      "random_Fri_Oct_15_09-01-33_2021.json :\n",
      "  |- 11 quantiles available\n",
      "  |- 6 training samples available\n",
      "  |- Losses  [0.1695 0.1719 0.1711 0.1705 0.1689 0.1673]\n",
      "  |- Accuracies  [0.9506 0.9507]\n",
      "random_Mon_Feb_7_22-54-44_2022.json :\n",
      "  |- 11 quantiles available\n",
      "  |- 3 training samples available\n",
      "  |- Losses  [0.0576 0.0571 0.0584]\n",
      "  |- Accuracies  [0.9705 0.9709]\n",
      "random_Fri_Oct_15_09-15-23_2021.json :\n",
      "  |- 11 quantiles available\n",
      "  |- 6 training samples available\n",
      "  |- Losses  [0.1927 0.1929 0.1947 0.1912 0.1921 0.1919]\n",
      "  |- Accuracies  [0.9442 0.9453]\n",
      "random_Fri_Oct_15_09-16-55_2021.json :\n",
      "  |- 11 quantiles available\n",
      "  |- 6 training samples available\n",
      "  |- Losses  [0.1859 0.1855 0.1924 0.1852 0.1811 0.1809]\n",
      "  |- Accuracies  [0.9455 0.9466]\n",
      "random_Mon_Feb_7_22-55-37_2022.json :\n",
      "  |- 11 quantiles available\n",
      "  |- 4 training samples available\n",
      "  |- Losses  [0.1927 0.1955 0.1909 0.1961]\n",
      "  |- Accuracies  [0.9468 0.944 ]\n",
      "random_Fri_Oct_15_09-21-07_2021.json :\n",
      "  |- 11 quantiles available\n",
      "  |- 6 training samples available\n",
      "  |- Losses  [0.1115 0.112  0.1129 0.1147 0.1114 0.1143]\n",
      "  |- Accuracies  [0.9573 0.9575]\n",
      "random_Mon_Feb_7_22-47-14_2022.json :\n",
      "  |- 11 quantiles available\n",
      "  |- 4 training samples available\n",
      "  |- Losses  [2.294  2.2977 2.2969 2.2955]\n",
      "  |- Accuracies  [0.239  0.1943]\n",
      "random_Mon_Feb_7_22-54-50_2022.json :\n",
      "  |- 11 quantiles available\n",
      "  |- 3 training samples available\n",
      "  |- Losses  [0.1085 0.111  0.1104]\n",
      "  |- Accuracies  [0.9577 0.9571]\n",
      "random_Mon_Feb_7_22-45-23_2022.json :\n",
      "  |- 11 quantiles available\n",
      "  |- 4 training samples available\n",
      "  |- Losses  [2.2967 2.2989 2.2977 2.2984]\n",
      "  |- Accuracies  [0.1293 0.1432]\n",
      "random_Mon_Feb_7_22-57-31_2022.json :\n",
      "  |- 11 quantiles available\n",
      "  |- 4 training samples available\n",
      "  |- Losses  [0.8175 0.7889 0.8967 0.7924]\n",
      "  |- Accuracies  [0.7292 0.7581]\n",
      "random_Mon_Feb_7_22-53-07_2022.json :\n",
      "  |- 11 quantiles available\n",
      "  |- 3 training samples available\n",
      "  |- Losses  [0.0384 0.0363 0.0369]\n",
      "  |- Accuracies  [0.9741 0.9738]\n",
      "random_Fri_Oct_22_10-40-58_2021.json :\n",
      "  |- 11 quantiles available\n",
      "  |- 6 training samples available\n",
      "  |- Losses  [0.1368 0.1347 0.1253 0.1346 0.1338 0.1271]\n",
      "  |- Accuracies  [0.9542 0.9542]\n",
      "random_Mon_Feb_7_22-54-06_2022.json :\n",
      "  |- 11 quantiles available\n",
      "  |- 4 training samples available\n",
      "  |- Losses  [0.1781 0.1823 0.1836 0.1816]\n",
      "  |- Accuracies  [0.9486 0.9486]\n",
      "random_Mon_Feb_7_22-50-59_2022.json :\n",
      "  |- 11 quantiles available\n",
      "  |- 4 training samples available\n",
      "  |- Losses  [0.3122 0.3181 0.3167 0.3142]\n",
      "  |- Accuracies  [0.9117 0.9118]\n",
      "random_Mon_Feb_7_22-52-05_2022.json :\n",
      "  |- 11 quantiles available\n",
      "  |- 3 training samples available\n",
      "  |- Losses  [0.6687 0.7073 0.6981]\n",
      "  |- Accuracies  [0.7852 0.7902]\n",
      "random_Mon_Feb_7_22-55-05_2022.json :\n",
      "  |- 11 quantiles available\n",
      "  |- 4 training samples available\n",
      "  |- Losses  [0.1916 0.1909 0.1896 0.1945]\n",
      "  |- Accuracies  [0.9449 0.9458]\n",
      "random_Mon_Feb_7_22-51-01_2022.json :\n",
      "  |- 11 quantiles available\n",
      "  |- 3 training samples available\n",
      "  |- Losses  [0.2852 0.2854 0.2841]\n",
      "  |- Accuracies  [0.9198 0.9207]\n",
      "random_Mon_Feb_7_22-48-53_2022.json :\n",
      "  |- 11 quantiles available\n",
      "  |- 4 training samples available\n",
      "  |- Losses  [0.2041 0.1951 0.2011 0.2025]\n",
      "  |- Accuracies  [0.942  0.9439]\n",
      "random_Mon_Feb_7_22-55-01_2022.json :\n",
      "  |- 11 quantiles available\n",
      "  |- 3 training samples available\n",
      "  |- Losses  [0.0524 0.0532 0.0526]\n",
      "  |- Accuracies  [0.9712 0.9714]\n",
      "random_Mon_Feb_7_22-55-06_2022.json :\n",
      "  |- 11 quantiles available\n",
      "  |- 4 training samples available\n",
      "  |- Losses  [0.0946 0.0941 0.0959 0.0973]\n",
      "  |- Accuracies  [0.9634 0.9622]\n",
      "random_Mon_Feb_7_22-55-04_2022.json :\n",
      "  |- 11 quantiles available\n",
      "  |- 3 training samples available\n",
      "  |- Losses  [0.3114 0.311  0.3109]\n",
      "  |- Accuracies  [0.9133 0.9109]\n",
      "random_Mon_Feb_7_22-57-51_2022.json :\n",
      "  |- 11 quantiles available\n",
      "  |- 4 training samples available\n",
      "  |- Losses  [0.0625 0.0602 0.0594 0.061 ]\n",
      "  |- Accuracies  [0.9679 0.9675]\n",
      "random_Mon_Feb_7_22-53-09_2022.json :\n",
      "  |- 11 quantiles available\n",
      "  |- 4 training samples available\n",
      "  |- Losses  [0.1541 0.1524 0.1534 0.1517]\n",
      "  |- Accuracies  [0.9544 0.9538]\n",
      "random_Fri_Oct_15_09-02-02_2021.json :\n",
      "  |- 11 quantiles available\n",
      "  |- 6 training samples available\n",
      "  |- Losses  [0.1919 0.1922 0.1889 0.1876 0.1901 0.1911]\n",
      "  |- Accuracies  [0.944  0.9441]\n",
      "random_Mon_Feb_7_22-53-59_2022.json :\n",
      "  |- 11 quantiles available\n",
      "  |- 4 training samples available\n",
      "  |- Losses  [0.7346 1.037  0.7919 1.1305]\n",
      "  |- Accuracies  [0.7603 0.6715]\n",
      "random_Fri_Oct_15_09-04-41_2021.json :\n",
      "  |- 11 quantiles available\n",
      "  |- 8 training samples available\n",
      "  |- Losses  [0.178  0.1717 0.1754 0.1769 0.1772 0.1769 0.1777 0.178 ]\n",
      "  |- Accuracies  [0.9492 0.9487]\n",
      "random_Mon_Feb_7_22-50-18_2022.json :\n",
      "  |- 11 quantiles available\n",
      "  |- 3 training samples available\n",
      "  |- Losses  [2.1274 1.5772 2.0265]\n",
      "  |- Accuracies  [0.5282 0.3673]\n",
      "random_Mon_Feb_7_22-45-35_2022.json :\n",
      "  |- 11 quantiles available\n",
      "  |- 4 training samples available\n",
      "  |- Losses  [0.2864 0.2818 0.2818 0.2811]\n",
      "  |- Accuracies  [0.9208 0.9212]\n",
      "random_Mon_Feb_7_22-55-35_2022.json :\n",
      "  |- 11 quantiles available\n",
      "  |- 4 training samples available\n",
      "  |- Losses  [0.6706 0.6657 0.6851 0.6782]\n",
      "  |- Accuracies  [0.7959 0.7957]\n",
      "random_Mon_Feb_7_22-51-28_2022.json :\n",
      "  |- 11 quantiles available\n",
      "  |- 4 training samples available\n",
      "  |- Losses  [0.1057 0.1039 0.1003 0.1037]\n",
      "  |- Accuracies  [0.9636 0.9618]\n",
      "random_Mon_Feb_7_22-50-19_2022.json :\n",
      "  |- 11 quantiles available\n",
      "  |- 4 training samples available\n",
      "  |- Losses  [0.6415 0.6357 0.6521 0.6386]\n",
      "  |- Accuracies  [0.805  0.8119]\n",
      "random_Mon_Feb_7_22-52-01_2022.json :\n",
      "  |- 11 quantiles available\n",
      "  |- 4 training samples available\n",
      "  |- Losses  [0.07   0.0694 0.0696 0.0688]\n",
      "  |- Accuracies  [0.9665 0.9662]\n",
      "random_Mon_Feb_7_22-52-07_2022.json :\n",
      "  |- 11 quantiles available\n",
      "  |- 4 training samples available\n",
      "  |- Losses  [0.1871 0.1918 0.1891 0.1873]\n",
      "  |- Accuracies  [0.9439 0.9456]\n",
      "random_Mon_Feb_7_22-50-33_2022.json :\n",
      "  |- 11 quantiles available\n",
      "  |- 3 training samples available\n",
      "  |- Losses  [0.6213 0.6003 0.6212]\n",
      "  |- Accuracies  [0.8278 0.8202]\n",
      "random_Mon_Feb_7_22-47-27_2022.json :\n",
      "  |- 11 quantiles available\n",
      "  |- 4 training samples available\n",
      "  |- Losses  [0.1623 0.1633 0.1645 0.1619]\n",
      "  |- Accuracies  [0.9509 0.9514]\n",
      "random_Mon_Feb_7_22-52-02_2022.json :\n",
      "  |- 11 quantiles available\n",
      "  |- 4 training samples available\n",
      "  |- Losses  [0.105  0.1064 0.1053 0.103 ]\n",
      "  |- Accuracies  [0.9602 0.9597]\n",
      "random_Mon_Feb_7_22-49-52_2022.json :\n",
      "  |- 11 quantiles available\n",
      "  |- 4 training samples available\n",
      "  |- Losses  [0.5851 0.5841 0.5909 0.6237]\n",
      "  |- Accuracies  [0.8316 0.8187]\n",
      "random_Mon_Feb_7_22-57-07_2022.json :\n",
      "  |- 11 quantiles available\n",
      "  |- 4 training samples available\n",
      "  |- Losses  [0.6553 0.662  0.6766 0.6505]\n",
      "  |- Accuracies  [0.8027 0.8071]\n",
      "random_Fri_Oct_15_08-52-14_2021.json :\n",
      "  |- 11 quantiles available\n",
      "  |- 8 training samples available\n",
      "  |- Losses  [0.2192 0.2215 0.2209 0.2231 0.218  0.2237 0.2245 0.2233]\n",
      "  |- Accuracies  [0.9371 0.9369]\n",
      "random_Mon_Feb_7_22-55-03_2022.json :\n",
      "  |- 11 quantiles available\n",
      "  |- 4 training samples available\n",
      "  |- Losses  [0.6068 0.5967 0.6149 0.5954]\n",
      "  |- Accuracies  [0.8226 0.8291]\n",
      "random_Mon_Feb_7_22-46-18_2022.json :\n",
      "  |- 11 quantiles available\n",
      "  |- 4 training samples available\n",
      "  |- Losses  [0.2813 0.2826 0.2867 0.2843]\n",
      "  |- Accuracies  [0.9212 0.9203]\n",
      "random_Fri_Oct_15_09-17-36_2021.json :\n",
      "  |- 11 quantiles available\n",
      "  |- 6 training samples available\n",
      "  |- Losses  [0.1687 0.1649 0.164  0.1693 0.1679 0.1674]\n",
      "  |- Accuracies  [0.95   0.9515]\n",
      "random_Mon_Feb_7_22-46-14_2022.json :\n",
      "  |- 11 quantiles available\n",
      "  |- 4 training samples available\n",
      "  |- Losses  [0.2835 0.2805 0.2816 0.2852]\n",
      "  |- Accuracies  [0.9214 0.9202]\n",
      "random_Fri_Oct_15_09-02-15_2021.json :\n",
      "  |- 11 quantiles available\n",
      "  |- 8 training samples available\n",
      "  |- Losses  [0.1832 0.1838 0.1811 0.1773 0.1817 0.1834 0.1792 0.187 ]\n",
      "  |- Accuracies  [0.9474 0.9461]\n",
      "random_Fri_Oct_15_08-43-30_2021.json :\n",
      "  |- 11 quantiles available\n",
      "  |- 8 training samples available\n",
      "  |- Losses  [0.1242 0.1253 0.1272 0.1255 0.1291 0.1268 0.1278 0.1272]\n",
      "  |- Accuracies  [0.9572 0.9559]\n",
      "random_Mon_Feb_7_22-56-41_2022.json :\n",
      "  |- 11 quantiles available\n",
      "  |- 4 training samples available\n",
      "  |- Losses  [0.0487 0.0468 0.048  0.0474]\n",
      "  |- Accuracies  [0.9729 0.9714]\n",
      "random_Mon_Feb_7_22-46-50_2022.json :\n",
      "  |- 11 quantiles available\n",
      "  |- 4 training samples available\n",
      "  |- Losses  [0.1559 0.1554 0.1559 0.1541]\n",
      "  |- Accuracies  [0.9545 0.9529]\n",
      "random_Mon_Feb_7_22-57-06_2022.json :\n",
      "  |- 11 quantiles available\n",
      "  |- 4 training samples available\n",
      "  |- Losses  [0.2791 0.2812 0.2812 0.2728]\n",
      "  |- Accuracies  [0.9217 0.9258]\n",
      "random_Mon_Feb_7_22-55-17_2022.json :\n",
      "  |- 11 quantiles available\n",
      "  |- 4 training samples available\n",
      "  |- Losses  [0.2717 0.2711 0.274  0.274 ]\n",
      "  |- Accuracies  [0.9234 0.9246]\n",
      "random_Mon_Feb_7_22-57-08_2022.json :\n",
      "  |- 11 quantiles available\n",
      "  |- 4 training samples available\n",
      "  |- Losses  [2.0059 1.9224 1.7896 1.8427]\n",
      "  |- Accuracies  [0.3315 0.4381]\n",
      "random_Mon_Feb_7_22-54-02_2022.json :\n",
      "  |- 11 quantiles available\n",
      "  |- 4 training samples available\n",
      "  |- Losses  [0.1628 0.1631 0.1647 0.1622]\n",
      "  |- Accuracies  [0.9518 0.9522]\n",
      "random_Fri_Oct_15_09-04-44_2021.json :\n",
      "  |- 11 quantiles available\n",
      "  |- 6 training samples available\n",
      "  |- Losses  [0.1916 0.1878 0.1841 0.1859 0.1866 0.1868]\n",
      "  |- Accuracies  [0.9472 0.9456]\n",
      "random_Mon_Feb_7_22-53-11_2022.json :\n",
      "  |- 11 quantiles available\n",
      "  |- 4 training samples available\n",
      "  |- Losses  [0.2811 0.2831 0.2833 0.2853]\n",
      "  |- Accuracies  [0.9224 0.92  ]\n",
      "random_Mon_Feb_7_22-56-18_2022.json :\n",
      "  |- 11 quantiles available\n",
      "  |- 4 training samples available\n",
      "  |- Losses  [0.3139 0.3117 0.3118 0.3118]\n",
      "  |- Accuracies  [0.9111 0.9118]\n",
      "random_Mon_Feb_7_22-49-53_2022.json :\n",
      "  |- 11 quantiles available\n",
      "  |- 4 training samples available\n",
      "  |- Losses  [0.1738 0.17   0.1689 0.1687]\n",
      "  |- Accuracies  [0.9509 0.9505]\n",
      "random_Mon_Feb_7_22-46-54_2022.json :\n",
      "  |- 11 quantiles available\n",
      "  |- 7 training samples available\n",
      "  |- Losses  [0.1731 0.1727 0.1708 0.172  0.1729 0.1707 0.172 ]\n",
      "  |- Accuracies  [0.9487 0.9491]\n",
      "random_Mon_Feb_7_22-56-26_2022.json :\n",
      "  |- 11 quantiles available\n",
      "  |- 4 training samples available\n",
      "  |- Losses  [0.0674 0.0665 0.0668 0.0689]\n",
      "  |- Accuracies  [0.9662 0.9666]\n",
      "random_Mon_Feb_7_22-51-13_2022.json :\n",
      "  |- 11 quantiles available\n",
      "  |- 4 training samples available\n",
      "  |- Losses  [0.3068 0.3088 0.3061 0.3018]\n",
      "  |- Accuracies  [0.9129 0.9148]\n",
      "random_Mon_Feb_7_22-49-51_2022.json :\n",
      "  |- 11 quantiles available\n",
      "  |- 2 training samples available\n",
      "  |- Losses  [0.6433 0.6472]\n",
      "  |- Accuracies  [0.8085]\n",
      "random_Mon_Feb_7_22-53-06_2022.json :\n",
      "  |- 11 quantiles available\n",
      "  |- 3 training samples available\n",
      "  |- Losses  [0.7397 0.781  0.9576]\n",
      "  |- Accuracies  [0.7037]\n",
      "random_Mon_Feb_7_22-53-05_2022.json :\n",
      "  |- 11 quantiles available\n",
      "  |- 3 training samples available\n",
      "  |- Losses  [0.2857 0.2824 0.2882]\n",
      "  |- Accuracies  [0.9195]\n",
      "random_Mon_Feb_7_22-48-00_2022.json :\n",
      "  |- 11 quantiles available\n",
      "  |- 2 training samples available\n",
      "  |- Losses  [0.307  0.2989]\n",
      "  |- Accuracies  [0.9171]\n",
      "random_Mon_Feb_7_22-57-01_2022.json :\n",
      "  |- 11 quantiles available\n",
      "  |- 2 training samples available\n",
      "  |- Losses  [0.817  0.7598]\n",
      "  |- Accuracies  [0.7716]\n",
      "random_Mon_Feb_7_22-45-21_2022.json :\n",
      "  |- 11 quantiles available\n",
      "  |- 3 training samples available\n",
      "  |- Losses  [2.2702 2.2498 2.2608]\n",
      "  |- Accuracies  [0.1874]\n",
      "random_Mon_Feb_7_22-54-58_2022.json :\n",
      "  |- 11 quantiles available\n",
      "  |- 3 training samples available\n",
      "  |- Losses  [0.2203 0.1992 0.2227]\n",
      "  |- Accuracies  [0.937]\n",
      "random_Fri_Oct_15_09-16-39_2021.json :\n",
      "  |- 11 quantiles available\n",
      "  |- 7 training samples available\n",
      "  |- Losses  [0.1744 0.1737 0.1719 0.1742 0.1713 0.1697 0.1714]\n",
      "  |- Accuracies  [0.9497]\n",
      "random_Fri_Oct_15_09-16-59_2021.json :\n",
      "  |- 11 quantiles available\n",
      "  |- 7 training samples available\n",
      "  |- Losses  [0.1795 0.1916 0.1823 0.1848 0.1851 0.1841 0.19  ]\n",
      "  |- Accuracies  [0.9455]\n",
      "random_Fri_Oct_15_08-47-19_2021.json :\n",
      "  |- 11 quantiles available\n",
      "  |- 6 training samples available\n",
      "  |- Losses  [2.3026 2.3026 2.3026 2.3026 2.3026 2.3026]\n",
      "  |- Accuracies  [0.292]\n",
      "random_Mon_Feb_7_22-54-00_2022.json :\n",
      "  |- 11 quantiles available\n",
      "  |- 2 training samples available\n",
      "  |- Losses  [0.1781 0.1765]\n",
      "  |- Accuracies  [0.9485]\n",
      "random_Mon_Feb_7_22-46-56_2022.json :\n",
      "  |- 11 quantiles available\n",
      "  |- 3 training samples available\n",
      "  |- Losses  [2.2887 2.2727 2.286 ]\n",
      "  |- Accuracies  [0.3303]\n",
      "random_Mon_Feb_7_22-56-00_2022.json :\n",
      "  |- 11 quantiles available\n",
      "  |- 2 training samples available\n",
      "  |- Losses  [0.1609 0.1594]\n",
      "  |- Accuracies  [0.9531]\n",
      "random_Mon_Feb_7_22-51-10_2022.json :\n",
      "  |- 11 quantiles available\n",
      "  |- 3 training samples available\n",
      "  |- Losses  [0.1584 0.1589 0.1587]\n",
      "  |- Accuracies  [0.9535]\n",
      "random_Mon_Feb_7_22-54-59_2022.json :\n",
      "  |- 11 quantiles available\n",
      "  |- 3 training samples available\n",
      "  |- Losses  [0.1576 0.1581 0.1581]\n",
      "  |- Accuracies  [0.9534]\n",
      "random_Mon_Feb_7_22-46-28_2022.json :\n",
      "  |- 11 quantiles available\n",
      "  |- 3 training samples available\n",
      "  |- Losses  [2.2907 2.2913 2.2894]\n",
      "  |- Accuracies  [0.1182]\n",
      "random_Mon_Feb_7_22-57-05_2022.json :\n",
      "  |- 11 quantiles available\n",
      "  |- 2 training samples available\n",
      "  |- Losses  [0.1507 0.1471]\n",
      "  |- Accuracies  [0.9554]\n",
      "random_Mon_Feb_7_22-48-54_2022.json :\n",
      "  |- 11 quantiles available\n",
      "  |- 3 training samples available\n",
      "  |- Losses  [0.3198 0.3229 0.3107]\n",
      "  |- Accuracies  [0.9129]\n",
      "random_Mon_Feb_7_22-55-00_2022.json :\n",
      "  |- 11 quantiles available\n",
      "  |- 3 training samples available\n",
      "  |- Losses  [0.0949 0.1028 0.0984]\n",
      "  |- Accuracies  [0.9583]\n",
      "random_Mon_Feb_7_22-51-00_2022.json :\n",
      "  |- 11 quantiles available\n",
      "  |- 3 training samples available\n",
      "  |- Losses  [0.6049 0.6321 0.615 ]\n",
      "  |- Accuracies  [0.8223]\n",
      "random_Mon_Feb_7_22-56-24_2022.json :\n",
      "  |- 11 quantiles available\n",
      "  |- 2 training samples available\n",
      "  |- Losses  [0.184  0.1862]\n",
      "  |- Accuracies  [0.946]\n",
      "random_Mon_Feb_7_22-55-02_2022.json :\n",
      "  |- 11 quantiles available\n",
      "  |- 3 training samples available\n",
      "  |- Losses  [0.061  0.0608 0.0598]\n",
      "  |- Accuracies  [0.9645]\n",
      "random_Mon_Feb_7_22-47-30_2022.json :\n",
      "  |- 11 quantiles available\n",
      "  |- 3 training samples available\n",
      "  |- Losses  [0.198  0.1994 0.1945]\n",
      "  |- Accuracies  [0.9435]\n",
      "random_Mon_Feb_7_22-53-02_2022.json :\n",
      "  |- 11 quantiles available\n",
      "  |- 2 training samples available\n",
      "  |- Losses  [0.2848 0.285 ]\n",
      "  |- Accuracies  [0.9202]\n",
      "random_Mon_Feb_7_22-57-38_2022.json :\n",
      "  |- 11 quantiles available\n",
      "  |- 2 training samples available\n",
      "  |- Losses  [0.1627 0.1619]\n",
      "  |- Accuracies  [0.9525]\n",
      "random_Mon_Feb_7_22-52-00_2022.json :\n",
      "  |- 11 quantiles available\n",
      "  |- 2 training samples available\n",
      "  |- Losses  [0.1696 0.1796]\n",
      "  |- Accuracies  [0.9478]\n",
      "random_Mon_Feb_7_22-47-33_2022.json :\n",
      "  |- 11 quantiles available\n",
      "  |- 3 training samples available\n",
      "  |- Losses  [0.3325 0.3252 0.3189]\n",
      "  |- Accuracies  [0.9107]\n",
      "random_Mon_Feb_7_22-46-25_2022.json :\n",
      "  |- 11 quantiles available\n",
      "  |- 3 training samples available\n",
      "  |- Losses  [0.296  0.2926 0.2971]\n",
      "  |- Accuracies  [0.9181]\n",
      "random_Mon_Feb_7_22-57-03_2022.json :\n",
      "  |- 11 quantiles available\n",
      "  |- 2 training samples available\n",
      "  |- Losses  [0.6442 0.6452]\n",
      "  |- Accuracies  [0.8106]\n",
      "random_Mon_Feb_7_22-55-36_2022.json :\n",
      "  |- 11 quantiles available\n",
      "  |- 2 training samples available\n",
      "  |- Losses  [0.0805 0.085 ]\n",
      "  |- Accuracies  [0.9636]\n",
      "random_Mon_Feb_7_22-55-16_2022.json :\n",
      "  |- 11 quantiles available\n",
      "  |- 3 training samples available\n",
      "  |- Losses  [0.271  0.2724 0.2748]\n",
      "  |- Accuracies  [0.9225]\n",
      "random_Mon_Feb_7_22-54-04_2022.json :\n",
      "  |- 11 quantiles available\n",
      "  |- 2 training samples available\n",
      "  |- Losses  [0.0469 0.0476]\n",
      "  |- Accuracies  [0.9719]\n",
      "random_Mon_Feb_7_22-52-04_2022.json :\n",
      "  |- 11 quantiles available\n",
      "  |- 3 training samples available\n",
      "  |- Losses  [0.0713 0.0707 0.0702]\n",
      "  |- Accuracies  [0.9674]\n",
      "random_Mon_Feb_7_22-56-25_2022.json :\n",
      "  |- 11 quantiles available\n",
      "  |- 2 training samples available\n",
      "  |- Losses  [0.1869 0.1838]\n",
      "  |- Accuracies  [0.948]\n",
      "random_Fri_Oct_15_09-17-33_2021.json :\n",
      "  |- 11 quantiles available\n",
      "  |- 7 training samples available\n",
      "  |- Losses  [0.1898 0.1828 0.178  0.1909 0.1845 0.1873 0.1889]\n",
      "  |- Accuracies  [0.9447]\n",
      "random_Fri_Oct_22_10-40-35_2021.json :\n",
      "  |- 11 quantiles available\n",
      "  |- 5 training samples available\n",
      "  |- Losses  [0.1242 0.1178 0.1304 0.1256 0.1293]\n",
      "  |- Accuracies  [0.9541]\n",
      "random_Mon_Feb_7_22-47-22_2022.json :\n",
      "  |- 11 quantiles available\n",
      "  |- 3 training samples available\n",
      "  |- Losses  [0.2805 0.2828 0.2838]\n",
      "  |- Accuracies  [0.9199]\n"
     ]
    }
   ],
   "source": [
    "import os\n",
    "import json\n",
    "import numpy as np\n",
    "\n",
    "experiment_dir = \"../experiments/random_architectures_with_loss\"\n",
    "dir_depth      = 4\n",
    "\n",
    "# Get list of json files\n",
    "filenames = [f for f in os.listdir(experiment_dir) if os.path.isfile(os.path.join(experiment_dir, f))]\n",
    "data = []\n",
    "\n",
    "# Get content\n",
    "for filename in filenames:\n",
    "    full_path = os.path.join(experiment_dir, filename)\n",
    "    config = json.load( open( full_path) )\n",
    "    # Fix for old files where there was a typo\n",
    "    if 'FPT' in config:\n",
    "        FPT_key = 'FPT'\n",
    "    elif 'FTP' in config:\n",
    "        FPT_key = 'FTP'\n",
    "    else:\n",
    "        assert(False)\n",
    "    if not 'Results' in config:\n",
    "        data_element = { 'filename': filename, **config[FPT_key], 'learning_curve_train': [], 'learning_curve_acc': [] }\n",
    "    elif not 'learning_curve_acc' in config['Results']:\n",
    "        data_element = { 'filename': filename, **config[FPT_key], **config['Results'], 'learning_curve_acc': [] }\n",
    "    else:\n",
    "        data_element = { 'filename': filename, **config[FPT_key], **config['Results'] }\n",
    "    data.append( data_element )\n",
    "    \n",
    "for e in data:\n",
    "    # Clean up\n",
    "    #del e['quantiles']\n",
    "    del e['cumulative']\n",
    "    del e['density']\n",
    "    # Format\n",
    "    print(e['filename'], ':')\n",
    "    quantile_count = len(e['quantiles'])\n",
    "    print( f'  |- {quantile_count} quantiles available')\n",
    "    samples_count  = len(e['learning_curve_train'])\n",
    "    print( f'  |- {samples_count} training samples available' )\n",
    "    rounded_losses = np.round( e['learning_curve_train'], decimals=4 )\n",
    "    print( f'  |- Losses ', rounded_losses )\n",
    "    rounded_acc = np.round( e['learning_curve_acc'], decimals=4 )\n",
    "    print( f'  |- Accuracies ', rounded_acc )"
   ]
  },
  {
   "cell_type": "code",
   "execution_count": 86,
   "metadata": {},
   "outputs": [
    {
     "name": "stdout",
     "output_type": "stream",
     "text": [
      "0 : 429\n",
      "1 : 429\n",
      "2 : 429\n",
      "3 : 429\n",
      "4 : 429\n",
      "5 : 429\n",
      "6 : 429\n",
      "7 : 429\n",
      "8 : 429\n",
      "9 : 429\n",
      "10 : 429\n"
     ]
    }
   ],
   "source": [
    "scatter_data = {}\n",
    "\n",
    "for i in range(11):\n",
    "    scatter_data[i] = []\n",
    "\n",
    "for e in data:\n",
    "    train_sample = e['learning_curve_train']\n",
    "    for s in train_sample:\n",
    "        for i in range(11):\n",
    "            if s < 0.5: # Remove frozen outliers\n",
    "                scatter_data[i].append( (e['quantiles'][i], s, e))\n",
    "\n",
    "# Data points for each quantile\n",
    "for i in range(11):\n",
    "    print( i, ':', len(scatter_data[i]) )"
   ]
  },
  {
   "cell_type": "markdown",
   "metadata": {},
   "source": [
    "## II. Scatter plots Loss vs quantile"
   ]
  },
  {
   "cell_type": "code",
   "execution_count": 87,
   "metadata": {
    "scrolled": false
   },
   "outputs": [
    {
     "name": "stdout",
     "output_type": "stream",
     "text": [
      "Correlation measures: \n",
      "Spearman: SpearmanrResult(correlation=-0.05503623142465429, pvalue=0.25534431880439923)\n",
      "Pearson : (-0.12960343221275034, 0.007190288313183494)\n",
      "R2      : -0.12960343221275028\n"
     ]
    },
    {
     "data": {
      "image/png": "[encoded data removed]",
      "text/plain": [
       "<Figure size 432x288 with 1 Axes>"
      ]
     },
     "metadata": {
      "needs_background": "light"
     },
     "output_type": "display_data"
    },
    {
     "name": "stdout",
     "output_type": "stream",
     "text": [
      "Correlation measures: \n",
      "Spearman: SpearmanrResult(correlation=-0.04376530848141237, pvalue=0.3658525737714211)\n",
      "Pearson : (-0.15233637826031995, 0.0015533799784460275)\n",
      "R2      : -0.15233637826032\n"
     ]
    },
    {
     "data": {
      "image/png": "[encoded data removed]",
      "text/plain": [
       "<Figure size 432x288 with 1 Axes>"
      ]
     },
     "metadata": {
      "needs_background": "light"
     },
     "output_type": "display_data"
    },
    {
     "name": "stdout",
     "output_type": "stream",
     "text": [
      "Correlation measures: \n",
      "Spearman: SpearmanrResult(correlation=-0.2625292112927547, pvalue=3.4128642993263556e-08)\n",
      "Pearson : (-0.24115166448024994, 4.3032240963845935e-07)\n",
      "R2      : -0.24115166448025008\n"
     ]
    },
    {
     "data": {
      "image/png": "[encoded data removed]",
      "text/plain": [
       "<Figure size 432x288 with 1 Axes>"
      ]
     },
     "metadata": {
      "needs_background": "light"
     },
     "output_type": "display_data"
    },
    {
     "name": "stdout",
     "output_type": "stream",
     "text": [
      "Correlation measures: \n",
      "Spearman: SpearmanrResult(correlation=-0.24389437096890623, pvalue=3.148864282189037e-07)\n",
      "Pearson : (-0.26422831336282854, 2.762537790978615e-08)\n",
      "R2      : -0.26422831336282854\n"
     ]
    },
    {
     "data": {
      "image/png": "[encoded data removed]",
      "text/plain": [
       "<Figure size 432x288 with 1 Axes>"
      ]
     },
     "metadata": {
      "needs_background": "light"
     },
     "output_type": "display_data"
    },
    {
     "name": "stdout",
     "output_type": "stream",
     "text": [
      "Correlation measures: \n",
      "Spearman: SpearmanrResult(correlation=-0.22409998921248006, pvalue=2.761018275190418e-06)\n",
      "Pearson : (-0.2887412532273046, 1.1059786756976674e-09)\n",
      "R2      : -0.28874125322730465\n"
     ]
    },
    {
     "data": {
      "image/png": "[encoded data removed]",
      "text/plain": [
       "<Figure size 432x288 with 1 Axes>"
      ]
     },
     "metadata": {
      "needs_background": "light"
     },
     "output_type": "display_data"
    },
    {
     "name": "stdout",
     "output_type": "stream",
     "text": [
      "Correlation measures: \n",
      "Spearman: SpearmanrResult(correlation=-0.2829639305227858, pvalue=2.4298910182063546e-09)\n",
      "Pearson : (-0.35094182084321296, 7.04341758466854e-14)\n",
      "R2      : -0.35094182084321285\n"
     ]
    },
    {
     "data": {
      "image/png": "[encoded data removed]",
      "text/plain": [
       "<Figure size 432x288 with 1 Axes>"
      ]
     },
     "metadata": {
      "needs_background": "light"
     },
     "output_type": "display_data"
    },
    {
     "name": "stdout",
     "output_type": "stream",
     "text": [
      "Correlation measures: \n",
      "Spearman: SpearmanrResult(correlation=-0.39191216797413453, pvalue=3.3558784957531544e-17)\n",
      "Pearson : (-0.455321661096984, 2.4100301183090785e-23)\n",
      "R2      : -0.4553216610969844\n"
     ]
    },
    {
     "data": {
      "image/png": "[encoded data removed]",
      "text/plain": [
       "<Figure size 432x288 with 1 Axes>"
      ]
     },
     "metadata": {
      "needs_background": "light"
     },
     "output_type": "display_data"
    },
    {
     "name": "stdout",
     "output_type": "stream",
     "text": [
      "Correlation measures: \n",
      "Spearman: SpearmanrResult(correlation=-0.5849803778101913, pvalue=9.553422085697755e-41)\n",
      "Pearson : (-0.6419125706562211, 3.399865863664837e-51)\n",
      "R2      : -0.641912570656221\n"
     ]
    },
    {
     "data": {
      "image/png": "[encoded data removed]",
      "text/plain": [
       "<Figure size 432x288 with 1 Axes>"
      ]
     },
     "metadata": {
      "needs_background": "light"
     },
     "output_type": "display_data"
    },
    {
     "name": "stdout",
     "output_type": "stream",
     "text": [
      "Correlation measures: \n",
      "Spearman: SpearmanrResult(correlation=-0.8028443970083159, pvalue=5.890024990714491e-98)\n",
      "Pearson : (-0.8709158941952619, 7.963351858547651e-134)\n",
      "R2      : -0.8709158941952626\n"
     ]
    },
    {
     "data": {
      "image/png": "[encoded data removed]",
      "text/plain": [
       "<Figure size 432x288 with 1 Axes>"
      ]
     },
     "metadata": {
      "needs_background": "light"
     },
     "output_type": "display_data"
    }
   ],
   "source": [
    "import matplotlib.pyplot as plt\n",
    "import scipy\n",
    "from scipy import stats\n",
    "\n",
    "# Means \n",
    "\n",
    "# Quantiles\n",
    "for i in range(1,10):\n",
    "    # Bivariate analysis of quantiles and losses\n",
    "    x = [np.log10(x+0.01) for (x,y,e) in scatter_data[i]]\n",
    "    y = [y for (x,y,e) in scatter_data[i]]\n",
    "    spearman = scipy.stats.spearmanr(x, y)\n",
    "    pearson  = scipy.stats.pearsonr(x, y)\n",
    "    slope, intercept, r_value, p_value, std_err = scipy.stats.linregress(x, y)\n",
    "    print(\"Correlation measures: \")\n",
    "    print(\"Spearman:\", spearman )\n",
    "    print(\"Pearson :\", pearson  )\n",
    "    print(\"R2      :\", r_value)\n",
    "    # Plot\n",
    "    plt.scatter( x, y , alpha=0.4)\n",
    "    plt.title(f'''FPT quantile at {i*0.1} vs Loss''')\n",
    "    plt.xlabel(\"FPT quantile\")\n",
    "    plt.ylabel(\"Loss\")\n",
    "    plt.savefig(f'''FTP_quantile{i*10}.png''')\n",
    "    plt.show()\n"
   ]
  },
  {
   "cell_type": "code",
   "execution_count": 88,
   "metadata": {},
   "outputs": [
    {
     "name": "stdout",
     "output_type": "stream",
     "text": [
      "Requirement already satisfied: scipy in /home/arouge/.local/lib/python3.8/site-packages (1.8.0)\r\n",
      "Requirement already satisfied: numpy<1.25.0,>=1.17.3 in /home/arouge/.local/lib/python3.8/site-packages (from scipy) (1.22.3)\r\n"
     ]
    }
   ],
   "source": [
    "!pip install scipy\n"
   ]
  },
  {
   "cell_type": "markdown",
   "metadata": {},
   "source": [
    "## III. Interactive plot using Plotly"
   ]
  },
  {
   "cell_type": "code",
   "execution_count": 89,
   "metadata": {},
   "outputs": [
    {
     "name": "stdout",
     "output_type": "stream",
     "text": [
      "Requirement already satisfied: plotly in /home/arouge/.local/lib/python3.8/site-packages (5.7.0)\r\n",
      "Requirement already satisfied: pandas in /home/arouge/.local/lib/python3.8/site-packages (1.4.2)\r\n",
      "Requirement already satisfied: tenacity>=6.2.0 in /home/arouge/.local/lib/python3.8/site-packages (from plotly) (8.0.1)\r\n",
      "Requirement already satisfied: six in /usr/lib/python3/dist-packages (from plotly) (1.14.0)\r\n",
      "Requirement already satisfied: pytz>=2020.1 in /home/arouge/.local/lib/python3.8/site-packages (from pandas) (2022.1)\r\n",
      "Requirement already satisfied: python-dateutil>=2.8.1 in /home/arouge/.local/lib/python3.8/site-packages (from pandas) (2.8.2)\r\n",
      "Requirement already satisfied: numpy>=1.18.5; platform_machine != \"aarch64\" and platform_machine != \"arm64\" and python_version < \"3.10\" in /home/arouge/.local/lib/python3.8/site-packages (from pandas) (1.22.3)\r\n"
     ]
    }
   ],
   "source": [
    "!pip install plotly pandas"
   ]
  },
  {
   "cell_type": "code",
   "execution_count": 90,
   "metadata": {},
   "outputs": [
    {
     "name": "stdout",
     "output_type": "stream",
     "text": [
      "Correlation measures: \n",
      "Spearman: SpearmanrResult(correlation=-0.8028443970083159, pvalue=5.890024990714491e-98)\n",
      "Pearson : (-0.8709158941952619, 7.963351858547651e-134)\n",
      "R2      : -0.8709158941952626\n"
     ]
    },
    {
     "data": {
      "application/vnd.plotly.v1+json": {
       "config": {
        "plotlyServerURL": "https://plot.ly"
       },
       "data": [
        {
         "customdata": [
          [
           "random_Mon_Feb_7_22-50-42_2022.json",
           [
            3,
            3,
            1
           ],
           [
            0.922074019908905,
            0.9219745397567749
           ]
          ],
          [
           "random_Mon_Feb_7_22-50-42_2022.json",
           [
            3,
            3,
            1
           ],
           [
            0.922074019908905,
            0.9219745397567749
           ]
          ],
          [
           "random_Mon_Feb_7_22-50-42_2022.json",
           [
            3,
            3,
            1
           ],
           [
            0.922074019908905,
            0.9219745397567749
           ]
          ],
          [
           "random_Mon_Feb_7_22-50-42_2022.json",
           [
            3,
            3,
            1
           ],
           [
            0.922074019908905,
            0.9219745397567749
           ]
          ],
          [
           "random_Mon_Feb_7_22-50-42_2022.json",
           [
            3,
            3,
            1
           ],
           [
            0.922074019908905,
            0.9219745397567749
           ]
          ],
          [
           "random_Fri_Oct_15_09-15-52_2021.json",
           [
            0.6326530612244898,
            1.0221774193548387,
            0.9132149901380671
           ],
           [
            0.9493431448936462,
            0.9493431448936462
           ]
          ],
          [
           "random_Fri_Oct_15_09-15-52_2021.json",
           [
            0.6326530612244898,
            1.0221774193548387,
            0.9132149901380671
           ],
           [
            0.9493431448936462,
            0.9493431448936462
           ]
          ],
          [
           "random_Fri_Oct_15_09-15-52_2021.json",
           [
            0.6326530612244898,
            1.0221774193548387,
            0.9132149901380671
           ],
           [
            0.9493431448936462,
            0.9493431448936462
           ]
          ],
          [
           "random_Fri_Oct_15_09-15-52_2021.json",
           [
            0.6326530612244898,
            1.0221774193548387,
            0.9132149901380671
           ],
           [
            0.9493431448936462,
            0.9493431448936462
           ]
          ],
          [
           "random_Fri_Oct_15_09-15-52_2021.json",
           [
            0.6326530612244898,
            1.0221774193548387,
            0.9132149901380671
           ],
           [
            0.9493431448936462,
            0.9493431448936462
           ]
          ],
          [
           "random_Fri_Oct_15_09-15-52_2021.json",
           [
            0.6326530612244898,
            1.0221774193548387,
            0.9132149901380671
           ],
           [
            0.9493431448936462,
            0.9493431448936462
           ]
          ],
          [
           "random_Fri_Oct_15_09-15-52_2021.json",
           [
            0.6326530612244898,
            1.0221774193548387,
            0.9132149901380671
           ],
           [
            0.9493431448936462,
            0.9493431448936462
           ]
          ],
          [
           "random_Fri_Oct_15_08-44-05_2021.json",
           [
            0.9170918367346939,
            0.9374130737134909,
            1.2299703264094954
           ],
           [
            0.9613853693008423,
            0.9631767272949219
           ]
          ],
          [
           "random_Fri_Oct_15_08-44-05_2021.json",
           [
            0.9170918367346939,
            0.9374130737134909,
            1.2299703264094954
           ],
           [
            0.9613853693008423,
            0.9631767272949219
           ]
          ],
          [
           "random_Fri_Oct_15_08-44-05_2021.json",
           [
            0.9170918367346939,
            0.9374130737134909,
            1.2299703264094954
           ],
           [
            0.9613853693008423,
            0.9631767272949219
           ]
          ],
          [
           "random_Fri_Oct_15_08-44-05_2021.json",
           [
            0.9170918367346939,
            0.9374130737134909,
            1.2299703264094954
           ],
           [
            0.9613853693008423,
            0.9631767272949219
           ]
          ],
          [
           "random_Fri_Oct_15_08-44-05_2021.json",
           [
            0.9170918367346939,
            0.9374130737134909,
            1.2299703264094954
           ],
           [
            0.9613853693008423,
            0.9631767272949219
           ]
          ],
          [
           "random_Fri_Oct_15_08-44-05_2021.json",
           [
            0.9170918367346939,
            0.9374130737134909,
            1.2299703264094954
           ],
           [
            0.9613853693008423,
            0.9631767272949219
           ]
          ],
          [
           "random_Fri_Oct_15_08-44-05_2021.json",
           [
            0.9170918367346939,
            0.9374130737134909,
            1.2299703264094954
           ],
           [
            0.9613853693008423,
            0.9631767272949219
           ]
          ],
          [
           "random_Mon_Feb_7_22-57-04_2022.json",
           [
            4,
            0.3333333333333333,
            3
           ],
           [
            0.9202826619148254,
            0.9205812215805054
           ]
          ],
          [
           "random_Mon_Feb_7_22-57-04_2022.json",
           [
            4,
            0.3333333333333333,
            3
           ],
           [
            0.9202826619148254,
            0.9205812215805054
           ]
          ],
          [
           "random_Mon_Feb_7_22-57-04_2022.json",
           [
            4,
            0.3333333333333333,
            3
           ],
           [
            0.9202826619148254,
            0.9205812215805054
           ]
          ],
          [
           "random_Mon_Feb_7_22-57-04_2022.json",
           [
            4,
            0.3333333333333333,
            3
           ],
           [
            0.9202826619148254,
            0.9205812215805054
           ]
          ],
          [
           "random_Mon_Feb_7_22-57-04_2022.json",
           [
            4,
            0.3333333333333333,
            3
           ],
           [
            0.9202826619148254,
            0.9205812215805054
           ]
          ],
          [
           "random_Mon_Feb_7_22-47-24_2022.json",
           [
            0.6666666666666666,
            0.6666666666666666,
            4
           ],
           [
            0.9487460255622864,
            0.9465565085411072
           ]
          ],
          [
           "random_Mon_Feb_7_22-47-24_2022.json",
           [
            0.6666666666666666,
            0.6666666666666666,
            4
           ],
           [
            0.9487460255622864,
            0.9465565085411072
           ]
          ],
          [
           "random_Mon_Feb_7_22-47-24_2022.json",
           [
            0.6666666666666666,
            0.6666666666666666,
            4
           ],
           [
            0.9487460255622864,
            0.9465565085411072
           ]
          ],
          [
           "random_Mon_Feb_7_22-47-24_2022.json",
           [
            0.6666666666666666,
            0.6666666666666666,
            4
           ],
           [
            0.9487460255622864,
            0.9465565085411072
           ]
          ],
          [
           "random_Mon_Feb_7_22-47-24_2022.json",
           [
            0.6666666666666666,
            0.6666666666666666,
            4
           ],
           [
            0.9487460255622864,
            0.9465565085411072
           ]
          ],
          [
           "random_Mon_Feb_7_22-56-43_2022.json",
           [
            4,
            2,
            3
           ],
           [
            0.9764131903648376,
            0.9746218323707581
           ]
          ],
          [
           "random_Mon_Feb_7_22-56-43_2022.json",
           [
            4,
            2,
            3
           ],
           [
            0.9764131903648376,
            0.9746218323707581
           ]
          ],
          [
           "random_Mon_Feb_7_22-56-43_2022.json",
           [
            4,
            2,
            3
           ],
           [
            0.9764131903648376,
            0.9746218323707581
           ]
          ],
          [
           "random_Mon_Feb_7_22-56-43_2022.json",
           [
            4,
            2,
            3
           ],
           [
            0.9764131903648376,
            0.9746218323707581
           ]
          ],
          [
           "random_Mon_Feb_7_22-56-43_2022.json",
           [
            4,
            2,
            3
           ],
           [
            0.9764131903648376,
            0.9746218323707581
           ]
          ],
          [
           "random_Mon_Feb_7_22-53-10_2022.json",
           [
            1.5,
            0.5,
            3
           ],
           [
            0.9186902642250061,
            0.9190883636474609
           ]
          ],
          [
           "random_Mon_Feb_7_22-53-10_2022.json",
           [
            1.5,
            0.5,
            3
           ],
           [
            0.9186902642250061,
            0.9190883636474609
           ]
          ],
          [
           "random_Mon_Feb_7_22-53-10_2022.json",
           [
            1.5,
            0.5,
            3
           ],
           [
            0.9186902642250061,
            0.9190883636474609
           ]
          ],
          [
           "random_Mon_Feb_7_22-53-10_2022.json",
           [
            1.5,
            0.5,
            3
           ],
           [
            0.9186902642250061,
            0.9190883636474609
           ]
          ],
          [
           "random_Mon_Feb_7_22-53-10_2022.json",
           [
            1.5,
            0.5,
            3
           ],
           [
            0.9186902642250061,
            0.9190883636474609
           ]
          ],
          [
           "random_Mon_Feb_7_22-46-16_2022.json",
           [
            1,
            1.5,
            0.3333333333333333
           ],
           [
            0.9224721193313599,
            0.9195860028266907
           ]
          ],
          [
           "random_Mon_Feb_7_22-46-16_2022.json",
           [
            1,
            1.5,
            0.3333333333333333
           ],
           [
            0.9224721193313599,
            0.9195860028266907
           ]
          ],
          [
           "random_Mon_Feb_7_22-46-16_2022.json",
           [
            1,
            1.5,
            0.3333333333333333
           ],
           [
            0.9224721193313599,
            0.9195860028266907
           ]
          ],
          [
           "random_Mon_Feb_7_22-46-16_2022.json",
           [
            1,
            1.5,
            0.3333333333333333
           ],
           [
            0.9224721193313599,
            0.9195860028266907
           ]
          ],
          [
           "random_Mon_Feb_7_22-46-16_2022.json",
           [
            1,
            1.5,
            0.3333333333333333
           ],
           [
            0.9224721193313599,
            0.9195860028266907
           ]
          ],
          [
           "random_Mon_Feb_7_22-50-43_2022.json",
           [
            0.5,
            1.5,
            0.3333333333333333
           ],
           [
            0.9471536874771118,
            0.9481489062309265
           ]
          ],
          [
           "random_Mon_Feb_7_22-50-43_2022.json",
           [
            0.5,
            1.5,
            0.3333333333333333
           ],
           [
            0.9471536874771118,
            0.9481489062309265
           ]
          ],
          [
           "random_Mon_Feb_7_22-50-43_2022.json",
           [
            0.5,
            1.5,
            0.3333333333333333
           ],
           [
            0.9471536874771118,
            0.9481489062309265
           ]
          ],
          [
           "random_Mon_Feb_7_22-50-43_2022.json",
           [
            0.5,
            1.5,
            0.3333333333333333
           ],
           [
            0.9471536874771118,
            0.9481489062309265
           ]
          ],
          [
           "random_Mon_Feb_7_22-50-43_2022.json",
           [
            0.5,
            1.5,
            0.3333333333333333
           ],
           [
            0.9471536874771118,
            0.9481489062309265
           ]
          ],
          [
           "random_Mon_Feb_7_22-45-16_2022.json",
           [
            2,
            1,
            0.25
           ],
           [
            0.9538216590881348,
            0.9542197585105896
           ]
          ],
          [
           "random_Mon_Feb_7_22-45-16_2022.json",
           [
            2,
            1,
            0.25
           ],
           [
            0.9538216590881348,
            0.9542197585105896
           ]
          ],
          [
           "random_Mon_Feb_7_22-45-16_2022.json",
           [
            2,
            1,
            0.25
           ],
           [
            0.9538216590881348,
            0.9542197585105896
           ]
          ],
          [
           "random_Mon_Feb_7_22-45-16_2022.json",
           [
            2,
            1,
            0.25
           ],
           [
            0.9538216590881348,
            0.9542197585105896
           ]
          ],
          [
           "random_Mon_Feb_7_22-45-16_2022.json",
           [
            2,
            1,
            0.25
           ],
           [
            0.9538216590881348,
            0.9542197585105896
           ]
          ],
          [
           "random_Fri_Oct_15_09-17-31_2021.json",
           [
            0.36096938775510207,
            1.6254416961130742,
            0.2782608695652174
           ],
           [
            0.9466560482978821,
            0.9471536874771118
           ]
          ],
          [
           "random_Fri_Oct_15_09-17-31_2021.json",
           [
            0.36096938775510207,
            1.6254416961130742,
            0.2782608695652174
           ],
           [
            0.9466560482978821,
            0.9471536874771118
           ]
          ],
          [
           "random_Fri_Oct_15_09-17-31_2021.json",
           [
            0.36096938775510207,
            1.6254416961130742,
            0.2782608695652174
           ],
           [
            0.9466560482978821,
            0.9471536874771118
           ]
          ],
          [
           "random_Fri_Oct_15_09-17-31_2021.json",
           [
            0.36096938775510207,
            1.6254416961130742,
            0.2782608695652174
           ],
           [
            0.9466560482978821,
            0.9471536874771118
           ]
          ],
          [
           "random_Fri_Oct_15_09-17-31_2021.json",
           [
            0.36096938775510207,
            1.6254416961130742,
            0.2782608695652174
           ],
           [
            0.9466560482978821,
            0.9471536874771118
           ]
          ],
          [
           "random_Fri_Oct_15_09-17-31_2021.json",
           [
            0.36096938775510207,
            1.6254416961130742,
            0.2782608695652174
           ],
           [
            0.9466560482978821,
            0.9471536874771118
           ]
          ],
          [
           "random_Fri_Oct_15_09-17-31_2021.json",
           [
            0.36096938775510207,
            1.6254416961130742,
            0.2782608695652174
           ],
           [
            0.9466560482978821,
            0.9471536874771118
           ]
          ],
          [
           "random_Fri_Oct_15_08-56-53_2021.json",
           [
            0.5102040816326531,
            0.9275,
            0.477088948787062
           ],
           [
            0.9478503465652466,
            0.9481489062309265
           ]
          ],
          [
           "random_Fri_Oct_15_08-56-53_2021.json",
           [
            0.5102040816326531,
            0.9275,
            0.477088948787062
           ],
           [
            0.9478503465652466,
            0.9481489062309265
           ]
          ],
          [
           "random_Fri_Oct_15_08-56-53_2021.json",
           [
            0.5102040816326531,
            0.9275,
            0.477088948787062
           ],
           [
            0.9478503465652466,
            0.9481489062309265
           ]
          ],
          [
           "random_Fri_Oct_15_08-56-53_2021.json",
           [
            0.5102040816326531,
            0.9275,
            0.477088948787062
           ],
           [
            0.9478503465652466,
            0.9481489062309265
           ]
          ],
          [
           "random_Fri_Oct_15_08-56-53_2021.json",
           [
            0.5102040816326531,
            0.9275,
            0.477088948787062
           ],
           [
            0.9478503465652466,
            0.9481489062309265
           ]
          ],
          [
           "random_Fri_Oct_15_08-56-53_2021.json",
           [
            0.5102040816326531,
            0.9275,
            0.477088948787062
           ],
           [
            0.9478503465652466,
            0.9481489062309265
           ]
          ],
          [
           "random_Fri_Oct_15_08-56-53_2021.json",
           [
            0.5102040816326531,
            0.9275,
            0.477088948787062
           ],
           [
            0.9478503465652466,
            0.9481489062309265
           ]
          ],
          [
           "random_Mon_Feb_7_22-51-11_2022.json",
           [
            2,
            3,
            4
           ],
           [
            0.9505374431610107,
            0.9501393437385559
           ]
          ],
          [
           "random_Mon_Feb_7_22-51-11_2022.json",
           [
            2,
            3,
            4
           ],
           [
            0.9505374431610107,
            0.9501393437385559
           ]
          ],
          [
           "random_Mon_Feb_7_22-51-11_2022.json",
           [
            2,
            3,
            4
           ],
           [
            0.9505374431610107,
            0.9501393437385559
           ]
          ],
          [
           "random_Mon_Feb_7_22-51-11_2022.json",
           [
            2,
            3,
            4
           ],
           [
            0.9505374431610107,
            0.9501393437385559
           ]
          ],
          [
           "random_Mon_Feb_7_22-51-11_2022.json",
           [
            2,
            3,
            4
           ],
           [
            0.9505374431610107,
            0.9501393437385559
           ]
          ],
          [
           "random_Mon_Feb_7_22-57-02_2022.json",
           [
            1,
            0.25,
            3
           ],
           [
            0.9618829488754272,
            0.9612858295440674
           ]
          ],
          [
           "random_Mon_Feb_7_22-57-02_2022.json",
           [
            1,
            0.25,
            3
           ],
           [
            0.9618829488754272,
            0.9612858295440674
           ]
          ],
          [
           "random_Mon_Feb_7_22-57-02_2022.json",
           [
            1,
            0.25,
            3
           ],
           [
            0.9618829488754272,
            0.9612858295440674
           ]
          ],
          [
           "random_Mon_Feb_7_22-57-02_2022.json",
           [
            1,
            0.25,
            3
           ],
           [
            0.9618829488754272,
            0.9612858295440674
           ]
          ],
          [
           "random_Mon_Feb_7_22-57-02_2022.json",
           [
            1,
            0.25,
            3
           ],
           [
            0.9618829488754272,
            0.9612858295440674
           ]
          ],
          [
           "random_Mon_Feb_7_22-54-36_2022.json",
           [
            0.6666666666666666,
            4,
            3
           ],
           [
            0.9455612897872925,
            0.9465565085411072
           ]
          ],
          [
           "random_Mon_Feb_7_22-54-36_2022.json",
           [
            0.6666666666666666,
            4,
            3
           ],
           [
            0.9455612897872925,
            0.9465565085411072
           ]
          ],
          [
           "random_Mon_Feb_7_22-54-36_2022.json",
           [
            0.6666666666666666,
            4,
            3
           ],
           [
            0.9455612897872925,
            0.9465565085411072
           ]
          ],
          [
           "random_Mon_Feb_7_22-54-36_2022.json",
           [
            0.6666666666666666,
            4,
            3
           ],
           [
            0.9455612897872925,
            0.9465565085411072
           ]
          ],
          [
           "random_Mon_Feb_7_22-47-58_2022.json",
           [
            4,
            0.5,
            4
           ],
           [
            0.918988823890686,
            0.9213773608207703
           ]
          ],
          [
           "random_Mon_Feb_7_22-47-58_2022.json",
           [
            4,
            0.5,
            4
           ],
           [
            0.918988823890686,
            0.9213773608207703
           ]
          ],
          [
           "random_Mon_Feb_7_22-47-58_2022.json",
           [
            4,
            0.5,
            4
           ],
           [
            0.918988823890686,
            0.9213773608207703
           ]
          ],
          [
           "random_Mon_Feb_7_22-47-58_2022.json",
           [
            4,
            0.5,
            4
           ],
           [
            0.918988823890686,
            0.9213773608207703
           ]
          ],
          [
           "random_Mon_Feb_7_22-50-34_2022.json",
           [
            1,
            0.6666666666666666,
            2
           ],
           [
            0.9480493664741516,
            0.9468550682067871
           ]
          ],
          [
           "random_Mon_Feb_7_22-50-34_2022.json",
           [
            1,
            0.6666666666666666,
            2
           ],
           [
            0.9480493664741516,
            0.9468550682067871
           ]
          ],
          [
           "random_Mon_Feb_7_22-50-34_2022.json",
           [
            1,
            0.6666666666666666,
            2
           ],
           [
            0.9480493664741516,
            0.9468550682067871
           ]
          ],
          [
           "random_Mon_Feb_7_22-50-34_2022.json",
           [
            1,
            0.6666666666666666,
            2
           ],
           [
            0.9480493664741516,
            0.9468550682067871
           ]
          ],
          [
           "random_Mon_Feb_7_22-54-03_2022.json",
           [
            1,
            0.6666666666666666,
            2
           ],
           [
            0.965465784072876,
            0.9665604829788208
           ]
          ],
          [
           "random_Mon_Feb_7_22-54-03_2022.json",
           [
            1,
            0.6666666666666666,
            2
           ],
           [
            0.965465784072876,
            0.9665604829788208
           ]
          ],
          [
           "random_Mon_Feb_7_22-54-03_2022.json",
           [
            1,
            0.6666666666666666,
            2
           ],
           [
            0.965465784072876,
            0.9665604829788208
           ]
          ],
          [
           "random_Mon_Feb_7_22-54-03_2022.json",
           [
            1,
            0.6666666666666666,
            2
           ],
           [
            0.965465784072876,
            0.9665604829788208
           ]
          ],
          [
           "random_Mon_Feb_7_22-47-50_2022.json",
           [
            0.6666666666666666,
            0.3333333333333333,
            2
           ],
           [
            0.9598925113677979,
            0.9616839289665222
           ]
          ],
          [
           "random_Mon_Feb_7_22-47-50_2022.json",
           [
            0.6666666666666666,
            0.3333333333333333,
            2
           ],
           [
            0.9598925113677979,
            0.9616839289665222
           ]
          ],
          [
           "random_Mon_Feb_7_22-47-50_2022.json",
           [
            0.6666666666666666,
            0.3333333333333333,
            2
           ],
           [
            0.9598925113677979,
            0.9616839289665222
           ]
          ],
          [
           "random_Mon_Feb_7_22-47-50_2022.json",
           [
            0.6666666666666666,
            0.3333333333333333,
            2
           ],
           [
            0.9598925113677979,
            0.9616839289665222
           ]
          ],
          [
           "random_Mon_Feb_7_22-56-45_2022.json",
           [
            1,
            0.5,
            0.3333333333333333
           ],
           [
            0.921675980091095,
            0.9217754602432251
           ]
          ],
          [
           "random_Mon_Feb_7_22-56-45_2022.json",
           [
            1,
            0.5,
            0.3333333333333333
           ],
           [
            0.921675980091095,
            0.9217754602432251
           ]
          ],
          [
           "random_Mon_Feb_7_22-56-45_2022.json",
           [
            1,
            0.5,
            0.3333333333333333
           ],
           [
            0.921675980091095,
            0.9217754602432251
           ]
          ],
          [
           "random_Mon_Feb_7_22-56-45_2022.json",
           [
            1,
            0.5,
            0.3333333333333333
           ],
           [
            0.921675980091095,
            0.9217754602432251
           ]
          ],
          [
           "random_Fri_Oct_15_08-54-46_2021.json",
           [
            0.8941326530612245,
            0.6847360912981455,
            1.3520833333333333
           ],
           [
            0.944167971611023,
            0.9428741931915283
           ]
          ],
          [
           "random_Fri_Oct_15_08-54-46_2021.json",
           [
            0.8941326530612245,
            0.6847360912981455,
            1.3520833333333333
           ],
           [
            0.944167971611023,
            0.9428741931915283
           ]
          ],
          [
           "random_Fri_Oct_15_08-54-46_2021.json",
           [
            0.8941326530612245,
            0.6847360912981455,
            1.3520833333333333
           ],
           [
            0.944167971611023,
            0.9428741931915283
           ]
          ],
          [
           "random_Fri_Oct_15_08-54-46_2021.json",
           [
            0.8941326530612245,
            0.6847360912981455,
            1.3520833333333333
           ],
           [
            0.944167971611023,
            0.9428741931915283
           ]
          ],
          [
           "random_Fri_Oct_15_08-54-46_2021.json",
           [
            0.8941326530612245,
            0.6847360912981455,
            1.3520833333333333
           ],
           [
            0.944167971611023,
            0.9428741931915283
           ]
          ],
          [
           "random_Fri_Oct_15_08-54-46_2021.json",
           [
            0.8941326530612245,
            0.6847360912981455,
            1.3520833333333333
           ],
           [
            0.944167971611023,
            0.9428741931915283
           ]
          ],
          [
           "random_Fri_Oct_15_08-54-46_2021.json",
           [
            0.8941326530612245,
            0.6847360912981455,
            1.3520833333333333
           ],
           [
            0.944167971611023,
            0.9428741931915283
           ]
          ],
          [
           "random_Fri_Oct_15_08-54-46_2021.json",
           [
            0.8941326530612245,
            0.6847360912981455,
            1.3520833333333333
           ],
           [
            0.944167971611023,
            0.9428741931915283
           ]
          ],
          [
           "random_Mon_Feb_7_22-52-03_2022.json",
           [
            0.25,
            2,
            1.5
           ],
           [
            0.9590963125228882,
            0.9596934914588928
           ]
          ],
          [
           "random_Mon_Feb_7_22-52-03_2022.json",
           [
            0.25,
            2,
            1.5
           ],
           [
            0.9590963125228882,
            0.9596934914588928
           ]
          ],
          [
           "random_Mon_Feb_7_22-52-03_2022.json",
           [
            0.25,
            2,
            1.5
           ],
           [
            0.9590963125228882,
            0.9596934914588928
           ]
          ],
          [
           "random_Mon_Feb_7_22-52-03_2022.json",
           [
            0.25,
            2,
            1.5
           ],
           [
            0.9590963125228882,
            0.9596934914588928
           ]
          ],
          [
           "random_Mon_Feb_7_22-46-07_2022.json",
           [
            2,
            0.5,
            0.5
           ],
           [
            0.9535230994224548,
            0.9527269005775452
           ]
          ],
          [
           "random_Mon_Feb_7_22-46-07_2022.json",
           [
            2,
            0.5,
            0.5
           ],
           [
            0.9535230994224548,
            0.9527269005775452
           ]
          ],
          [
           "random_Mon_Feb_7_22-46-07_2022.json",
           [
            2,
            0.5,
            0.5
           ],
           [
            0.9535230994224548,
            0.9527269005775452
           ]
          ],
          [
           "random_Mon_Feb_7_22-46-07_2022.json",
           [
            2,
            0.5,
            0.5
           ],
           [
            0.9535230994224548,
            0.9527269005775452
           ]
          ],
          [
           "random_Mon_Feb_7_22-54-01_2022.json",
           [
            0.6666666666666666,
            1.5,
            0.3333333333333333
           ],
           [
            0.9497412443161011,
            0.9483479261398315
           ]
          ],
          [
           "random_Mon_Feb_7_22-54-01_2022.json",
           [
            0.6666666666666666,
            1.5,
            0.3333333333333333
           ],
           [
            0.9497412443161011,
            0.9483479261398315
           ]
          ],
          [
           "random_Mon_Feb_7_22-54-01_2022.json",
           [
            0.6666666666666666,
            1.5,
            0.3333333333333333
           ],
           [
            0.9497412443161011,
            0.9483479261398315
           ]
          ],
          [
           "random_Mon_Feb_7_22-54-01_2022.json",
           [
            0.6666666666666666,
            1.5,
            0.3333333333333333
           ],
           [
            0.9497412443161011,
            0.9483479261398315
           ]
          ],
          [
           "random_Mon_Feb_7_22-45-45_2022.json",
           [
            4,
            0.5,
            0.3333333333333333
           ],
           [
            0.9733280539512634,
            0.974920392036438
           ]
          ],
          [
           "random_Mon_Feb_7_22-45-45_2022.json",
           [
            4,
            0.5,
            0.3333333333333333
           ],
           [
            0.9733280539512634,
            0.974920392036438
           ]
          ],
          [
           "random_Mon_Feb_7_22-45-45_2022.json",
           [
            4,
            0.5,
            0.3333333333333333
           ],
           [
            0.9733280539512634,
            0.974920392036438
           ]
          ],
          [
           "random_Mon_Feb_7_22-45-45_2022.json",
           [
            4,
            0.5,
            0.3333333333333333
           ],
           [
            0.9733280539512634,
            0.974920392036438
           ]
          ],
          [
           "random_Mon_Feb_7_22-51-50_2022.json",
           [
            2,
            0.25,
            3
           ],
           [
            0.9492436051368713,
            0.9528264403343201
           ]
          ],
          [
           "random_Mon_Feb_7_22-51-50_2022.json",
           [
            2,
            0.25,
            3
           ],
           [
            0.9492436051368713,
            0.9528264403343201
           ]
          ],
          [
           "random_Mon_Feb_7_22-51-50_2022.json",
           [
            2,
            0.25,
            3
           ],
           [
            0.9492436051368713,
            0.9528264403343201
           ]
          ],
          [
           "random_Mon_Feb_7_22-51-50_2022.json",
           [
            2,
            0.25,
            3
           ],
           [
            0.9492436051368713,
            0.9528264403343201
           ]
          ],
          [
           "random_Mon_Feb_7_22-47-19_2022.json",
           [
            1,
            4,
            0.6666666666666666
           ],
           [
            0.9714370965957642,
            0.9703423380851746
           ]
          ],
          [
           "random_Mon_Feb_7_22-47-19_2022.json",
           [
            1,
            4,
            0.6666666666666666
           ],
           [
            0.9714370965957642,
            0.9703423380851746
           ]
          ],
          [
           "random_Mon_Feb_7_22-47-19_2022.json",
           [
            1,
            4,
            0.6666666666666666
           ],
           [
            0.9714370965957642,
            0.9703423380851746
           ]
          ],
          [
           "random_Fri_Oct_15_09-01-33_2021.json",
           [
            1.052295918367347,
            1.0618181818181818,
            1.0114155251141552
           ],
           [
            0.9506369233131409,
            0.9507364630699158
           ]
          ],
          [
           "random_Fri_Oct_15_09-01-33_2021.json",
           [
            1.052295918367347,
            1.0618181818181818,
            1.0114155251141552
           ],
           [
            0.9506369233131409,
            0.9507364630699158
           ]
          ],
          [
           "random_Fri_Oct_15_09-01-33_2021.json",
           [
            1.052295918367347,
            1.0618181818181818,
            1.0114155251141552
           ],
           [
            0.9506369233131409,
            0.9507364630699158
           ]
          ],
          [
           "random_Fri_Oct_15_09-01-33_2021.json",
           [
            1.052295918367347,
            1.0618181818181818,
            1.0114155251141552
           ],
           [
            0.9506369233131409,
            0.9507364630699158
           ]
          ],
          [
           "random_Fri_Oct_15_09-01-33_2021.json",
           [
            1.052295918367347,
            1.0618181818181818,
            1.0114155251141552
           ],
           [
            0.9506369233131409,
            0.9507364630699158
           ]
          ],
          [
           "random_Fri_Oct_15_09-01-33_2021.json",
           [
            1.052295918367347,
            1.0618181818181818,
            1.0114155251141552
           ],
           [
            0.9506369233131409,
            0.9507364630699158
           ]
          ],
          [
           "random_Mon_Feb_7_22-54-44_2022.json",
           [
            1.5,
            0.6666666666666666,
            1
           ],
           [
            0.9705414175987244,
            0.9709395170211792
           ]
          ],
          [
           "random_Mon_Feb_7_22-54-44_2022.json",
           [
            1.5,
            0.6666666666666666,
            1
           ],
           [
            0.9705414175987244,
            0.9709395170211792
           ]
          ],
          [
           "random_Mon_Feb_7_22-54-44_2022.json",
           [
            1.5,
            0.6666666666666666,
            1
           ],
           [
            0.9705414175987244,
            0.9709395170211792
           ]
          ],
          [
           "random_Fri_Oct_15_09-15-23_2021.json",
           [
            0.3201530612244898,
            1.2350597609561753,
            1.403225806451613
           ],
           [
            0.944167971611023,
            0.9452627301216125
           ]
          ],
          [
           "random_Fri_Oct_15_09-15-23_2021.json",
           [
            0.3201530612244898,
            1.2350597609561753,
            1.403225806451613
           ],
           [
            0.944167971611023,
            0.9452627301216125
           ]
          ],
          [
           "random_Fri_Oct_15_09-15-23_2021.json",
           [
            0.3201530612244898,
            1.2350597609561753,
            1.403225806451613
           ],
           [
            0.944167971611023,
            0.9452627301216125
           ]
          ],
          [
           "random_Fri_Oct_15_09-15-23_2021.json",
           [
            0.3201530612244898,
            1.2350597609561753,
            1.403225806451613
           ],
           [
            0.944167971611023,
            0.9452627301216125
           ]
          ],
          [
           "random_Fri_Oct_15_09-15-23_2021.json",
           [
            0.3201530612244898,
            1.2350597609561753,
            1.403225806451613
           ],
           [
            0.944167971611023,
            0.9452627301216125
           ]
          ],
          [
           "random_Fri_Oct_15_09-15-23_2021.json",
           [
            0.3201530612244898,
            1.2350597609561753,
            1.403225806451613
           ],
           [
            0.944167971611023,
            0.9452627301216125
           ]
          ],
          [
           "random_Fri_Oct_15_09-16-55_2021.json",
           [
            0.2627551020408163,
            0.6067961165048543,
            0.52
           ],
           [
            0.9454618096351624,
            0.9465565085411072
           ]
          ],
          [
           "random_Fri_Oct_15_09-16-55_2021.json",
           [
            0.2627551020408163,
            0.6067961165048543,
            0.52
           ],
           [
            0.9454618096351624,
            0.9465565085411072
           ]
          ],
          [
           "random_Fri_Oct_15_09-16-55_2021.json",
           [
            0.2627551020408163,
            0.6067961165048543,
            0.52
           ],
           [
            0.9454618096351624,
            0.9465565085411072
           ]
          ],
          [
           "random_Fri_Oct_15_09-16-55_2021.json",
           [
            0.2627551020408163,
            0.6067961165048543,
            0.52
           ],
           [
            0.9454618096351624,
            0.9465565085411072
           ]
          ],
          [
           "random_Fri_Oct_15_09-16-55_2021.json",
           [
            0.2627551020408163,
            0.6067961165048543,
            0.52
           ],
           [
            0.9454618096351624,
            0.9465565085411072
           ]
          ],
          [
           "random_Fri_Oct_15_09-16-55_2021.json",
           [
            0.2627551020408163,
            0.6067961165048543,
            0.52
           ],
           [
            0.9454618096351624,
            0.9465565085411072
           ]
          ],
          [
           "random_Mon_Feb_7_22-55-37_2022.json",
           [
            0.25,
            3,
            0.6666666666666666
           ],
           [
            0.946755588054657,
            0.9439689517021179
           ]
          ],
          [
           "random_Mon_Feb_7_22-55-37_2022.json",
           [
            0.25,
            3,
            0.6666666666666666
           ],
           [
            0.946755588054657,
            0.9439689517021179
           ]
          ],
          [
           "random_Mon_Feb_7_22-55-37_2022.json",
           [
            0.25,
            3,
            0.6666666666666666
           ],
           [
            0.946755588054657,
            0.9439689517021179
           ]
          ],
          [
           "random_Mon_Feb_7_22-55-37_2022.json",
           [
            0.25,
            3,
            0.6666666666666666
           ],
           [
            0.946755588054657,
            0.9439689517021179
           ]
          ],
          [
           "random_Fri_Oct_15_09-21-07_2021.json",
           [
            0.29081632653061223,
            0.9298245614035088,
            0.660377358490566
           ],
           [
            0.9573049545288086,
            0.9575039744377136
           ]
          ],
          [
           "random_Fri_Oct_15_09-21-07_2021.json",
           [
            0.29081632653061223,
            0.9298245614035088,
            0.660377358490566
           ],
           [
            0.9573049545288086,
            0.9575039744377136
           ]
          ],
          [
           "random_Fri_Oct_15_09-21-07_2021.json",
           [
            0.29081632653061223,
            0.9298245614035088,
            0.660377358490566
           ],
           [
            0.9573049545288086,
            0.9575039744377136
           ]
          ],
          [
           "random_Fri_Oct_15_09-21-07_2021.json",
           [
            0.29081632653061223,
            0.9298245614035088,
            0.660377358490566
           ],
           [
            0.9573049545288086,
            0.9575039744377136
           ]
          ],
          [
           "random_Fri_Oct_15_09-21-07_2021.json",
           [
            0.29081632653061223,
            0.9298245614035088,
            0.660377358490566
           ],
           [
            0.9573049545288086,
            0.9575039744377136
           ]
          ],
          [
           "random_Fri_Oct_15_09-21-07_2021.json",
           [
            0.29081632653061223,
            0.9298245614035088,
            0.660377358490566
           ],
           [
            0.9573049545288086,
            0.9575039744377136
           ]
          ],
          [
           "random_Mon_Feb_7_22-54-50_2022.json",
           [
            0.25,
            1.5,
            1
           ],
           [
            0.9577030539512634,
            0.9571058750152588
           ]
          ],
          [
           "random_Mon_Feb_7_22-54-50_2022.json",
           [
            0.25,
            1.5,
            1
           ],
           [
            0.9577030539512634,
            0.9571058750152588
           ]
          ],
          [
           "random_Mon_Feb_7_22-54-50_2022.json",
           [
            0.25,
            1.5,
            1
           ],
           [
            0.9577030539512634,
            0.9571058750152588
           ]
          ],
          [
           "random_Mon_Feb_7_22-53-07_2022.json",
           [
            3,
            1,
            0.25
           ],
           [
            0.9741241931915283,
            0.9738256335258484
           ]
          ],
          [
           "random_Mon_Feb_7_22-53-07_2022.json",
           [
            3,
            1,
            0.25
           ],
           [
            0.9741241931915283,
            0.9738256335258484
           ]
          ],
          [
           "random_Mon_Feb_7_22-53-07_2022.json",
           [
            3,
            1,
            0.25
           ],
           [
            0.9741241931915283,
            0.9738256335258484
           ]
          ],
          [
           "random_Fri_Oct_22_10-40-58_2021.json",
           [
            0.33418367346938777,
            0.3282442748091603,
            0.3023255813953488
           ],
           [
            0.9542197585105896,
            0.9542197585105896
           ]
          ],
          [
           "random_Fri_Oct_22_10-40-58_2021.json",
           [
            0.33418367346938777,
            0.3282442748091603,
            0.3023255813953488
           ],
           [
            0.9542197585105896,
            0.9542197585105896
           ]
          ],
          [
           "random_Fri_Oct_22_10-40-58_2021.json",
           [
            0.33418367346938777,
            0.3282442748091603,
            0.3023255813953488
           ],
           [
            0.9542197585105896,
            0.9542197585105896
           ]
          ],
          [
           "random_Fri_Oct_22_10-40-58_2021.json",
           [
            0.33418367346938777,
            0.3282442748091603,
            0.3023255813953488
           ],
           [
            0.9542197585105896,
            0.9542197585105896
           ]
          ],
          [
           "random_Fri_Oct_22_10-40-58_2021.json",
           [
            0.33418367346938777,
            0.3282442748091603,
            0.3023255813953488
           ],
           [
            0.9542197585105896,
            0.9542197585105896
           ]
          ],
          [
           "random_Fri_Oct_22_10-40-58_2021.json",
           [
            0.33418367346938777,
            0.3282442748091603,
            0.3023255813953488
           ],
           [
            0.9542197585105896,
            0.9542197585105896
           ]
          ],
          [
           "random_Mon_Feb_7_22-54-06_2022.json",
           [
            0.6666666666666666,
            0.25,
            3
           ],
           [
            0.9486464858055115,
            0.9486464858055115
           ]
          ],
          [
           "random_Mon_Feb_7_22-54-06_2022.json",
           [
            0.6666666666666666,
            0.25,
            3
           ],
           [
            0.9486464858055115,
            0.9486464858055115
           ]
          ],
          [
           "random_Mon_Feb_7_22-54-06_2022.json",
           [
            0.6666666666666666,
            0.25,
            3
           ],
           [
            0.9486464858055115,
            0.9486464858055115
           ]
          ],
          [
           "random_Mon_Feb_7_22-54-06_2022.json",
           [
            0.6666666666666666,
            0.25,
            3
           ],
           [
            0.9486464858055115,
            0.9486464858055115
           ]
          ],
          [
           "random_Mon_Feb_7_22-50-59_2022.json",
           [
            0.3333333333333333,
            3,
            1.5
           ],
           [
            0.9117237329483032,
            0.9118232727050781
           ]
          ],
          [
           "random_Mon_Feb_7_22-50-59_2022.json",
           [
            0.3333333333333333,
            3,
            1.5
           ],
           [
            0.9117237329483032,
            0.9118232727050781
           ]
          ],
          [
           "random_Mon_Feb_7_22-50-59_2022.json",
           [
            0.3333333333333333,
            3,
            1.5
           ],
           [
            0.9117237329483032,
            0.9118232727050781
           ]
          ],
          [
           "random_Mon_Feb_7_22-50-59_2022.json",
           [
            0.3333333333333333,
            3,
            1.5
           ],
           [
            0.9117237329483032,
            0.9118232727050781
           ]
          ],
          [
           "random_Mon_Feb_7_22-55-05_2022.json",
           [
            0.3333333333333333,
            1,
            2
           ],
           [
            0.9448646306991577,
            0.9457603693008423
           ]
          ],
          [
           "random_Mon_Feb_7_22-55-05_2022.json",
           [
            0.3333333333333333,
            1,
            2
           ],
           [
            0.9448646306991577,
            0.9457603693008423
           ]
          ],
          [
           "random_Mon_Feb_7_22-55-05_2022.json",
           [
            0.3333333333333333,
            1,
            2
           ],
           [
            0.9448646306991577,
            0.9457603693008423
           ]
          ],
          [
           "random_Mon_Feb_7_22-55-05_2022.json",
           [
            0.3333333333333333,
            1,
            2
           ],
           [
            0.9448646306991577,
            0.9457603693008423
           ]
          ],
          [
           "random_Mon_Feb_7_22-51-01_2022.json",
           [
            4,
            0.5,
            4
           ],
           [
            0.9197850227355957,
            0.9206807613372803
           ]
          ],
          [
           "random_Mon_Feb_7_22-51-01_2022.json",
           [
            4,
            0.5,
            4
           ],
           [
            0.9197850227355957,
            0.9206807613372803
           ]
          ],
          [
           "random_Mon_Feb_7_22-51-01_2022.json",
           [
            4,
            0.5,
            4
           ],
           [
            0.9197850227355957,
            0.9206807613372803
           ]
          ],
          [
           "random_Mon_Feb_7_22-48-53_2022.json",
           [
            0.25,
            0.3333333333333333,
            3
           ],
           [
            0.9419785141944885,
            0.943869411945343
           ]
          ],
          [
           "random_Mon_Feb_7_22-48-53_2022.json",
           [
            0.25,
            0.3333333333333333,
            3
           ],
           [
            0.9419785141944885,
            0.943869411945343
           ]
          ],
          [
           "random_Mon_Feb_7_22-48-53_2022.json",
           [
            0.25,
            0.3333333333333333,
            3
           ],
           [
            0.9419785141944885,
            0.943869411945343
           ]
          ],
          [
           "random_Mon_Feb_7_22-48-53_2022.json",
           [
            0.25,
            0.3333333333333333,
            3
           ],
           [
            0.9419785141944885,
            0.943869411945343
           ]
          ],
          [
           "random_Mon_Feb_7_22-55-01_2022.json",
           [
            3,
            0.3333333333333333,
            2
           ],
           [
            0.9712380766868591,
            0.9714370965957642
           ]
          ],
          [
           "random_Mon_Feb_7_22-55-01_2022.json",
           [
            3,
            0.3333333333333333,
            2
           ],
           [
            0.9712380766868591,
            0.9714370965957642
           ]
          ],
          [
           "random_Mon_Feb_7_22-55-01_2022.json",
           [
            3,
            0.3333333333333333,
            2
           ],
           [
            0.9712380766868591,
            0.9714370965957642
           ]
          ],
          [
           "random_Mon_Feb_7_22-55-06_2022.json",
           [
            0.3333333333333333,
            3,
            4
           ],
           [
            0.9633758068084717,
            0.9621815085411072
           ]
          ],
          [
           "random_Mon_Feb_7_22-55-06_2022.json",
           [
            0.3333333333333333,
            3,
            4
           ],
           [
            0.9633758068084717,
            0.9621815085411072
           ]
          ],
          [
           "random_Mon_Feb_7_22-55-06_2022.json",
           [
            0.3333333333333333,
            3,
            4
           ],
           [
            0.9633758068084717,
            0.9621815085411072
           ]
          ],
          [
           "random_Mon_Feb_7_22-55-06_2022.json",
           [
            0.3333333333333333,
            3,
            4
           ],
           [
            0.9633758068084717,
            0.9621815085411072
           ]
          ],
          [
           "random_Mon_Feb_7_22-55-04_2022.json",
           [
            0.5,
            3,
            4
           ],
           [
            0.9133160710334778,
            0.9109275341033936
           ]
          ],
          [
           "random_Mon_Feb_7_22-55-04_2022.json",
           [
            0.5,
            3,
            4
           ],
           [
            0.9133160710334778,
            0.9109275341033936
           ]
          ],
          [
           "random_Mon_Feb_7_22-55-04_2022.json",
           [
            0.5,
            3,
            4
           ],
           [
            0.9133160710334778,
            0.9109275341033936
           ]
          ],
          [
           "random_Mon_Feb_7_22-57-51_2022.json",
           [
            1,
            1.5,
            0.5
           ],
           [
            0.9678543210029602,
            0.9674562215805054
           ]
          ],
          [
           "random_Mon_Feb_7_22-57-51_2022.json",
           [
            1,
            1.5,
            0.5
           ],
           [
            0.9678543210029602,
            0.9674562215805054
           ]
          ],
          [
           "random_Mon_Feb_7_22-57-51_2022.json",
           [
            1,
            1.5,
            0.5
           ],
           [
            0.9678543210029602,
            0.9674562215805054
           ]
          ],
          [
           "random_Mon_Feb_7_22-57-51_2022.json",
           [
            1,
            1.5,
            0.5
           ],
           [
            0.9678543210029602,
            0.9674562215805054
           ]
          ],
          [
           "random_Mon_Feb_7_22-53-09_2022.json",
           [
            3,
            0.25,
            0.6666666666666666
           ],
           [
            0.9544187784194946,
            0.9538216590881348
           ]
          ],
          [
           "random_Mon_Feb_7_22-53-09_2022.json",
           [
            3,
            0.25,
            0.6666666666666666
           ],
           [
            0.9544187784194946,
            0.9538216590881348
           ]
          ],
          [
           "random_Mon_Feb_7_22-53-09_2022.json",
           [
            3,
            0.25,
            0.6666666666666666
           ],
           [
            0.9544187784194946,
            0.9538216590881348
           ]
          ],
          [
           "random_Mon_Feb_7_22-53-09_2022.json",
           [
            3,
            0.25,
            0.6666666666666666
           ],
           [
            0.9544187784194946,
            0.9538216590881348
           ]
          ],
          [
           "random_Fri_Oct_15_09-02-02_2021.json",
           [
            0.32653061224489793,
            1.0625,
            1.099264705882353
           ],
           [
            0.9439689517021179,
            0.9440684914588928
           ]
          ],
          [
           "random_Fri_Oct_15_09-02-02_2021.json",
           [
            0.32653061224489793,
            1.0625,
            1.099264705882353
           ],
           [
            0.9439689517021179,
            0.9440684914588928
           ]
          ],
          [
           "random_Fri_Oct_15_09-02-02_2021.json",
           [
            0.32653061224489793,
            1.0625,
            1.099264705882353
           ],
           [
            0.9439689517021179,
            0.9440684914588928
           ]
          ],
          [
           "random_Fri_Oct_15_09-02-02_2021.json",
           [
            0.32653061224489793,
            1.0625,
            1.099264705882353
           ],
           [
            0.9439689517021179,
            0.9440684914588928
           ]
          ],
          [
           "random_Fri_Oct_15_09-02-02_2021.json",
           [
            0.32653061224489793,
            1.0625,
            1.099264705882353
           ],
           [
            0.9439689517021179,
            0.9440684914588928
           ]
          ],
          [
           "random_Fri_Oct_15_09-02-02_2021.json",
           [
            0.32653061224489793,
            1.0625,
            1.099264705882353
           ],
           [
            0.9439689517021179,
            0.9440684914588928
           ]
          ],
          [
           "random_Fri_Oct_15_09-04-41_2021.json",
           [
            0.7091836734693877,
            0.5863309352517986,
            1.6288343558282208
           ],
           [
            0.9492436051368713,
            0.9487460255622864
           ]
          ],
          [
           "random_Fri_Oct_15_09-04-41_2021.json",
           [
            0.7091836734693877,
            0.5863309352517986,
            1.6288343558282208
           ],
           [
            0.9492436051368713,
            0.9487460255622864
           ]
          ],
          [
           "random_Fri_Oct_15_09-04-41_2021.json",
           [
            0.7091836734693877,
            0.5863309352517986,
            1.6288343558282208
           ],
           [
            0.9492436051368713,
            0.9487460255622864
           ]
          ],
          [
           "random_Fri_Oct_15_09-04-41_2021.json",
           [
            0.7091836734693877,
            0.5863309352517986,
            1.6288343558282208
           ],
           [
            0.9492436051368713,
            0.9487460255622864
           ]
          ],
          [
           "random_Fri_Oct_15_09-04-41_2021.json",
           [
            0.7091836734693877,
            0.5863309352517986,
            1.6288343558282208
           ],
           [
            0.9492436051368713,
            0.9487460255622864
           ]
          ],
          [
           "random_Fri_Oct_15_09-04-41_2021.json",
           [
            0.7091836734693877,
            0.5863309352517986,
            1.6288343558282208
           ],
           [
            0.9492436051368713,
            0.9487460255622864
           ]
          ],
          [
           "random_Fri_Oct_15_09-04-41_2021.json",
           [
            0.7091836734693877,
            0.5863309352517986,
            1.6288343558282208
           ],
           [
            0.9492436051368713,
            0.9487460255622864
           ]
          ],
          [
           "random_Fri_Oct_15_09-04-41_2021.json",
           [
            0.7091836734693877,
            0.5863309352517986,
            1.6288343558282208
           ],
           [
            0.9492436051368713,
            0.9487460255622864
           ]
          ],
          [
           "random_Mon_Feb_7_22-45-35_2022.json",
           [
            2,
            0.3333333333333333,
            1.5
           ],
           [
            0.9207802414894104,
            0.9211783409118652
           ]
          ],
          [
           "random_Mon_Feb_7_22-45-35_2022.json",
           [
            2,
            0.3333333333333333,
            1.5
           ],
           [
            0.9207802414894104,
            0.9211783409118652
           ]
          ],
          [
           "random_Mon_Feb_7_22-45-35_2022.json",
           [
            2,
            0.3333333333333333,
            1.5
           ],
           [
            0.9207802414894104,
            0.9211783409118652
           ]
          ],
          [
           "random_Mon_Feb_7_22-45-35_2022.json",
           [
            2,
            0.3333333333333333,
            1.5
           ],
           [
            0.9207802414894104,
            0.9211783409118652
           ]
          ],
          [
           "random_Mon_Feb_7_22-51-28_2022.json",
           [
            0.25,
            3,
            1.5
           ],
           [
            0.9635748267173767,
            0.9617834687232971
           ]
          ],
          [
           "random_Mon_Feb_7_22-51-28_2022.json",
           [
            0.25,
            3,
            1.5
           ],
           [
            0.9635748267173767,
            0.9617834687232971
           ]
          ],
          [
           "random_Mon_Feb_7_22-51-28_2022.json",
           [
            0.25,
            3,
            1.5
           ],
           [
            0.9635748267173767,
            0.9617834687232971
           ]
          ],
          [
           "random_Mon_Feb_7_22-51-28_2022.json",
           [
            0.25,
            3,
            1.5
           ],
           [
            0.9635748267173767,
            0.9617834687232971
           ]
          ],
          [
           "random_Mon_Feb_7_22-52-01_2022.json",
           [
            0.6666666666666666,
            2,
            0.3333333333333333
           ],
           [
            0.9664610028266907,
            0.9661624431610107
           ]
          ],
          [
           "random_Mon_Feb_7_22-52-01_2022.json",
           [
            0.6666666666666666,
            2,
            0.3333333333333333
           ],
           [
            0.9664610028266907,
            0.9661624431610107
           ]
          ],
          [
           "random_Mon_Feb_7_22-52-01_2022.json",
           [
            0.6666666666666666,
            2,
            0.3333333333333333
           ],
           [
            0.9664610028266907,
            0.9661624431610107
           ]
          ],
          [
           "random_Mon_Feb_7_22-52-01_2022.json",
           [
            0.6666666666666666,
            2,
            0.3333333333333333
           ],
           [
            0.9664610028266907,
            0.9661624431610107
           ]
          ],
          [
           "random_Mon_Feb_7_22-52-07_2022.json",
           [
            0.5,
            1,
            3
           ],
           [
            0.943869411945343,
            0.9455612897872925
           ]
          ],
          [
           "random_Mon_Feb_7_22-52-07_2022.json",
           [
            0.5,
            1,
            3
           ],
           [
            0.943869411945343,
            0.9455612897872925
           ]
          ],
          [
           "random_Mon_Feb_7_22-52-07_2022.json",
           [
            0.5,
            1,
            3
           ],
           [
            0.943869411945343,
            0.9455612897872925
           ]
          ],
          [
           "random_Mon_Feb_7_22-52-07_2022.json",
           [
            0.5,
            1,
            3
           ],
           [
            0.943869411945343,
            0.9455612897872925
           ]
          ],
          [
           "random_Mon_Feb_7_22-47-27_2022.json",
           [
            3,
            1.5,
            1.5
           ],
           [
            0.9509354829788208,
            0.9514331221580505
           ]
          ],
          [
           "random_Mon_Feb_7_22-47-27_2022.json",
           [
            3,
            1.5,
            1.5
           ],
           [
            0.9509354829788208,
            0.9514331221580505
           ]
          ],
          [
           "random_Mon_Feb_7_22-47-27_2022.json",
           [
            3,
            1.5,
            1.5
           ],
           [
            0.9509354829788208,
            0.9514331221580505
           ]
          ],
          [
           "random_Mon_Feb_7_22-47-27_2022.json",
           [
            3,
            1.5,
            1.5
           ],
           [
            0.9509354829788208,
            0.9514331221580505
           ]
          ],
          [
           "random_Mon_Feb_7_22-52-02_2022.json",
           [
            0.5,
            0.3333333333333333,
            2
           ],
           [
            0.9601910710334778,
            0.9596934914588928
           ]
          ],
          [
           "random_Mon_Feb_7_22-52-02_2022.json",
           [
            0.5,
            0.3333333333333333,
            2
           ],
           [
            0.9601910710334778,
            0.9596934914588928
           ]
          ],
          [
           "random_Mon_Feb_7_22-52-02_2022.json",
           [
            0.5,
            0.3333333333333333,
            2
           ],
           [
            0.9601910710334778,
            0.9596934914588928
           ]
          ],
          [
           "random_Mon_Feb_7_22-52-02_2022.json",
           [
            0.5,
            0.3333333333333333,
            2
           ],
           [
            0.9601910710334778,
            0.9596934914588928
           ]
          ],
          [
           "random_Fri_Oct_15_08-52-14_2021.json",
           [
            0.3852040816326531,
            1.2781456953642385,
            1.0751295336787565
           ],
           [
            0.9371019005775452,
            0.9369028806686401
           ]
          ],
          [
           "random_Fri_Oct_15_08-52-14_2021.json",
           [
            0.3852040816326531,
            1.2781456953642385,
            1.0751295336787565
           ],
           [
            0.9371019005775452,
            0.9369028806686401
           ]
          ],
          [
           "random_Fri_Oct_15_08-52-14_2021.json",
           [
            0.3852040816326531,
            1.2781456953642385,
            1.0751295336787565
           ],
           [
            0.9371019005775452,
            0.9369028806686401
           ]
          ],
          [
           "random_Fri_Oct_15_08-52-14_2021.json",
           [
            0.3852040816326531,
            1.2781456953642385,
            1.0751295336787565
           ],
           [
            0.9371019005775452,
            0.9369028806686401
           ]
          ],
          [
           "random_Fri_Oct_15_08-52-14_2021.json",
           [
            0.3852040816326531,
            1.2781456953642385,
            1.0751295336787565
           ],
           [
            0.9371019005775452,
            0.9369028806686401
           ]
          ],
          [
           "random_Fri_Oct_15_08-52-14_2021.json",
           [
            0.3852040816326531,
            1.2781456953642385,
            1.0751295336787565
           ],
           [
            0.9371019005775452,
            0.9369028806686401
           ]
          ],
          [
           "random_Fri_Oct_15_08-52-14_2021.json",
           [
            0.3852040816326531,
            1.2781456953642385,
            1.0751295336787565
           ],
           [
            0.9371019005775452,
            0.9369028806686401
           ]
          ],
          [
           "random_Fri_Oct_15_08-52-14_2021.json",
           [
            0.3852040816326531,
            1.2781456953642385,
            1.0751295336787565
           ],
           [
            0.9371019005775452,
            0.9369028806686401
           ]
          ],
          [
           "random_Mon_Feb_7_22-46-18_2022.json",
           [
            1.5,
            1.5,
            1
           ],
           [
            0.9211783409118652,
            0.9202826619148254
           ]
          ],
          [
           "random_Mon_Feb_7_22-46-18_2022.json",
           [
            1.5,
            1.5,
            1
           ],
           [
            0.9211783409118652,
            0.9202826619148254
           ]
          ],
          [
           "random_Mon_Feb_7_22-46-18_2022.json",
           [
            1.5,
            1.5,
            1
           ],
           [
            0.9211783409118652,
            0.9202826619148254
           ]
          ],
          [
           "random_Mon_Feb_7_22-46-18_2022.json",
           [
            1.5,
            1.5,
            1
           ],
           [
            0.9211783409118652,
            0.9202826619148254
           ]
          ],
          [
           "random_Fri_Oct_15_09-17-36_2021.json",
           [
            0.8979591836734694,
            0.5724431818181818,
            0.6923076923076923
           ],
           [
            0.950039803981781,
            0.9515326619148254
           ]
          ],
          [
           "random_Fri_Oct_15_09-17-36_2021.json",
           [
            0.8979591836734694,
            0.5724431818181818,
            0.6923076923076923
           ],
           [
            0.950039803981781,
            0.9515326619148254
           ]
          ],
          [
           "random_Fri_Oct_15_09-17-36_2021.json",
           [
            0.8979591836734694,
            0.5724431818181818,
            0.6923076923076923
           ],
           [
            0.950039803981781,
            0.9515326619148254
           ]
          ],
          [
           "random_Fri_Oct_15_09-17-36_2021.json",
           [
            0.8979591836734694,
            0.5724431818181818,
            0.6923076923076923
           ],
           [
            0.950039803981781,
            0.9515326619148254
           ]
          ],
          [
           "random_Fri_Oct_15_09-17-36_2021.json",
           [
            0.8979591836734694,
            0.5724431818181818,
            0.6923076923076923
           ],
           [
            0.950039803981781,
            0.9515326619148254
           ]
          ],
          [
           "random_Fri_Oct_15_09-17-36_2021.json",
           [
            0.8979591836734694,
            0.5724431818181818,
            0.6923076923076923
           ],
           [
            0.950039803981781,
            0.9515326619148254
           ]
          ],
          [
           "random_Mon_Feb_7_22-46-14_2022.json",
           [
            2,
            0.6666666666666666,
            1.5
           ],
           [
            0.9213773608207703,
            0.9201831221580505
           ]
          ],
          [
           "random_Mon_Feb_7_22-46-14_2022.json",
           [
            2,
            0.6666666666666666,
            1.5
           ],
           [
            0.9213773608207703,
            0.9201831221580505
           ]
          ],
          [
           "random_Mon_Feb_7_22-46-14_2022.json",
           [
            2,
            0.6666666666666666,
            1.5
           ],
           [
            0.9213773608207703,
            0.9201831221580505
           ]
          ],
          [
           "random_Mon_Feb_7_22-46-14_2022.json",
           [
            2,
            0.6666666666666666,
            1.5
           ],
           [
            0.9213773608207703,
            0.9201831221580505
           ]
          ],
          [
           "random_Fri_Oct_15_09-02-15_2021.json",
           [
            0.4362244897959184,
            1.1169590643274854,
            0.7277486910994765
           ],
           [
            0.9473527073860168,
            0.9460589289665222
           ]
          ],
          [
           "random_Fri_Oct_15_09-02-15_2021.json",
           [
            0.4362244897959184,
            1.1169590643274854,
            0.7277486910994765
           ],
           [
            0.9473527073860168,
            0.9460589289665222
           ]
          ],
          [
           "random_Fri_Oct_15_09-02-15_2021.json",
           [
            0.4362244897959184,
            1.1169590643274854,
            0.7277486910994765
           ],
           [
            0.9473527073860168,
            0.9460589289665222
           ]
          ],
          [
           "random_Fri_Oct_15_09-02-15_2021.json",
           [
            0.4362244897959184,
            1.1169590643274854,
            0.7277486910994765
           ],
           [
            0.9473527073860168,
            0.9460589289665222
           ]
          ],
          [
           "random_Fri_Oct_15_09-02-15_2021.json",
           [
            0.4362244897959184,
            1.1169590643274854,
            0.7277486910994765
           ],
           [
            0.9473527073860168,
            0.9460589289665222
           ]
          ],
          [
           "random_Fri_Oct_15_09-02-15_2021.json",
           [
            0.4362244897959184,
            1.1169590643274854,
            0.7277486910994765
           ],
           [
            0.9473527073860168,
            0.9460589289665222
           ]
          ],
          [
           "random_Fri_Oct_15_09-02-15_2021.json",
           [
            0.4362244897959184,
            1.1169590643274854,
            0.7277486910994765
           ],
           [
            0.9473527073860168,
            0.9460589289665222
           ]
          ],
          [
           "random_Fri_Oct_15_09-02-15_2021.json",
           [
            0.4362244897959184,
            1.1169590643274854,
            0.7277486910994765
           ],
           [
            0.9473527073860168,
            0.9460589289665222
           ]
          ],
          [
           "random_Fri_Oct_15_08-43-30_2021.json",
           [
            0.22704081632653061,
            1.4438202247191012,
            1.1750972762645915
           ],
           [
            0.9572054147720337,
            0.9559116363525391
           ]
          ],
          [
           "random_Fri_Oct_15_08-43-30_2021.json",
           [
            0.22704081632653061,
            1.4438202247191012,
            1.1750972762645915
           ],
           [
            0.9572054147720337,
            0.9559116363525391
           ]
          ],
          [
           "random_Fri_Oct_15_08-43-30_2021.json",
           [
            0.22704081632653061,
            1.4438202247191012,
            1.1750972762645915
           ],
           [
            0.9572054147720337,
            0.9559116363525391
           ]
          ],
          [
           "random_Fri_Oct_15_08-43-30_2021.json",
           [
            0.22704081632653061,
            1.4438202247191012,
            1.1750972762645915
           ],
           [
            0.9572054147720337,
            0.9559116363525391
           ]
          ],
          [
           "random_Fri_Oct_15_08-43-30_2021.json",
           [
            0.22704081632653061,
            1.4438202247191012,
            1.1750972762645915
           ],
           [
            0.9572054147720337,
            0.9559116363525391
           ]
          ],
          [
           "random_Fri_Oct_15_08-43-30_2021.json",
           [
            0.22704081632653061,
            1.4438202247191012,
            1.1750972762645915
           ],
           [
            0.9572054147720337,
            0.9559116363525391
           ]
          ],
          [
           "random_Fri_Oct_15_08-43-30_2021.json",
           [
            0.22704081632653061,
            1.4438202247191012,
            1.1750972762645915
           ],
           [
            0.9572054147720337,
            0.9559116363525391
           ]
          ],
          [
           "random_Fri_Oct_15_08-43-30_2021.json",
           [
            0.22704081632653061,
            1.4438202247191012,
            1.1750972762645915
           ],
           [
            0.9572054147720337,
            0.9559116363525391
           ]
          ],
          [
           "random_Mon_Feb_7_22-56-41_2022.json",
           [
            1.5,
            2,
            0.25
           ],
           [
            0.9729299545288086,
            0.9714370965957642
           ]
          ],
          [
           "random_Mon_Feb_7_22-56-41_2022.json",
           [
            1.5,
            2,
            0.25
           ],
           [
            0.9729299545288086,
            0.9714370965957642
           ]
          ],
          [
           "random_Mon_Feb_7_22-56-41_2022.json",
           [
            1.5,
            2,
            0.25
           ],
           [
            0.9729299545288086,
            0.9714370965957642
           ]
          ],
          [
           "random_Mon_Feb_7_22-56-41_2022.json",
           [
            1.5,
            2,
            0.25
           ],
           [
            0.9729299545288086,
            0.9714370965957642
           ]
          ],
          [
           "random_Mon_Feb_7_22-46-50_2022.json",
           [
            4,
            2,
            0.5
           ],
           [
            0.9545183181762695,
            0.952925980091095
           ]
          ],
          [
           "random_Mon_Feb_7_22-46-50_2022.json",
           [
            4,
            2,
            0.5
           ],
           [
            0.9545183181762695,
            0.952925980091095
           ]
          ],
          [
           "random_Mon_Feb_7_22-46-50_2022.json",
           [
            4,
            2,
            0.5
           ],
           [
            0.9545183181762695,
            0.952925980091095
           ]
          ],
          [
           "random_Mon_Feb_7_22-46-50_2022.json",
           [
            4,
            2,
            0.5
           ],
           [
            0.9545183181762695,
            0.952925980091095
           ]
          ],
          [
           "random_Mon_Feb_7_22-57-06_2022.json",
           [
            1.5,
            0.3333333333333333,
            0.3333333333333333
           ],
           [
            0.921675980091095,
            0.9257563948631287
           ]
          ],
          [
           "random_Mon_Feb_7_22-57-06_2022.json",
           [
            1.5,
            0.3333333333333333,
            0.3333333333333333
           ],
           [
            0.921675980091095,
            0.9257563948631287
           ]
          ],
          [
           "random_Mon_Feb_7_22-57-06_2022.json",
           [
            1.5,
            0.3333333333333333,
            0.3333333333333333
           ],
           [
            0.921675980091095,
            0.9257563948631287
           ]
          ],
          [
           "random_Mon_Feb_7_22-57-06_2022.json",
           [
            1.5,
            0.3333333333333333,
            0.3333333333333333
           ],
           [
            0.921675980091095,
            0.9257563948631287
           ]
          ],
          [
           "random_Mon_Feb_7_22-55-17_2022.json",
           [
            4,
            1.5,
            0.6666666666666666
           ],
           [
            0.9233678579330444,
            0.9245620965957642
           ]
          ],
          [
           "random_Mon_Feb_7_22-55-17_2022.json",
           [
            4,
            1.5,
            0.6666666666666666
           ],
           [
            0.9233678579330444,
            0.9245620965957642
           ]
          ],
          [
           "random_Mon_Feb_7_22-55-17_2022.json",
           [
            4,
            1.5,
            0.6666666666666666
           ],
           [
            0.9233678579330444,
            0.9245620965957642
           ]
          ],
          [
           "random_Mon_Feb_7_22-55-17_2022.json",
           [
            4,
            1.5,
            0.6666666666666666
           ],
           [
            0.9233678579330444,
            0.9245620965957642
           ]
          ],
          [
           "random_Mon_Feb_7_22-54-02_2022.json",
           [
            1.5,
            4,
            0.3333333333333333
           ],
           [
            0.9518312215805054,
            0.9522293210029602
           ]
          ],
          [
           "random_Mon_Feb_7_22-54-02_2022.json",
           [
            1.5,
            4,
            0.3333333333333333
           ],
           [
            0.9518312215805054,
            0.9522293210029602
           ]
          ],
          [
           "random_Mon_Feb_7_22-54-02_2022.json",
           [
            1.5,
            4,
            0.3333333333333333
           ],
           [
            0.9518312215805054,
            0.9522293210029602
           ]
          ],
          [
           "random_Mon_Feb_7_22-54-02_2022.json",
           [
            1.5,
            4,
            0.3333333333333333
           ],
           [
            0.9518312215805054,
            0.9522293210029602
           ]
          ],
          [
           "random_Fri_Oct_15_09-04-44_2021.json",
           [
            0.4451530612244898,
            1.6991404011461317,
            1.2900505902192243
           ],
           [
            0.9471536874771118,
            0.9455612897872925
           ]
          ],
          [
           "random_Fri_Oct_15_09-04-44_2021.json",
           [
            0.4451530612244898,
            1.6991404011461317,
            1.2900505902192243
           ],
           [
            0.9471536874771118,
            0.9455612897872925
           ]
          ],
          [
           "random_Fri_Oct_15_09-04-44_2021.json",
           [
            0.4451530612244898,
            1.6991404011461317,
            1.2900505902192243
           ],
           [
            0.9471536874771118,
            0.9455612897872925
           ]
          ],
          [
           "random_Fri_Oct_15_09-04-44_2021.json",
           [
            0.4451530612244898,
            1.6991404011461317,
            1.2900505902192243
           ],
           [
            0.9471536874771118,
            0.9455612897872925
           ]
          ],
          [
           "random_Fri_Oct_15_09-04-44_2021.json",
           [
            0.4451530612244898,
            1.6991404011461317,
            1.2900505902192243
           ],
           [
            0.9471536874771118,
            0.9455612897872925
           ]
          ],
          [
           "random_Fri_Oct_15_09-04-44_2021.json",
           [
            0.4451530612244898,
            1.6991404011461317,
            1.2900505902192243
           ],
           [
            0.9471536874771118,
            0.9455612897872925
           ]
          ],
          [
           "random_Mon_Feb_7_22-53-11_2022.json",
           [
            2,
            1.5,
            2
           ],
           [
            0.9223726391792297,
            0.9199841022491455
           ]
          ],
          [
           "random_Mon_Feb_7_22-53-11_2022.json",
           [
            2,
            1.5,
            2
           ],
           [
            0.9223726391792297,
            0.9199841022491455
           ]
          ],
          [
           "random_Mon_Feb_7_22-53-11_2022.json",
           [
            2,
            1.5,
            2
           ],
           [
            0.9223726391792297,
            0.9199841022491455
           ]
          ],
          [
           "random_Mon_Feb_7_22-53-11_2022.json",
           [
            2,
            1.5,
            2
           ],
           [
            0.9223726391792297,
            0.9199841022491455
           ]
          ],
          [
           "random_Mon_Feb_7_22-56-18_2022.json",
           [
            0.3333333333333333,
            4,
            0.5
           ],
           [
            0.9111266136169434,
            0.9118232727050781
           ]
          ],
          [
           "random_Mon_Feb_7_22-56-18_2022.json",
           [
            0.3333333333333333,
            4,
            0.5
           ],
           [
            0.9111266136169434,
            0.9118232727050781
           ]
          ],
          [
           "random_Mon_Feb_7_22-56-18_2022.json",
           [
            0.3333333333333333,
            4,
            0.5
           ],
           [
            0.9111266136169434,
            0.9118232727050781
           ]
          ],
          [
           "random_Mon_Feb_7_22-56-18_2022.json",
           [
            0.3333333333333333,
            4,
            0.5
           ],
           [
            0.9111266136169434,
            0.9118232727050781
           ]
          ],
          [
           "random_Mon_Feb_7_22-49-53_2022.json",
           [
            2,
            0.25,
            4
           ],
           [
            0.9509354829788208,
            0.9505374431610107
           ]
          ],
          [
           "random_Mon_Feb_7_22-49-53_2022.json",
           [
            2,
            0.25,
            4
           ],
           [
            0.9509354829788208,
            0.9505374431610107
           ]
          ],
          [
           "random_Mon_Feb_7_22-49-53_2022.json",
           [
            2,
            0.25,
            4
           ],
           [
            0.9509354829788208,
            0.9505374431610107
           ]
          ],
          [
           "random_Mon_Feb_7_22-49-53_2022.json",
           [
            2,
            0.25,
            4
           ],
           [
            0.9509354829788208,
            0.9505374431610107
           ]
          ],
          [
           "random_Mon_Feb_7_22-46-54_2022.json",
           [
            1.5,
            0.6666666666666666,
            4
           ],
           [
            0.9487460255622864,
            0.9491441249847412
           ]
          ],
          [
           "random_Mon_Feb_7_22-46-54_2022.json",
           [
            1.5,
            0.6666666666666666,
            4
           ],
           [
            0.9487460255622864,
            0.9491441249847412
           ]
          ],
          [
           "random_Mon_Feb_7_22-46-54_2022.json",
           [
            1.5,
            0.6666666666666666,
            4
           ],
           [
            0.9487460255622864,
            0.9491441249847412
           ]
          ],
          [
           "random_Mon_Feb_7_22-46-54_2022.json",
           [
            1.5,
            0.6666666666666666,
            4
           ],
           [
            0.9487460255622864,
            0.9491441249847412
           ]
          ],
          [
           "random_Mon_Feb_7_22-46-54_2022.json",
           [
            1.5,
            0.6666666666666666,
            4
           ],
           [
            0.9487460255622864,
            0.9491441249847412
           ]
          ],
          [
           "random_Mon_Feb_7_22-46-54_2022.json",
           [
            1.5,
            0.6666666666666666,
            4
           ],
           [
            0.9487460255622864,
            0.9491441249847412
           ]
          ],
          [
           "random_Mon_Feb_7_22-46-54_2022.json",
           [
            1.5,
            0.6666666666666666,
            4
           ],
           [
            0.9487460255622864,
            0.9491441249847412
           ]
          ],
          [
           "random_Mon_Feb_7_22-56-26_2022.json",
           [
            0.6666666666666666,
            3,
            0.25
           ],
           [
            0.9661624431610107,
            0.9665604829788208
           ]
          ],
          [
           "random_Mon_Feb_7_22-56-26_2022.json",
           [
            0.6666666666666666,
            3,
            0.25
           ],
           [
            0.9661624431610107,
            0.9665604829788208
           ]
          ],
          [
           "random_Mon_Feb_7_22-56-26_2022.json",
           [
            0.6666666666666666,
            3,
            0.25
           ],
           [
            0.9661624431610107,
            0.9665604829788208
           ]
          ],
          [
           "random_Mon_Feb_7_22-56-26_2022.json",
           [
            0.6666666666666666,
            3,
            0.25
           ],
           [
            0.9661624431610107,
            0.9665604829788208
           ]
          ],
          [
           "random_Mon_Feb_7_22-51-13_2022.json",
           [
            0.6666666666666666,
            1,
            4
           ],
           [
            0.912917971611023,
            0.9148089289665222
           ]
          ],
          [
           "random_Mon_Feb_7_22-51-13_2022.json",
           [
            0.6666666666666666,
            1,
            4
           ],
           [
            0.912917971611023,
            0.9148089289665222
           ]
          ],
          [
           "random_Mon_Feb_7_22-51-13_2022.json",
           [
            0.6666666666666666,
            1,
            4
           ],
           [
            0.912917971611023,
            0.9148089289665222
           ]
          ],
          [
           "random_Mon_Feb_7_22-51-13_2022.json",
           [
            0.6666666666666666,
            1,
            4
           ],
           [
            0.912917971611023,
            0.9148089289665222
           ]
          ],
          [
           "random_Mon_Feb_7_22-53-05_2022.json",
           [
            1,
            1.5,
            0.25
           ],
           [
            0.9194864630699158
           ]
          ],
          [
           "random_Mon_Feb_7_22-53-05_2022.json",
           [
            1,
            1.5,
            0.25
           ],
           [
            0.9194864630699158
           ]
          ],
          [
           "random_Mon_Feb_7_22-53-05_2022.json",
           [
            1,
            1.5,
            0.25
           ],
           [
            0.9194864630699158
           ]
          ],
          [
           "random_Mon_Feb_7_22-48-00_2022.json",
           [
            0.6666666666666666,
            1.5,
            2
           ],
           [
            0.9170979261398315
           ]
          ],
          [
           "random_Mon_Feb_7_22-48-00_2022.json",
           [
            0.6666666666666666,
            1.5,
            2
           ],
           [
            0.9170979261398315
           ]
          ],
          [
           "random_Mon_Feb_7_22-54-58_2022.json",
           [
            0.25,
            0.25,
            0.25
           ],
           [
            0.9370023608207703
           ]
          ],
          [
           "random_Mon_Feb_7_22-54-58_2022.json",
           [
            0.25,
            0.25,
            0.25
           ],
           [
            0.9370023608207703
           ]
          ],
          [
           "random_Mon_Feb_7_22-54-58_2022.json",
           [
            0.25,
            0.25,
            0.25
           ],
           [
            0.9370023608207703
           ]
          ],
          [
           "random_Fri_Oct_15_09-16-39_2021.json",
           [
            0.75,
            1.0238095238095237,
            0.8039867109634552
           ],
           [
            0.9497412443161011
           ]
          ],
          [
           "random_Fri_Oct_15_09-16-39_2021.json",
           [
            0.75,
            1.0238095238095237,
            0.8039867109634552
           ],
           [
            0.9497412443161011
           ]
          ],
          [
           "random_Fri_Oct_15_09-16-39_2021.json",
           [
            0.75,
            1.0238095238095237,
            0.8039867109634552
           ],
           [
            0.9497412443161011
           ]
          ],
          [
           "random_Fri_Oct_15_09-16-39_2021.json",
           [
            0.75,
            1.0238095238095237,
            0.8039867109634552
           ],
           [
            0.9497412443161011
           ]
          ],
          [
           "random_Fri_Oct_15_09-16-39_2021.json",
           [
            0.75,
            1.0238095238095237,
            0.8039867109634552
           ],
           [
            0.9497412443161011
           ]
          ],
          [
           "random_Fri_Oct_15_09-16-39_2021.json",
           [
            0.75,
            1.0238095238095237,
            0.8039867109634552
           ],
           [
            0.9497412443161011
           ]
          ],
          [
           "random_Fri_Oct_15_09-16-39_2021.json",
           [
            0.75,
            1.0238095238095237,
            0.8039867109634552
           ],
           [
            0.9497412443161011
           ]
          ],
          [
           "random_Fri_Oct_15_09-16-59_2021.json",
           [
            0.4094387755102041,
            1.3707165109034267,
            1.1886363636363637
           ],
           [
            0.9454618096351624
           ]
          ],
          [
           "random_Fri_Oct_15_09-16-59_2021.json",
           [
            0.4094387755102041,
            1.3707165109034267,
            1.1886363636363637
           ],
           [
            0.9454618096351624
           ]
          ],
          [
           "random_Fri_Oct_15_09-16-59_2021.json",
           [
            0.4094387755102041,
            1.3707165109034267,
            1.1886363636363637
           ],
           [
            0.9454618096351624
           ]
          ],
          [
           "random_Fri_Oct_15_09-16-59_2021.json",
           [
            0.4094387755102041,
            1.3707165109034267,
            1.1886363636363637
           ],
           [
            0.9454618096351624
           ]
          ],
          [
           "random_Fri_Oct_15_09-16-59_2021.json",
           [
            0.4094387755102041,
            1.3707165109034267,
            1.1886363636363637
           ],
           [
            0.9454618096351624
           ]
          ],
          [
           "random_Fri_Oct_15_09-16-59_2021.json",
           [
            0.4094387755102041,
            1.3707165109034267,
            1.1886363636363637
           ],
           [
            0.9454618096351624
           ]
          ],
          [
           "random_Fri_Oct_15_09-16-59_2021.json",
           [
            0.4094387755102041,
            1.3707165109034267,
            1.1886363636363637
           ],
           [
            0.9454618096351624
           ]
          ],
          [
           "random_Mon_Feb_7_22-54-00_2022.json",
           [
            0.5,
            0.6666666666666666,
            0.25
           ],
           [
            0.9485469460487366
           ]
          ],
          [
           "random_Mon_Feb_7_22-54-00_2022.json",
           [
            0.5,
            0.6666666666666666,
            0.25
           ],
           [
            0.9485469460487366
           ]
          ],
          [
           "random_Mon_Feb_7_22-56-00_2022.json",
           [
            1.5,
            0.6666666666666666,
            0.6666666666666666
           ],
           [
            0.953125
           ]
          ],
          [
           "random_Mon_Feb_7_22-56-00_2022.json",
           [
            1.5,
            0.6666666666666666,
            0.6666666666666666
           ],
           [
            0.953125
           ]
          ],
          [
           "random_Mon_Feb_7_22-51-10_2022.json",
           [
            1.5,
            0.25,
            0.6666666666666666
           ],
           [
            0.9535230994224548
           ]
          ],
          [
           "random_Mon_Feb_7_22-51-10_2022.json",
           [
            1.5,
            0.25,
            0.6666666666666666
           ],
           [
            0.9535230994224548
           ]
          ],
          [
           "random_Mon_Feb_7_22-51-10_2022.json",
           [
            1.5,
            0.25,
            0.6666666666666666
           ],
           [
            0.9535230994224548
           ]
          ],
          [
           "random_Mon_Feb_7_22-54-59_2022.json",
           [
            3,
            1,
            1
           ],
           [
            0.9534235596656799
           ]
          ],
          [
           "random_Mon_Feb_7_22-54-59_2022.json",
           [
            3,
            1,
            1
           ],
           [
            0.9534235596656799
           ]
          ],
          [
           "random_Mon_Feb_7_22-54-59_2022.json",
           [
            3,
            1,
            1
           ],
           [
            0.9534235596656799
           ]
          ],
          [
           "random_Mon_Feb_7_22-57-05_2022.json",
           [
            4,
            0.25,
            0.5
           ],
           [
            0.9554139971733093
           ]
          ],
          [
           "random_Mon_Feb_7_22-57-05_2022.json",
           [
            4,
            0.25,
            0.5
           ],
           [
            0.9554139971733093
           ]
          ],
          [
           "random_Mon_Feb_7_22-48-54_2022.json",
           [
            0.25,
            1,
            1
           ],
           [
            0.912917971611023
           ]
          ],
          [
           "random_Mon_Feb_7_22-48-54_2022.json",
           [
            0.25,
            1,
            1
           ],
           [
            0.912917971611023
           ]
          ],
          [
           "random_Mon_Feb_7_22-48-54_2022.json",
           [
            0.25,
            1,
            1
           ],
           [
            0.912917971611023
           ]
          ],
          [
           "random_Mon_Feb_7_22-55-00_2022.json",
           [
            0.6666666666666666,
            0.25,
            0.25
           ],
           [
            0.9583001732826233
           ]
          ],
          [
           "random_Mon_Feb_7_22-55-00_2022.json",
           [
            0.6666666666666666,
            0.25,
            0.25
           ],
           [
            0.9583001732826233
           ]
          ],
          [
           "random_Mon_Feb_7_22-55-00_2022.json",
           [
            0.6666666666666666,
            0.25,
            0.25
           ],
           [
            0.9583001732826233
           ]
          ],
          [
           "random_Mon_Feb_7_22-56-24_2022.json",
           [
            0.6666666666666666,
            1,
            4
           ],
           [
            0.9459593892097473
           ]
          ],
          [
           "random_Mon_Feb_7_22-56-24_2022.json",
           [
            0.6666666666666666,
            1,
            4
           ],
           [
            0.9459593892097473
           ]
          ],
          [
           "random_Mon_Feb_7_22-55-02_2022.json",
           [
            1.5,
            0.3333333333333333,
            0.3333333333333333
           ],
           [
            0.9644705653190613
           ]
          ],
          [
           "random_Mon_Feb_7_22-55-02_2022.json",
           [
            1.5,
            0.3333333333333333,
            0.3333333333333333
           ],
           [
            0.9644705653190613
           ]
          ],
          [
           "random_Mon_Feb_7_22-55-02_2022.json",
           [
            1.5,
            0.3333333333333333,
            0.3333333333333333
           ],
           [
            0.9644705653190613
           ]
          ],
          [
           "random_Mon_Feb_7_22-47-30_2022.json",
           [
            0.3333333333333333,
            3,
            4
           ],
           [
            0.9434713125228882
           ]
          ],
          [
           "random_Mon_Feb_7_22-47-30_2022.json",
           [
            0.3333333333333333,
            3,
            4
           ],
           [
            0.9434713125228882
           ]
          ],
          [
           "random_Mon_Feb_7_22-47-30_2022.json",
           [
            0.3333333333333333,
            3,
            4
           ],
           [
            0.9434713125228882
           ]
          ],
          [
           "random_Mon_Feb_7_22-53-02_2022.json",
           [
            2,
            0.5,
            2
           ],
           [
            0.9201831221580505
           ]
          ],
          [
           "random_Mon_Feb_7_22-53-02_2022.json",
           [
            2,
            0.5,
            2
           ],
           [
            0.9201831221580505
           ]
          ],
          [
           "random_Mon_Feb_7_22-57-38_2022.json",
           [
            2,
            0.5,
            2
           ],
           [
            0.9525278806686401
           ]
          ],
          [
           "random_Mon_Feb_7_22-57-38_2022.json",
           [
            2,
            0.5,
            2
           ],
           [
            0.9525278806686401
           ]
          ],
          [
           "random_Mon_Feb_7_22-52-00_2022.json",
           [
            0.5,
            1,
            0.25
           ],
           [
            0.9477508068084717
           ]
          ],
          [
           "random_Mon_Feb_7_22-52-00_2022.json",
           [
            0.5,
            1,
            0.25
           ],
           [
            0.9477508068084717
           ]
          ],
          [
           "random_Mon_Feb_7_22-47-33_2022.json",
           [
            0.25,
            1.5,
            4
           ],
           [
            0.9107285141944885
           ]
          ],
          [
           "random_Mon_Feb_7_22-47-33_2022.json",
           [
            0.25,
            1.5,
            4
           ],
           [
            0.9107285141944885
           ]
          ],
          [
           "random_Mon_Feb_7_22-47-33_2022.json",
           [
            0.25,
            1.5,
            4
           ],
           [
            0.9107285141944885
           ]
          ],
          [
           "random_Mon_Feb_7_22-46-25_2022.json",
           [
            0.5,
            0.6666666666666666,
            0.5
           ],
           [
            0.9180931448936462
           ]
          ],
          [
           "random_Mon_Feb_7_22-46-25_2022.json",
           [
            0.5,
            0.6666666666666666,
            0.5
           ],
           [
            0.9180931448936462
           ]
          ],
          [
           "random_Mon_Feb_7_22-46-25_2022.json",
           [
            0.5,
            0.6666666666666666,
            0.5
           ],
           [
            0.9180931448936462
           ]
          ],
          [
           "random_Mon_Feb_7_22-55-36_2022.json",
           [
            0.5,
            1.5,
            1
           ],
           [
            0.9635748267173767
           ]
          ],
          [
           "random_Mon_Feb_7_22-55-36_2022.json",
           [
            0.5,
            1.5,
            1
           ],
           [
            0.9635748267173767
           ]
          ],
          [
           "random_Mon_Feb_7_22-55-16_2022.json",
           [
            4,
            0.6666666666666666,
            1
           ],
           [
            0.9224721193313599
           ]
          ],
          [
           "random_Mon_Feb_7_22-55-16_2022.json",
           [
            4,
            0.6666666666666666,
            1
           ],
           [
            0.9224721193313599
           ]
          ],
          [
           "random_Mon_Feb_7_22-55-16_2022.json",
           [
            4,
            0.6666666666666666,
            1
           ],
           [
            0.9224721193313599
           ]
          ],
          [
           "random_Mon_Feb_7_22-54-04_2022.json",
           [
            3,
            0.3333333333333333,
            1
           ],
           [
            0.9719347357749939
           ]
          ],
          [
           "random_Mon_Feb_7_22-54-04_2022.json",
           [
            3,
            0.3333333333333333,
            1
           ],
           [
            0.9719347357749939
           ]
          ],
          [
           "random_Mon_Feb_7_22-52-04_2022.json",
           [
            0.6666666666666666,
            3,
            1.5
           ],
           [
            0.9673566818237305
           ]
          ],
          [
           "random_Mon_Feb_7_22-52-04_2022.json",
           [
            0.6666666666666666,
            3,
            1.5
           ],
           [
            0.9673566818237305
           ]
          ],
          [
           "random_Mon_Feb_7_22-52-04_2022.json",
           [
            0.6666666666666666,
            3,
            1.5
           ],
           [
            0.9673566818237305
           ]
          ],
          [
           "random_Mon_Feb_7_22-56-25_2022.json",
           [
            0.6666666666666666,
            2,
            4
           ],
           [
            0.9480493664741516
           ]
          ],
          [
           "random_Mon_Feb_7_22-56-25_2022.json",
           [
            0.6666666666666666,
            2,
            4
           ],
           [
            0.9480493664741516
           ]
          ],
          [
           "random_Fri_Oct_15_09-17-33_2021.json",
           [
            0.3239795918367347,
            1.3858267716535433,
            0.3465909090909091
           ],
           [
            0.9446656107902527
           ]
          ],
          [
           "random_Fri_Oct_15_09-17-33_2021.json",
           [
            0.3239795918367347,
            1.3858267716535433,
            0.3465909090909091
           ],
           [
            0.9446656107902527
           ]
          ],
          [
           "random_Fri_Oct_15_09-17-33_2021.json",
           [
            0.3239795918367347,
            1.3858267716535433,
            0.3465909090909091
           ],
           [
            0.9446656107902527
           ]
          ],
          [
           "random_Fri_Oct_15_09-17-33_2021.json",
           [
            0.3239795918367347,
            1.3858267716535433,
            0.3465909090909091
           ],
           [
            0.9446656107902527
           ]
          ],
          [
           "random_Fri_Oct_15_09-17-33_2021.json",
           [
            0.3239795918367347,
            1.3858267716535433,
            0.3465909090909091
           ],
           [
            0.9446656107902527
           ]
          ],
          [
           "random_Fri_Oct_15_09-17-33_2021.json",
           [
            0.3239795918367347,
            1.3858267716535433,
            0.3465909090909091
           ],
           [
            0.9446656107902527
           ]
          ],
          [
           "random_Fri_Oct_15_09-17-33_2021.json",
           [
            0.3239795918367347,
            1.3858267716535433,
            0.3465909090909091
           ],
           [
            0.9446656107902527
           ]
          ],
          [
           "random_Fri_Oct_22_10-40-35_2021.json",
           [
            0.25510204081632654,
            0.705,
            0.6453900709219859
           ],
           [
            0.9541202187538147
           ]
          ],
          [
           "random_Fri_Oct_22_10-40-35_2021.json",
           [
            0.25510204081632654,
            0.705,
            0.6453900709219859
           ],
           [
            0.9541202187538147
           ]
          ],
          [
           "random_Fri_Oct_22_10-40-35_2021.json",
           [
            0.25510204081632654,
            0.705,
            0.6453900709219859
           ],
           [
            0.9541202187538147
           ]
          ],
          [
           "random_Fri_Oct_22_10-40-35_2021.json",
           [
            0.25510204081632654,
            0.705,
            0.6453900709219859
           ],
           [
            0.9541202187538147
           ]
          ],
          [
           "random_Fri_Oct_22_10-40-35_2021.json",
           [
            0.25510204081632654,
            0.705,
            0.6453900709219859
           ],
           [
            0.9541202187538147
           ]
          ],
          [
           "random_Mon_Feb_7_22-47-22_2022.json",
           [
            3,
            1,
            3
           ],
           [
            0.9198845624923706
           ]
          ],
          [
           "random_Mon_Feb_7_22-47-22_2022.json",
           [
            3,
            1,
            3
           ],
           [
            0.9198845624923706
           ]
          ],
          [
           "random_Mon_Feb_7_22-47-22_2022.json",
           [
            3,
            1,
            3
           ],
           [
            0.9198845624923706
           ]
          ]
         ],
         "hovertemplate": "log_quantile=%{x}<br>loss=%{marker.color}<br>filename=%{customdata[0]}<br>width_profile=%{customdata[1]}<br>accuracy=%{customdata[2]}<extra></extra>",
         "legendgroup": "",
         "marker": {
          "color": [
           0.2775043845176697,
           0.2764306664466858,
           0.2789990305900574,
           0.2796706557273865,
           0.27730652689933777,
           0.17620041966438293,
           0.1783822923898697,
           0.17456071078777313,
           0.1728573441505432,
           0.17794208228588104,
           0.1746058464050293,
           0.17433644831180573,
           0.11585167050361633,
           0.11779820919036865,
           0.11475417762994766,
           0.1163463443517685,
           0.11541735380887985,
           0.11605595797300339,
           0.11654306203126907,
           0.28418880701065063,
           0.2862464487552643,
           0.28482890129089355,
           0.2819920480251312,
           0.28481122851371765,
           0.1825522631406784,
           0.18650716543197632,
           0.18195071816444397,
           0.18308834731578827,
           0.1828872561454773,
           0.04353540390729904,
           0.0440254844725132,
           0.044109247624874115,
           0.04356924816966057,
           0.04407411441206932,
           0.2925269305706024,
           0.29116323590278625,
           0.2909598648548126,
           0.290587842464447,
           0.2914296090602875,
           0.2822953164577484,
           0.2879117727279663,
           0.2843254804611206,
           0.28358566761016846,
           0.2865293025970459,
           0.17752784490585327,
           0.17685696482658386,
           0.17822834849357605,
           0.17841066420078278,
           0.17714853584766388,
           0.15485024452209473,
           0.15625624358654022,
           0.15256991982460022,
           0.15564720332622528,
           0.15306764841079712,
           0.18202315270900726,
           0.18454599380493164,
           0.18414895236492157,
           0.18589608371257782,
           0.18279214203357697,
           0.18142513930797577,
           0.18275490403175354,
           0.17862583696842194,
           0.1781938374042511,
           0.176776722073555,
           0.17944902181625366,
           0.18238696455955505,
           0.17855830490589142,
           0.17581063508987427,
           0.17141610383987427,
           0.1711045652627945,
           0.17115412652492523,
           0.1708838790655136,
           0.17023317515850067,
           0.08765262365341187,
           0.08633705973625183,
           0.08609005808830261,
           0.0876777172088623,
           0.08516871929168701,
           0.1835106909275055,
           0.18568871915340424,
           0.18499627709388733,
           0.1880139410495758,
           0.28378942608833313,
           0.28386563062667847,
           0.28519439697265625,
           0.28249019384384155,
           0.1734660267829895,
           0.17328108847141266,
           0.17527922987937927,
           0.1764967292547226,
           0.07456842809915543,
           0.07345596700906754,
           0.07246657460927963,
           0.0734710544347763,
           0.09616123884916306,
           0.09416387975215912,
           0.09492763131856918,
           0.09587382525205612,
           0.2880452871322632,
           0.28481507301330566,
           0.28017929196357727,
           0.28080350160598755,
           0.1971423178911209,
           0.1974366307258606,
           0.19778752326965332,
           0.19783546030521393,
           0.20007120072841644,
           0.1948622316122055,
           0.19509658217430115,
           0.1997203826904297,
           0.10302276909351349,
           0.10367976874113083,
           0.10676028579473495,
           0.1066383346915245,
           0.15586689114570618,
           0.1562609225511551,
           0.1560683697462082,
           0.1541639119386673,
           0.17685075104236603,
           0.1713470220565796,
           0.17295365035533905,
           0.17524351179599762,
           0.036951176822185516,
           0.036603134125471115,
           0.03603757545351982,
           0.03626959025859833,
           0.16704052686691284,
           0.16613391041755676,
           0.16784541308879852,
           0.16475747525691986,
           0.05583367124199867,
           0.056067194789648056,
           0.05712663009762764,
           0.1694684773683548,
           0.17188270390033722,
           0.17110282182693481,
           0.1705486923456192,
           0.16885919868946075,
           0.16729401051998138,
           0.05761441960930824,
           0.05707696080207825,
           0.05843603238463402,
           0.1926945298910141,
           0.19293569028377533,
           0.19466382265090942,
           0.19124042987823486,
           0.19211730360984802,
           0.19185209274291992,
           0.18585923314094543,
           0.18550635874271393,
           0.1924416422843933,
           0.18523697555065155,
           0.18113811314105988,
           0.1808646321296692,
           0.192744180560112,
           0.1955350786447525,
           0.1909443587064743,
           0.196052685379982,
           0.11150673776865005,
           0.11198769509792328,
           0.11288363486528397,
           0.11465147882699966,
           0.11140799522399902,
           0.1142779141664505,
           0.10848182439804077,
           0.11095196008682251,
           0.11043312400579453,
           0.03835620358586311,
           0.03634246438741684,
           0.03687656298279762,
           0.13682974874973297,
           0.134672611951828,
           0.12534251809120178,
           0.1346452683210373,
           0.13375826179981232,
           0.12711726129055023,
           0.17811934649944305,
           0.18226614594459534,
           0.18356502056121826,
           0.18156732618808746,
           0.3121877908706665,
           0.3180691599845886,
           0.3166954219341278,
           0.3142400085926056,
           0.19158586859703064,
           0.1909453123807907,
           0.18957173824310303,
           0.1944553107023239,
           0.28519099950790405,
           0.28540855646133423,
           0.28410327434539795,
           0.20405572652816772,
           0.19510045647621155,
           0.20111721754074097,
           0.2024749368429184,
           0.05236981809139252,
           0.053233567625284195,
           0.05255594477057457,
           0.09458477050065994,
           0.09409183263778687,
           0.09588431566953659,
           0.09730629622936249,
           0.3114381432533264,
           0.31101617217063904,
           0.31086966395378113,
           0.06249697133898735,
           0.06016609072685242,
           0.05936216935515404,
           0.06102491170167923,
           0.15406076610088348,
           0.15242059528827667,
           0.15338198840618134,
           0.1517244577407837,
           0.19188684225082397,
           0.19222968816757202,
           0.1888546496629715,
           0.1876242756843567,
           0.19013440608978271,
           0.19106923043727875,
           0.1780264526605606,
           0.17173469066619873,
           0.17539483308792114,
           0.17686161398887634,
           0.17716768383979797,
           0.17691932618618011,
           0.17771068215370178,
           0.17800892889499664,
           0.28635910153388977,
           0.2817532420158386,
           0.28177979588508606,
           0.2810898423194885,
           0.10569318383932114,
           0.10393062233924866,
           0.10028931498527527,
           0.10367931425571442,
           0.0699990838766098,
           0.06941275298595428,
           0.06961742788553238,
           0.06883806735277176,
           0.18714143335819244,
           0.19176676869392395,
           0.189097598195076,
           0.1872750222682953,
           0.1622970700263977,
           0.16325180232524872,
           0.16454187035560608,
           0.1619417369365692,
           0.10495064407587051,
           0.10644196718931198,
           0.10532635450363159,
           0.10304797440767288,
           0.2192334681749344,
           0.22146663069725037,
           0.22091560065746307,
           0.2230723649263382,
           0.2180442214012146,
           0.22373639047145844,
           0.22450263798236847,
           0.2232743203639984,
           0.28127041459083557,
           0.282632976770401,
           0.28665220737457275,
           0.2843044400215149,
           0.16874319314956665,
           0.16487054526805878,
           0.16401231288909912,
           0.16929222643375397,
           0.16786529123783112,
           0.16736017167568207,
           0.283456951379776,
           0.2804828882217407,
           0.281607985496521,
           0.28522810339927673,
           0.18315063416957855,
           0.18382787704467773,
           0.18107455968856812,
           0.17733101546764374,
           0.18173542618751526,
           0.18340176343917847,
           0.17924603819847107,
           0.1869748830795288,
           0.12420003861188889,
           0.12529635429382324,
           0.12716566026210785,
           0.12552647292613983,
           0.1291455179452896,
           0.1267993450164795,
           0.12780608236789703,
           0.12719792127609253,
           0.048658739775419235,
           0.046785563230514526,
           0.047967519611120224,
           0.0474289208650589,
           0.15591725707054138,
           0.15538892149925232,
           0.15589824318885803,
           0.1540534645318985,
           0.27907994389533997,
           0.2812286615371704,
           0.281208336353302,
           0.2727699279785156,
           0.2716703712940216,
           0.2711303234100342,
           0.2739500403404236,
           0.2740303874015808,
           0.16280759871006012,
           0.1631239354610443,
           0.1647210270166397,
           0.16219903528690338,
           0.1915571540594101,
           0.18780097365379333,
           0.18407252430915833,
           0.185936838388443,
           0.1865983009338379,
           0.18676349520683289,
           0.28108862042427063,
           0.28308019042015076,
           0.2832726836204529,
           0.28532660007476807,
           0.3138933777809143,
           0.3116598427295685,
           0.31177547574043274,
           0.3118002116680145,
           0.1738085150718689,
           0.16999675333499908,
           0.16891802847385406,
           0.1687498688697815,
           0.17311590909957886,
           0.17273445427417755,
           0.17077304422855377,
           0.17197135090827942,
           0.17286695539951324,
           0.17066597938537598,
           0.17198270559310913,
           0.06740854680538177,
           0.0665212944149971,
           0.0668414831161499,
           0.06890064477920532,
           0.30682700872421265,
           0.30876287817955017,
           0.3061220049858093,
           0.30181801319122314,
           0.28573015332221985,
           0.2823890149593353,
           0.28818726539611816,
           0.3069666624069214,
           0.2988525629043579,
           0.22031942009925842,
           0.19917654991149902,
           0.2226794809103012,
           0.17442941665649414,
           0.17368777096271515,
           0.17194455862045288,
           0.1741892397403717,
           0.1713036447763443,
           0.1696988195180893,
           0.17141148447990417,
           0.17953048646450043,
           0.19164927303791046,
           0.18226224184036255,
           0.18480460345745087,
           0.1850735992193222,
           0.1840946525335312,
           0.18995243310928345,
           0.17809438705444336,
           0.1765076369047165,
           0.1608562022447586,
           0.15936389565467834,
           0.15840165317058563,
           0.1589212566614151,
           0.15870459377765656,
           0.15760745108127594,
           0.15808193385601044,
           0.15808378159999847,
           0.15074363350868225,
           0.1471165418624878,
           0.3198009133338928,
           0.3229314982891083,
           0.31067612767219543,
           0.09486433863639832,
           0.10283926874399185,
           0.09839504212141037,
           0.18401724100112915,
           0.18615859746932983,
           0.06095300242304802,
           0.060778435319662094,
           0.05984347313642502,
           0.19796542823314667,
           0.1993955671787262,
           0.19446857273578644,
           0.28480467200279236,
           0.284975528717041,
           0.16269905865192413,
           0.1618669480085373,
           0.169564887881279,
           0.1795690804719925,
           0.332526296377182,
           0.3251991271972656,
           0.31893619894981384,
           0.2960148751735687,
           0.29256612062454224,
           0.29713135957717896,
           0.08052662014961243,
           0.08503282815217972,
           0.27098435163497925,
           0.27238377928733826,
           0.27484726905822754,
           0.04693150892853737,
           0.04758445918560028,
           0.07127885520458221,
           0.07070013135671616,
           0.0701586902141571,
           0.18687176704406738,
           0.18377554416656494,
           0.18975165486335754,
           0.1828088015317917,
           0.1780492663383484,
           0.19089701771736145,
           0.18451623618602753,
           0.1873239427804947,
           0.18892772495746613,
           0.12419931590557098,
           0.11780592799186707,
           0.13035248219966888,
           0.1256210058927536,
           0.12931504845619202,
           0.2804735600948334,
           0.2828150689601898,
           0.28378134965896606
          ],
          "coloraxis": "coloraxis",
          "symbol": "circle"
         },
         "mode": "markers",
         "name": "",
         "orientation": "v",
         "showlegend": false,
         "type": "scatter",
         "x": [
          -1.628869754532156,
          -1.628869754532156,
          -1.628869754532156,
          -1.628869754532156,
          -1.628869754532156,
          -0.21048875557238675,
          -0.21048875557238675,
          -0.21048875557238675,
          -0.21048875557238675,
          -0.21048875557238675,
          -0.21048875557238675,
          -0.21048875557238675,
          0.6174756683404847,
          0.6174756683404847,
          0.6174756683404847,
          0.6174756683404847,
          0.6174756683404847,
          0.6174756683404847,
          0.6174756683404847,
          -1.628869754532156,
          -1.628869754532156,
          -1.628869754532156,
          -1.628869754532156,
          -1.628869754532156,
          -0.5131103809032711,
          -0.5131103809032711,
          -0.5131103809032711,
          -0.5131103809032711,
          -0.5131103809032711,
          -1.3075072239366505,
          -1.3075072239366505,
          -1.3075072239366505,
          -1.3075072239366505,
          -1.3075072239366505,
          -1.628869754532156,
          -1.628869754532156,
          -1.628869754532156,
          -1.628869754532156,
          -1.628869754532156,
          -1.628869754532156,
          -1.628869754532156,
          -1.628869754532156,
          -1.628869754532156,
          -1.628869754532156,
          -0.11326111540822897,
          -0.11326111540822897,
          -0.11326111540822897,
          -0.11326111540822897,
          -0.11326111540822897,
          -0.28998786124707,
          -0.28998786124707,
          -0.28998786124707,
          -0.28998786124707,
          -0.28998786124707,
          -0.11326111540822897,
          -0.11326111540822897,
          -0.11326111540822897,
          -0.11326111540822897,
          -0.11326111540822897,
          -0.11326111540822897,
          -0.11326111540822897,
          -0.08515302130271117,
          -0.08515302130271117,
          -0.08515302130271117,
          -0.08515302130271117,
          -0.08515302130271117,
          -0.08515302130271117,
          -0.08515302130271117,
          -1.3075072239366505,
          -1.3075072239366505,
          -1.3075072239366505,
          -1.3075072239366505,
          -1.3075072239366505,
          1.398065923870615,
          1.398065923870615,
          1.398065923870615,
          1.398065923870615,
          1.398065923870615,
          -0.9966571346641311,
          -0.9966571346641311,
          -0.9966571346641311,
          -0.9966571346641311,
          -1.628869754532156,
          -1.628869754532156,
          -1.628869754532156,
          -1.628869754532156,
          -0.38737510032389394,
          -0.38737510032389394,
          -0.38737510032389394,
          -0.38737510032389394,
          1.5643691305235077,
          1.5643691305235077,
          1.5643691305235077,
          1.5643691305235077,
          1.531759878546558,
          1.531759878546558,
          1.531759878546558,
          1.531759878546558,
          -1.628869754532156,
          -1.628869754532156,
          -1.628869754532156,
          -1.628869754532156,
          -0.6907991241928865,
          -0.6907991241928865,
          -0.6907991241928865,
          -0.6907991241928865,
          -0.6907991241928865,
          -0.6907991241928865,
          -0.6907991241928865,
          -0.6907991241928865,
          1.398065923870615,
          1.398065923870615,
          1.398065923870615,
          1.398065923870615,
          -0.21048875557238675,
          -0.21048875557238675,
          -0.21048875557238675,
          -0.21048875557238675,
          -0.14331506570000196,
          -0.14331506570000196,
          -0.14331506570000196,
          -0.14331506570000196,
          1.9090464168214967,
          1.9090464168214967,
          1.9090464168214967,
          1.9090464168214967,
          -0.5511889567475775,
          -0.5511889567475775,
          -0.5511889567475775,
          -0.5511889567475775,
          1.6695021599980087,
          1.6695021599980087,
          1.6695021599980087,
          -0.33595738754445253,
          -0.33595738754445253,
          -0.33595738754445253,
          -0.33595738754445253,
          -0.33595738754445253,
          -0.33595738754445253,
          0.937112017091945,
          0.937112017091945,
          0.937112017091945,
          -0.28998786124707,
          -0.28998786124707,
          -0.28998786124707,
          -0.28998786124707,
          -0.28998786124707,
          -0.28998786124707,
          -0.0587540618256877,
          -0.0587540618256877,
          -0.0587540618256877,
          -0.0587540618256877,
          -0.0587540618256877,
          -0.0587540618256877,
          -0.33595738754445253,
          -0.33595738754445253,
          -0.33595738754445253,
          -0.33595738754445253,
          1.6436056532172891,
          1.6436056532172891,
          1.6436056532172891,
          1.6436056532172891,
          1.6436056532172891,
          1.6436056532172891,
          1.5217826348650503,
          1.5217826348650503,
          1.5217826348650503,
          1.350860356596683,
          1.350860356596683,
          1.350860356596683,
          1.8479880280812184,
          1.8479880280812184,
          1.8479880280812184,
          1.8479880280812184,
          1.8479880280812184,
          1.8479880280812184,
          -0.33595738754445253,
          -0.33595738754445253,
          -0.33595738754445253,
          -0.33595738754445253,
          -1.628869754532156,
          -1.628869754532156,
          -1.628869754532156,
          -1.628869754532156,
          -0.33595738754445253,
          -0.33595738754445253,
          -0.33595738754445253,
          -0.33595738754445253,
          -1.628869754532156,
          -1.628869754532156,
          -1.628869754532156,
          -0.36090574654872287,
          -0.36090574654872287,
          -0.36090574654872287,
          -0.36090574654872287,
          1.536988812374485,
          1.536988812374485,
          1.536988812374485,
          0.9646627162988572,
          0.9646627162988572,
          0.9646627162988572,
          0.9646627162988572,
          -1.628869754532156,
          -1.628869754532156,
          -1.628869754532156,
          1.0340446486295387,
          1.0340446486295387,
          1.0340446486295387,
          1.0340446486295387,
          -0.28998786124707,
          -0.28998786124707,
          -0.28998786124707,
          -0.28998786124707,
          -0.22904124139816953,
          -0.22904124139816953,
          -0.22904124139816953,
          -0.22904124139816953,
          -0.22904124139816953,
          -0.22904124139816953,
          -0.24842176927128473,
          -0.24842176927128473,
          -0.24842176927128473,
          -0.24842176927128473,
          -0.24842176927128473,
          -0.24842176927128473,
          -0.24842176927128473,
          -0.24842176927128473,
          -1.628869754532156,
          -1.628869754532156,
          -1.628869754532156,
          -1.628869754532156,
          1.3073638244383148,
          1.3073638244383148,
          1.3073638244383148,
          1.3073638244383148,
          1.5831712401067133,
          1.5831712401067133,
          1.5831712401067133,
          1.5831712401067133,
          -0.44570824441305945,
          -0.44570824441305945,
          -0.44570824441305945,
          -0.44570824441305945,
          -1.3075072239366505,
          -1.3075072239366505,
          -1.3075072239366505,
          -1.3075072239366505,
          1.5411914472467199,
          1.5411914472467199,
          1.5411914472467199,
          1.5411914472467199,
          -0.8173412428314776,
          -0.8173412428314776,
          -0.8173412428314776,
          -0.8173412428314776,
          -0.8173412428314776,
          -0.8173412428314776,
          -0.8173412428314776,
          -0.8173412428314776,
          -1.628869754532156,
          -1.628869754532156,
          -1.628869754532156,
          -1.628869754532156,
          -0.11326111540822897,
          -0.11326111540822897,
          -0.11326111540822897,
          -0.11326111540822897,
          -0.11326111540822897,
          -0.11326111540822897,
          -1.628869754532156,
          -1.628869754532156,
          -1.628869754532156,
          -1.628869754532156,
          -0.15915974491548884,
          -0.15915974491548884,
          -0.15915974491548884,
          -0.15915974491548884,
          -0.15915974491548884,
          -0.15915974491548884,
          -0.15915974491548884,
          -0.15915974491548884,
          1.1628670238472891,
          1.1628670238472891,
          1.1628670238472891,
          1.1628670238472891,
          1.1628670238472891,
          1.1628670238472891,
          1.1628670238472891,
          1.1628670238472891,
          1.947937932369379,
          1.947937932369379,
          1.947937932369379,
          1.947937932369379,
          -0.41556301588526573,
          -0.41556301588526573,
          -0.41556301588526573,
          -0.41556301588526573,
          -1.628869754532156,
          -1.628869754532156,
          -1.628869754532156,
          -1.628869754532156,
          -1.628869754532156,
          -1.628869754532156,
          -1.628869754532156,
          -1.628869754532156,
          -0.5511889567475775,
          -0.5511889567475775,
          -0.5511889567475775,
          -0.5511889567475775,
          -0.33595738754445253,
          -0.33595738754445253,
          -0.33595738754445253,
          -0.33595738754445253,
          -0.33595738754445253,
          -0.33595738754445253,
          -1.628869754532156,
          -1.628869754532156,
          -1.628869754532156,
          -1.628869754532156,
          -1.628869754532156,
          -1.628869754532156,
          -1.628869754532156,
          -1.628869754532156,
          -0.6907991241928865,
          -0.6907991241928865,
          -0.6907991241928865,
          -0.6907991241928865,
          -0.8173412428314776,
          -0.8173412428314776,
          -0.8173412428314776,
          -0.8173412428314776,
          -0.8173412428314776,
          -0.8173412428314776,
          -0.8173412428314776,
          1.6243803413341018,
          1.6243803413341018,
          1.6243803413341018,
          1.6243803413341018,
          -1.628869754532156,
          -1.628869754532156,
          -1.628869754532156,
          -1.628869754532156,
          -1.628869754532156,
          -1.628869754532156,
          -1.628869754532156,
          -1.628869754532156,
          -1.628869754532156,
          0.043469882647757405,
          0.043469882647757405,
          0.043469882647757405,
          -0.19269644459394225,
          -0.19269644459394225,
          -0.19269644459394225,
          -0.19269644459394225,
          -0.19269644459394225,
          -0.19269644459394225,
          -0.19269644459394225,
          -0.2687077213994605,
          -0.2687077213994605,
          -0.2687077213994605,
          -0.2687077213994605,
          -0.2687077213994605,
          -0.2687077213994605,
          -0.2687077213994605,
          0.022742096538186582,
          0.022742096538186582,
          -0.22904124139816953,
          -0.22904124139816953,
          -0.08515302130271117,
          -0.08515302130271117,
          -0.08515302130271117,
          -0.8978094702734347,
          -0.8978094702734347,
          -0.8978094702734347,
          -0.38737510032389394,
          -0.38737510032389394,
          -1.628869754532156,
          -1.628869754532156,
          -1.628869754532156,
          1.89016053645838,
          1.89016053645838,
          1.89016053645838,
          -0.5929299156862665,
          -0.5929299156862665,
          1.769755398739778,
          1.769755398739778,
          1.769755398739778,
          -0.8173412428314776,
          -0.8173412428314776,
          -0.8173412428314776,
          -1.628869754532156,
          -1.628869754532156,
          -0.5929299156862665,
          -0.5929299156862665,
          -0.03386824690590523,
          -0.03386824690590523,
          -1.628869754532156,
          -1.628869754532156,
          -1.628869754532156,
          -1.628869754532156,
          -1.628869754532156,
          -1.628869754532156,
          1.5146596269335493,
          1.5146596269335493,
          -1.628869754532156,
          -1.628869754532156,
          -1.628869754532156,
          1.3251827021124443,
          1.3251827021124443,
          1.790538005243911,
          1.790538005243911,
          1.790538005243911,
          -0.9966571346641311,
          -0.9966571346641311,
          -0.11326111540822897,
          -0.11326111540822897,
          -0.11326111540822897,
          -0.11326111540822897,
          -0.11326111540822897,
          -0.11326111540822897,
          -0.11326111540822897,
          1.6817771003269693,
          1.6817771003269693,
          1.6817771003269693,
          1.6817771003269693,
          1.6817771003269693,
          -1.628869754532156,
          -1.628869754532156,
          -1.628869754532156
         ],
         "xaxis": "x",
         "y": [
          0.2775043845176697,
          0.2764306664466858,
          0.2789990305900574,
          0.2796706557273865,
          0.27730652689933777,
          0.17620041966438293,
          0.1783822923898697,
          0.17456071078777313,
          0.1728573441505432,
          0.17794208228588104,
          0.1746058464050293,
          0.17433644831180573,
          0.11585167050361633,
          0.11779820919036865,
          0.11475417762994766,
          0.1163463443517685,
          0.11541735380887985,
          0.11605595797300339,
          0.11654306203126907,
          0.28418880701065063,
          0.2862464487552643,
          0.28482890129089355,
          0.2819920480251312,
          0.28481122851371765,
          0.1825522631406784,
          0.18650716543197632,
          0.18195071816444397,
          0.18308834731578827,
          0.1828872561454773,
          0.04353540390729904,
          0.0440254844725132,
          0.044109247624874115,
          0.04356924816966057,
          0.04407411441206932,
          0.2925269305706024,
          0.29116323590278625,
          0.2909598648548126,
          0.290587842464447,
          0.2914296090602875,
          0.2822953164577484,
          0.2879117727279663,
          0.2843254804611206,
          0.28358566761016846,
          0.2865293025970459,
          0.17752784490585327,
          0.17685696482658386,
          0.17822834849357605,
          0.17841066420078278,
          0.17714853584766388,
          0.15485024452209473,
          0.15625624358654022,
          0.15256991982460022,
          0.15564720332622528,
          0.15306764841079712,
          0.18202315270900726,
          0.18454599380493164,
          0.18414895236492157,
          0.18589608371257782,
          0.18279214203357697,
          0.18142513930797577,
          0.18275490403175354,
          0.17862583696842194,
          0.1781938374042511,
          0.176776722073555,
          0.17944902181625366,
          0.18238696455955505,
          0.17855830490589142,
          0.17581063508987427,
          0.17141610383987427,
          0.1711045652627945,
          0.17115412652492523,
          0.1708838790655136,
          0.17023317515850067,
          0.08765262365341187,
          0.08633705973625183,
          0.08609005808830261,
          0.0876777172088623,
          0.08516871929168701,
          0.1835106909275055,
          0.18568871915340424,
          0.18499627709388733,
          0.1880139410495758,
          0.28378942608833313,
          0.28386563062667847,
          0.28519439697265625,
          0.28249019384384155,
          0.1734660267829895,
          0.17328108847141266,
          0.17527922987937927,
          0.1764967292547226,
          0.07456842809915543,
          0.07345596700906754,
          0.07246657460927963,
          0.0734710544347763,
          0.09616123884916306,
          0.09416387975215912,
          0.09492763131856918,
          0.09587382525205612,
          0.2880452871322632,
          0.28481507301330566,
          0.28017929196357727,
          0.28080350160598755,
          0.1971423178911209,
          0.1974366307258606,
          0.19778752326965332,
          0.19783546030521393,
          0.20007120072841644,
          0.1948622316122055,
          0.19509658217430115,
          0.1997203826904297,
          0.10302276909351349,
          0.10367976874113083,
          0.10676028579473495,
          0.1066383346915245,
          0.15586689114570618,
          0.1562609225511551,
          0.1560683697462082,
          0.1541639119386673,
          0.17685075104236603,
          0.1713470220565796,
          0.17295365035533905,
          0.17524351179599762,
          0.036951176822185516,
          0.036603134125471115,
          0.03603757545351982,
          0.03626959025859833,
          0.16704052686691284,
          0.16613391041755676,
          0.16784541308879852,
          0.16475747525691986,
          0.05583367124199867,
          0.056067194789648056,
          0.05712663009762764,
          0.1694684773683548,
          0.17188270390033722,
          0.17110282182693481,
          0.1705486923456192,
          0.16885919868946075,
          0.16729401051998138,
          0.05761441960930824,
          0.05707696080207825,
          0.05843603238463402,
          0.1926945298910141,
          0.19293569028377533,
          0.19466382265090942,
          0.19124042987823486,
          0.19211730360984802,
          0.19185209274291992,
          0.18585923314094543,
          0.18550635874271393,
          0.1924416422843933,
          0.18523697555065155,
          0.18113811314105988,
          0.1808646321296692,
          0.192744180560112,
          0.1955350786447525,
          0.1909443587064743,
          0.196052685379982,
          0.11150673776865005,
          0.11198769509792328,
          0.11288363486528397,
          0.11465147882699966,
          0.11140799522399902,
          0.1142779141664505,
          0.10848182439804077,
          0.11095196008682251,
          0.11043312400579453,
          0.03835620358586311,
          0.03634246438741684,
          0.03687656298279762,
          0.13682974874973297,
          0.134672611951828,
          0.12534251809120178,
          0.1346452683210373,
          0.13375826179981232,
          0.12711726129055023,
          0.17811934649944305,
          0.18226614594459534,
          0.18356502056121826,
          0.18156732618808746,
          0.3121877908706665,
          0.3180691599845886,
          0.3166954219341278,
          0.3142400085926056,
          0.19158586859703064,
          0.1909453123807907,
          0.18957173824310303,
          0.1944553107023239,
          0.28519099950790405,
          0.28540855646133423,
          0.28410327434539795,
          0.20405572652816772,
          0.19510045647621155,
          0.20111721754074097,
          0.2024749368429184,
          0.05236981809139252,
          0.053233567625284195,
          0.05255594477057457,
          0.09458477050065994,
          0.09409183263778687,
          0.09588431566953659,
          0.09730629622936249,
          0.3114381432533264,
          0.31101617217063904,
          0.31086966395378113,
          0.06249697133898735,
          0.06016609072685242,
          0.05936216935515404,
          0.06102491170167923,
          0.15406076610088348,
          0.15242059528827667,
          0.15338198840618134,
          0.1517244577407837,
          0.19188684225082397,
          0.19222968816757202,
          0.1888546496629715,
          0.1876242756843567,
          0.19013440608978271,
          0.19106923043727875,
          0.1780264526605606,
          0.17173469066619873,
          0.17539483308792114,
          0.17686161398887634,
          0.17716768383979797,
          0.17691932618618011,
          0.17771068215370178,
          0.17800892889499664,
          0.28635910153388977,
          0.2817532420158386,
          0.28177979588508606,
          0.2810898423194885,
          0.10569318383932114,
          0.10393062233924866,
          0.10028931498527527,
          0.10367931425571442,
          0.0699990838766098,
          0.06941275298595428,
          0.06961742788553238,
          0.06883806735277176,
          0.18714143335819244,
          0.19176676869392395,
          0.189097598195076,
          0.1872750222682953,
          0.1622970700263977,
          0.16325180232524872,
          0.16454187035560608,
          0.1619417369365692,
          0.10495064407587051,
          0.10644196718931198,
          0.10532635450363159,
          0.10304797440767288,
          0.2192334681749344,
          0.22146663069725037,
          0.22091560065746307,
          0.2230723649263382,
          0.2180442214012146,
          0.22373639047145844,
          0.22450263798236847,
          0.2232743203639984,
          0.28127041459083557,
          0.282632976770401,
          0.28665220737457275,
          0.2843044400215149,
          0.16874319314956665,
          0.16487054526805878,
          0.16401231288909912,
          0.16929222643375397,
          0.16786529123783112,
          0.16736017167568207,
          0.283456951379776,
          0.2804828882217407,
          0.281607985496521,
          0.28522810339927673,
          0.18315063416957855,
          0.18382787704467773,
          0.18107455968856812,
          0.17733101546764374,
          0.18173542618751526,
          0.18340176343917847,
          0.17924603819847107,
          0.1869748830795288,
          0.12420003861188889,
          0.12529635429382324,
          0.12716566026210785,
          0.12552647292613983,
          0.1291455179452896,
          0.1267993450164795,
          0.12780608236789703,
          0.12719792127609253,
          0.048658739775419235,
          0.046785563230514526,
          0.047967519611120224,
          0.0474289208650589,
          0.15591725707054138,
          0.15538892149925232,
          0.15589824318885803,
          0.1540534645318985,
          0.27907994389533997,
          0.2812286615371704,
          0.281208336353302,
          0.2727699279785156,
          0.2716703712940216,
          0.2711303234100342,
          0.2739500403404236,
          0.2740303874015808,
          0.16280759871006012,
          0.1631239354610443,
          0.1647210270166397,
          0.16219903528690338,
          0.1915571540594101,
          0.18780097365379333,
          0.18407252430915833,
          0.185936838388443,
          0.1865983009338379,
          0.18676349520683289,
          0.28108862042427063,
          0.28308019042015076,
          0.2832726836204529,
          0.28532660007476807,
          0.3138933777809143,
          0.3116598427295685,
          0.31177547574043274,
          0.3118002116680145,
          0.1738085150718689,
          0.16999675333499908,
          0.16891802847385406,
          0.1687498688697815,
          0.17311590909957886,
          0.17273445427417755,
          0.17077304422855377,
          0.17197135090827942,
          0.17286695539951324,
          0.17066597938537598,
          0.17198270559310913,
          0.06740854680538177,
          0.0665212944149971,
          0.0668414831161499,
          0.06890064477920532,
          0.30682700872421265,
          0.30876287817955017,
          0.3061220049858093,
          0.30181801319122314,
          0.28573015332221985,
          0.2823890149593353,
          0.28818726539611816,
          0.3069666624069214,
          0.2988525629043579,
          0.22031942009925842,
          0.19917654991149902,
          0.2226794809103012,
          0.17442941665649414,
          0.17368777096271515,
          0.17194455862045288,
          0.1741892397403717,
          0.1713036447763443,
          0.1696988195180893,
          0.17141148447990417,
          0.17953048646450043,
          0.19164927303791046,
          0.18226224184036255,
          0.18480460345745087,
          0.1850735992193222,
          0.1840946525335312,
          0.18995243310928345,
          0.17809438705444336,
          0.1765076369047165,
          0.1608562022447586,
          0.15936389565467834,
          0.15840165317058563,
          0.1589212566614151,
          0.15870459377765656,
          0.15760745108127594,
          0.15808193385601044,
          0.15808378159999847,
          0.15074363350868225,
          0.1471165418624878,
          0.3198009133338928,
          0.3229314982891083,
          0.31067612767219543,
          0.09486433863639832,
          0.10283926874399185,
          0.09839504212141037,
          0.18401724100112915,
          0.18615859746932983,
          0.06095300242304802,
          0.060778435319662094,
          0.05984347313642502,
          0.19796542823314667,
          0.1993955671787262,
          0.19446857273578644,
          0.28480467200279236,
          0.284975528717041,
          0.16269905865192413,
          0.1618669480085373,
          0.169564887881279,
          0.1795690804719925,
          0.332526296377182,
          0.3251991271972656,
          0.31893619894981384,
          0.2960148751735687,
          0.29256612062454224,
          0.29713135957717896,
          0.08052662014961243,
          0.08503282815217972,
          0.27098435163497925,
          0.27238377928733826,
          0.27484726905822754,
          0.04693150892853737,
          0.04758445918560028,
          0.07127885520458221,
          0.07070013135671616,
          0.0701586902141571,
          0.18687176704406738,
          0.18377554416656494,
          0.18975165486335754,
          0.1828088015317917,
          0.1780492663383484,
          0.19089701771736145,
          0.18451623618602753,
          0.1873239427804947,
          0.18892772495746613,
          0.12419931590557098,
          0.11780592799186707,
          0.13035248219966888,
          0.1256210058927536,
          0.12931504845619202,
          0.2804735600948334,
          0.2828150689601898,
          0.28378134965896606
         ],
         "yaxis": "y"
        }
       ],
       "layout": {
        "coloraxis": {
         "colorbar": {
          "title": {
           "text": "loss"
          }
         },
         "colorscale": [
          [
           0,
           "#0d0887"
          ],
          [
           0.1111111111111111,
           "#46039f"
          ],
          [
           0.2222222222222222,
           "#7201a8"
          ],
          [
           0.3333333333333333,
           "#9c179e"
          ],
          [
           0.4444444444444444,
           "#bd3786"
          ],
          [
           0.5555555555555556,
           "#d8576b"
          ],
          [
           0.6666666666666666,
           "#ed7953"
          ],
          [
           0.7777777777777778,
           "#fb9f3a"
          ],
          [
           0.8888888888888888,
           "#fdca26"
          ],
          [
           1,
           "#f0f921"
          ]
         ]
        },
        "legend": {
         "tracegroupgap": 0
        },
        "margin": {
         "t": 60
        },
        "template": {
         "data": {
          "bar": [
           {
            "error_x": {
             "color": "#2a3f5f"
            },
            "error_y": {
             "color": "#2a3f5f"
            },
            "marker": {
             "line": {
              "color": "#E5ECF6",
              "width": 0.5
             },
             "pattern": {
              "fillmode": "overlay",
              "size": 10,
              "solidity": 0.2
             }
            },
            "type": "bar"
           }
          ],
          "barpolar": [
           {
            "marker": {
             "line": {
              "color": "#E5ECF6",
              "width": 0.5
             },
             "pattern": {
              "fillmode": "overlay",
              "size": 10,
              "solidity": 0.2
             }
            },
            "type": "barpolar"
           }
          ],
          "carpet": [
           {
            "aaxis": {
             "endlinecolor": "#2a3f5f",
             "gridcolor": "white",
             "linecolor": "white",
             "minorgridcolor": "white",
             "startlinecolor": "#2a3f5f"
            },
            "baxis": {
             "endlinecolor": "#2a3f5f",
             "gridcolor": "white",
             "linecolor": "white",
             "minorgridcolor": "white",
             "startlinecolor": "#2a3f5f"
            },
            "type": "carpet"
           }
          ],
          "choropleth": [
           {
            "colorbar": {
             "outlinewidth": 0,
             "ticks": ""
            },
            "type": "choropleth"
           }
          ],
          "contour": [
           {
            "colorbar": {
             "outlinewidth": 0,
             "ticks": ""
            },
            "colorscale": [
             [
              0,
              "#0d0887"
             ],
             [
              0.1111111111111111,
              "#46039f"
             ],
             [
              0.2222222222222222,
              "#7201a8"
             ],
             [
              0.3333333333333333,
              "#9c179e"
             ],
             [
              0.4444444444444444,
              "#bd3786"
             ],
             [
              0.5555555555555556,
              "#d8576b"
             ],
             [
              0.6666666666666666,
              "#ed7953"
             ],
             [
              0.7777777777777778,
              "#fb9f3a"
             ],
             [
              0.8888888888888888,
              "#fdca26"
             ],
             [
              1,
              "#f0f921"
             ]
            ],
            "type": "contour"
           }
          ],
          "contourcarpet": [
           {
            "colorbar": {
             "outlinewidth": 0,
             "ticks": ""
            },
            "type": "contourcarpet"
           }
          ],
          "heatmap": [
           {
            "colorbar": {
             "outlinewidth": 0,
             "ticks": ""
            },
            "colorscale": [
             [
              0,
              "#0d0887"
             ],
             [
              0.1111111111111111,
              "#46039f"
             ],
             [
              0.2222222222222222,
              "#7201a8"
             ],
             [
              0.3333333333333333,
              "#9c179e"
             ],
             [
              0.4444444444444444,
              "#bd3786"
             ],
             [
              0.5555555555555556,
              "#d8576b"
             ],
             [
              0.6666666666666666,
              "#ed7953"
             ],
             [
              0.7777777777777778,
              "#fb9f3a"
             ],
             [
              0.8888888888888888,
              "#fdca26"
             ],
             [
              1,
              "#f0f921"
             ]
            ],
            "type": "heatmap"
           }
          ],
          "heatmapgl": [
           {
            "colorbar": {
             "outlinewidth": 0,
             "ticks": ""
            },
            "colorscale": [
             [
              0,
              "#0d0887"
             ],
             [
              0.1111111111111111,
              "#46039f"
             ],
             [
              0.2222222222222222,
              "#7201a8"
             ],
             [
              0.3333333333333333,
              "#9c179e"
             ],
             [
              0.4444444444444444,
              "#bd3786"
             ],
             [
              0.5555555555555556,
              "#d8576b"
             ],
             [
              0.6666666666666666,
              "#ed7953"
             ],
             [
              0.7777777777777778,
              "#fb9f3a"
             ],
             [
              0.8888888888888888,
              "#fdca26"
             ],
             [
              1,
              "#f0f921"
             ]
            ],
            "type": "heatmapgl"
           }
          ],
          "histogram": [
           {
            "marker": {
             "pattern": {
              "fillmode": "overlay",
              "size": 10,
              "solidity": 0.2
             }
            },
            "type": "histogram"
           }
          ],
          "histogram2d": [
           {
            "colorbar": {
             "outlinewidth": 0,
             "ticks": ""
            },
            "colorscale": [
             [
              0,
              "#0d0887"
             ],
             [
              0.1111111111111111,
              "#46039f"
             ],
             [
              0.2222222222222222,
              "#7201a8"
             ],
             [
              0.3333333333333333,
              "#9c179e"
             ],
             [
              0.4444444444444444,
              "#bd3786"
             ],
             [
              0.5555555555555556,
              "#d8576b"
             ],
             [
              0.6666666666666666,
              "#ed7953"
             ],
             [
              0.7777777777777778,
              "#fb9f3a"
             ],
             [
              0.8888888888888888,
              "#fdca26"
             ],
             [
              1,
              "#f0f921"
             ]
            ],
            "type": "histogram2d"
           }
          ],
          "histogram2dcontour": [
           {
            "colorbar": {
             "outlinewidth": 0,
             "ticks": ""
            },
            "colorscale": [
             [
              0,
              "#0d0887"
             ],
             [
              0.1111111111111111,
              "#46039f"
             ],
             [
              0.2222222222222222,
              "#7201a8"
             ],
             [
              0.3333333333333333,
              "#9c179e"
             ],
             [
              0.4444444444444444,
              "#bd3786"
             ],
             [
              0.5555555555555556,
              "#d8576b"
             ],
             [
              0.6666666666666666,
              "#ed7953"
             ],
             [
              0.7777777777777778,
              "#fb9f3a"
             ],
             [
              0.8888888888888888,
              "#fdca26"
             ],
             [
              1,
              "#f0f921"
             ]
            ],
            "type": "histogram2dcontour"
           }
          ],
          "mesh3d": [
           {
            "colorbar": {
             "outlinewidth": 0,
             "ticks": ""
            },
            "type": "mesh3d"
           }
          ],
          "parcoords": [
           {
            "line": {
             "colorbar": {
              "outlinewidth": 0,
              "ticks": ""
             }
            },
            "type": "parcoords"
           }
          ],
          "pie": [
           {
            "automargin": true,
            "type": "pie"
           }
          ],
          "scatter": [
           {
            "fillpattern": {
             "fillmode": "overlay",
             "size": 10,
             "solidity": 0.2
            },
            "type": "scatter"
           }
          ],
          "scatter3d": [
           {
            "line": {
             "colorbar": {
              "outlinewidth": 0,
              "ticks": ""
             }
            },
            "marker": {
             "colorbar": {
              "outlinewidth": 0,
              "ticks": ""
             }
            },
            "type": "scatter3d"
           }
          ],
          "scattercarpet": [
           {
            "marker": {
             "colorbar": {
              "outlinewidth": 0,
              "ticks": ""
             }
            },
            "type": "scattercarpet"
           }
          ],
          "scattergeo": [
           {
            "marker": {
             "colorbar": {
              "outlinewidth": 0,
              "ticks": ""
             }
            },
            "type": "scattergeo"
           }
          ],
          "scattergl": [
           {
            "marker": {
             "colorbar": {
              "outlinewidth": 0,
              "ticks": ""
             }
            },
            "type": "scattergl"
           }
          ],
          "scattermapbox": [
           {
            "marker": {
             "colorbar": {
              "outlinewidth": 0,
              "ticks": ""
             }
            },
            "type": "scattermapbox"
           }
          ],
          "scatterpolar": [
           {
            "marker": {
             "colorbar": {
              "outlinewidth": 0,
              "ticks": ""
             }
            },
            "type": "scatterpolar"
           }
          ],
          "scatterpolargl": [
           {
            "marker": {
             "colorbar": {
              "outlinewidth": 0,
              "ticks": ""
             }
            },
            "type": "scatterpolargl"
           }
          ],
          "scatterternary": [
           {
            "marker": {
             "colorbar": {
              "outlinewidth": 0,
              "ticks": ""
             }
            },
            "type": "scatterternary"
           }
          ],
          "surface": [
           {
            "colorbar": {
             "outlinewidth": 0,
             "ticks": ""
            },
            "colorscale": [
             [
              0,
              "#0d0887"
             ],
             [
              0.1111111111111111,
              "#46039f"
             ],
             [
              0.2222222222222222,
              "#7201a8"
             ],
             [
              0.3333333333333333,
              "#9c179e"
             ],
             [
              0.4444444444444444,
              "#bd3786"
             ],
             [
              0.5555555555555556,
              "#d8576b"
             ],
             [
              0.6666666666666666,
              "#ed7953"
             ],
             [
              0.7777777777777778,
              "#fb9f3a"
             ],
             [
              0.8888888888888888,
              "#fdca26"
             ],
             [
              1,
              "#f0f921"
             ]
            ],
            "type": "surface"
           }
          ],
          "table": [
           {
            "cells": {
             "fill": {
              "color": "#EBF0F8"
             },
             "line": {
              "color": "white"
             }
            },
            "header": {
             "fill": {
              "color": "#C8D4E3"
             },
             "line": {
              "color": "white"
             }
            },
            "type": "table"
           }
          ]
         },
         "layout": {
          "annotationdefaults": {
           "arrowcolor": "#2a3f5f",
           "arrowhead": 0,
           "arrowwidth": 1
          },
          "autotypenumbers": "strict",
          "coloraxis": {
           "colorbar": {
            "outlinewidth": 0,
            "ticks": ""
           }
          },
          "colorscale": {
           "diverging": [
            [
             0,
             "#8e0152"
            ],
            [
             0.1,
             "#c51b7d"
            ],
            [
             0.2,
             "#de77ae"
            ],
            [
             0.3,
             "#f1b6da"
            ],
            [
             0.4,
             "#fde0ef"
            ],
            [
             0.5,
             "#f7f7f7"
            ],
            [
             0.6,
             "#e6f5d0"
            ],
            [
             0.7,
             "#b8e186"
            ],
            [
             0.8,
             "#7fbc41"
            ],
            [
             0.9,
             "#4d9221"
            ],
            [
             1,
             "#276419"
            ]
           ],
           "sequential": [
            [
             0,
             "#0d0887"
            ],
            [
             0.1111111111111111,
             "#46039f"
            ],
            [
             0.2222222222222222,
             "#7201a8"
            ],
            [
             0.3333333333333333,
             "#9c179e"
            ],
            [
             0.4444444444444444,
             "#bd3786"
            ],
            [
             0.5555555555555556,
             "#d8576b"
            ],
            [
             0.6666666666666666,
             "#ed7953"
            ],
            [
             0.7777777777777778,
             "#fb9f3a"
            ],
            [
             0.8888888888888888,
             "#fdca26"
            ],
            [
             1,
             "#f0f921"
            ]
           ],
           "sequentialminus": [
            [
             0,
             "#0d0887"
            ],
            [
             0.1111111111111111,
             "#46039f"
            ],
            [
             0.2222222222222222,
             "#7201a8"
            ],
            [
             0.3333333333333333,
             "#9c179e"
            ],
            [
             0.4444444444444444,
             "#bd3786"
            ],
            [
             0.5555555555555556,
             "#d8576b"
            ],
            [
             0.6666666666666666,
             "#ed7953"
            ],
            [
             0.7777777777777778,
             "#fb9f3a"
            ],
            [
             0.8888888888888888,
             "#fdca26"
            ],
            [
             1,
             "#f0f921"
            ]
           ]
          },
          "colorway": [
           "#636efa",
           "#EF553B",
           "#00cc96",
           "#ab63fa",
           "#FFA15A",
           "#19d3f3",
           "#FF6692",
           "#B6E880",
           "#FF97FF",
           "#FECB52"
          ],
          "font": {
           "color": "#2a3f5f"
          },
          "geo": {
           "bgcolor": "white",
           "lakecolor": "white",
           "landcolor": "#E5ECF6",
           "showlakes": true,
           "showland": true,
           "subunitcolor": "white"
          },
          "hoverlabel": {
           "align": "left"
          },
          "hovermode": "closest",
          "mapbox": {
           "style": "light"
          },
          "paper_bgcolor": "white",
          "plot_bgcolor": "#E5ECF6",
          "polar": {
           "angularaxis": {
            "gridcolor": "white",
            "linecolor": "white",
            "ticks": ""
           },
           "bgcolor": "#E5ECF6",
           "radialaxis": {
            "gridcolor": "white",
            "linecolor": "white",
            "ticks": ""
           }
          },
          "scene": {
           "xaxis": {
            "backgroundcolor": "#E5ECF6",
            "gridcolor": "white",
            "gridwidth": 2,
            "linecolor": "white",
            "showbackground": true,
            "ticks": "",
            "zerolinecolor": "white"
           },
           "yaxis": {
            "backgroundcolor": "#E5ECF6",
            "gridcolor": "white",
            "gridwidth": 2,
            "linecolor": "white",
            "showbackground": true,
            "ticks": "",
            "zerolinecolor": "white"
           },
           "zaxis": {
            "backgroundcolor": "#E5ECF6",
            "gridcolor": "white",
            "gridwidth": 2,
            "linecolor": "white",
            "showbackground": true,
            "ticks": "",
            "zerolinecolor": "white"
           }
          },
          "shapedefaults": {
           "line": {
            "color": "#2a3f5f"
           }
          },
          "ternary": {
           "aaxis": {
            "gridcolor": "white",
            "linecolor": "white",
            "ticks": ""
           },
           "baxis": {
            "gridcolor": "white",
            "linecolor": "white",
            "ticks": ""
           },
           "bgcolor": "#E5ECF6",
           "caxis": {
            "gridcolor": "white",
            "linecolor": "white",
            "ticks": ""
           }
          },
          "title": {
           "x": 0.05
          },
          "xaxis": {
           "automargin": true,
           "gridcolor": "white",
           "linecolor": "white",
           "ticks": "",
           "title": {
            "standoff": 15
           },
           "zerolinecolor": "white",
           "zerolinewidth": 2
          },
          "yaxis": {
           "automargin": true,
           "gridcolor": "white",
           "linecolor": "white",
           "ticks": "",
           "title": {
            "standoff": 15
           },
           "zerolinecolor": "white",
           "zerolinewidth": 2
          }
         }
        },
        "xaxis": {
         "anchor": "y",
         "domain": [
          0,
          1
         ],
         "title": {
          "text": "log_quantile"
         }
        },
        "yaxis": {
         "anchor": "x",
         "domain": [
          0,
          1
         ],
         "title": {
          "text": "loss"
         }
        }
       }
      },
      "text/html": [
       "<div>                            <div id=\"c68ae5e0-c682-41f8-83bc-7cfbb2edb24e\" class=\"plotly-graph-div\" style=\"height:525px; width:100%;\"></div>            <script type=\"text/javascript\">                require([\"plotly\"], function(Plotly) {                    window.PLOTLYENV=window.PLOTLYENV || {};                                    if (document.getElementById(\"c68ae5e0-c682-41f8-83bc-7cfbb2edb24e\")) {                    Plotly.newPlot(                        \"c68ae5e0-c682-41f8-83bc-7cfbb2edb24e\",                        [{\"customdata\":[[\"random_Mon_Feb_7_22-50-42_2022.json\",[3.0,3.0,1.0],[0.922074019908905,0.9219745397567749]],[\"random_Mon_Feb_7_22-50-42_2022.json\",[3.0,3.0,1.0],[0.922074019908905,0.9219745397567749]],[\"random_Mon_Feb_7_22-50-42_2022.json\",[3.0,3.0,1.0],[0.922074019908905,0.9219745397567749]],[\"random_Mon_Feb_7_22-50-42_2022.json\",[3.0,3.0,1.0],[0.922074019908905,0.9219745397567749]],[\"random_Mon_Feb_7_22-50-42_2022.json\",[3.0,3.0,1.0],[0.922074019908905,0.9219745397567749]],[\"random_Fri_Oct_15_09-15-52_2021.json\",[0.6326530612244898,1.0221774193548387,0.9132149901380671],[0.9493431448936462,0.9493431448936462]],[\"random_Fri_Oct_15_09-15-52_2021.json\",[0.6326530612244898,1.0221774193548387,0.9132149901380671],[0.9493431448936462,0.9493431448936462]],[\"random_Fri_Oct_15_09-15-52_2021.json\",[0.6326530612244898,1.0221774193548387,0.9132149901380671],[0.9493431448936462,0.9493431448936462]],[\"random_Fri_Oct_15_09-15-52_2021.json\",[0.6326530612244898,1.0221774193548387,0.9132149901380671],[0.9493431448936462,0.9493431448936462]],[\"random_Fri_Oct_15_09-15-52_2021.json\",[0.6326530612244898,1.0221774193548387,0.9132149901380671],[0.9493431448936462,0.9493431448936462]],[\"random_Fri_Oct_15_09-15-52_2021.json\",[0.6326530612244898,1.0221774193548387,0.9132149901380671],[0.9493431448936462,0.9493431448936462]],[\"random_Fri_Oct_15_09-15-52_2021.json\",[0.6326530612244898,1.0221774193548387,0.9132149901380671],[0.9493431448936462,0.9493431448936462]],[\"random_Fri_Oct_15_08-44-05_2021.json\",[0.9170918367346939,0.9374130737134909,1.2299703264094954],[0.9613853693008423,0.9631767272949219]],[\"random_Fri_Oct_15_08-44-05_2021.json\",[0.9170918367346939,0.9374130737134909,1.2299703264094954],[0.9613853693008423,0.9631767272949219]],[\"random_Fri_Oct_15_08-44-05_2021.json\",[0.9170918367346939,0.9374130737134909,1.2299703264094954],[0.9613853693008423,0.9631767272949219]],[\"random_Fri_Oct_15_08-44-05_2021.json\",[0.9170918367346939,0.9374130737134909,1.2299703264094954],[0.9613853693008423,0.9631767272949219]],[\"random_Fri_Oct_15_08-44-05_2021.json\",[0.9170918367346939,0.9374130737134909,1.2299703264094954],[0.9613853693008423,0.9631767272949219]],[\"random_Fri_Oct_15_08-44-05_2021.json\",[0.9170918367346939,0.9374130737134909,1.2299703264094954],[0.9613853693008423,0.9631767272949219]],[\"random_Fri_Oct_15_08-44-05_2021.json\",[0.9170918367346939,0.9374130737134909,1.2299703264094954],[0.9613853693008423,0.9631767272949219]],[\"random_Mon_Feb_7_22-57-04_2022.json\",[4.0,0.3333333333333333,3.0],[0.9202826619148254,0.9205812215805054]],[\"random_Mon_Feb_7_22-57-04_2022.json\",[4.0,0.3333333333333333,3.0],[0.9202826619148254,0.9205812215805054]],[\"random_Mon_Feb_7_22-57-04_2022.json\",[4.0,0.3333333333333333,3.0],[0.9202826619148254,0.9205812215805054]],[\"random_Mon_Feb_7_22-57-04_2022.json\",[4.0,0.3333333333333333,3.0],[0.9202826619148254,0.9205812215805054]],[\"random_Mon_Feb_7_22-57-04_2022.json\",[4.0,0.3333333333333333,3.0],[0.9202826619148254,0.9205812215805054]],[\"random_Mon_Feb_7_22-47-24_2022.json\",[0.6666666666666666,0.6666666666666666,4.0],[0.9487460255622864,0.9465565085411072]],[\"random_Mon_Feb_7_22-47-24_2022.json\",[0.6666666666666666,0.6666666666666666,4.0],[0.9487460255622864,0.9465565085411072]],[\"random_Mon_Feb_7_22-47-24_2022.json\",[0.6666666666666666,0.6666666666666666,4.0],[0.9487460255622864,0.9465565085411072]],[\"random_Mon_Feb_7_22-47-24_2022.json\",[0.6666666666666666,0.6666666666666666,4.0],[0.9487460255622864,0.9465565085411072]],[\"random_Mon_Feb_7_22-47-24_2022.json\",[0.6666666666666666,0.6666666666666666,4.0],[0.9487460255622864,0.9465565085411072]],[\"random_Mon_Feb_7_22-56-43_2022.json\",[4.0,2.0,3.0],[0.9764131903648376,0.9746218323707581]],[\"random_Mon_Feb_7_22-56-43_2022.json\",[4.0,2.0,3.0],[0.9764131903648376,0.9746218323707581]],[\"random_Mon_Feb_7_22-56-43_2022.json\",[4.0,2.0,3.0],[0.9764131903648376,0.9746218323707581]],[\"random_Mon_Feb_7_22-56-43_2022.json\",[4.0,2.0,3.0],[0.9764131903648376,0.9746218323707581]],[\"random_Mon_Feb_7_22-56-43_2022.json\",[4.0,2.0,3.0],[0.9764131903648376,0.9746218323707581]],[\"random_Mon_Feb_7_22-53-10_2022.json\",[1.5,0.5,3.0],[0.9186902642250061,0.9190883636474609]],[\"random_Mon_Feb_7_22-53-10_2022.json\",[1.5,0.5,3.0],[0.9186902642250061,0.9190883636474609]],[\"random_Mon_Feb_7_22-53-10_2022.json\",[1.5,0.5,3.0],[0.9186902642250061,0.9190883636474609]],[\"random_Mon_Feb_7_22-53-10_2022.json\",[1.5,0.5,3.0],[0.9186902642250061,0.9190883636474609]],[\"random_Mon_Feb_7_22-53-10_2022.json\",[1.5,0.5,3.0],[0.9186902642250061,0.9190883636474609]],[\"random_Mon_Feb_7_22-46-16_2022.json\",[1.0,1.5,0.3333333333333333],[0.9224721193313599,0.9195860028266907]],[\"random_Mon_Feb_7_22-46-16_2022.json\",[1.0,1.5,0.3333333333333333],[0.9224721193313599,0.9195860028266907]],[\"random_Mon_Feb_7_22-46-16_2022.json\",[1.0,1.5,0.3333333333333333],[0.9224721193313599,0.9195860028266907]],[\"random_Mon_Feb_7_22-46-16_2022.json\",[1.0,1.5,0.3333333333333333],[0.9224721193313599,0.9195860028266907]],[\"random_Mon_Feb_7_22-46-16_2022.json\",[1.0,1.5,0.3333333333333333],[0.9224721193313599,0.9195860028266907]],[\"random_Mon_Feb_7_22-50-43_2022.json\",[0.5,1.5,0.3333333333333333],[0.9471536874771118,0.9481489062309265]],[\"random_Mon_Feb_7_22-50-43_2022.json\",[0.5,1.5,0.3333333333333333],[0.9471536874771118,0.9481489062309265]],[\"random_Mon_Feb_7_22-50-43_2022.json\",[0.5,1.5,0.3333333333333333],[0.9471536874771118,0.9481489062309265]],[\"random_Mon_Feb_7_22-50-43_2022.json\",[0.5,1.5,0.3333333333333333],[0.9471536874771118,0.9481489062309265]],[\"random_Mon_Feb_7_22-50-43_2022.json\",[0.5,1.5,0.3333333333333333],[0.9471536874771118,0.9481489062309265]],[\"random_Mon_Feb_7_22-45-16_2022.json\",[2.0,1.0,0.25],[0.9538216590881348,0.9542197585105896]],[\"random_Mon_Feb_7_22-45-16_2022.json\",[2.0,1.0,0.25],[0.9538216590881348,0.9542197585105896]],[\"random_Mon_Feb_7_22-45-16_2022.json\",[2.0,1.0,0.25],[0.9538216590881348,0.9542197585105896]],[\"random_Mon_Feb_7_22-45-16_2022.json\",[2.0,1.0,0.25],[0.9538216590881348,0.9542197585105896]],[\"random_Mon_Feb_7_22-45-16_2022.json\",[2.0,1.0,0.25],[0.9538216590881348,0.9542197585105896]],[\"random_Fri_Oct_15_09-17-31_2021.json\",[0.36096938775510207,1.6254416961130742,0.2782608695652174],[0.9466560482978821,0.9471536874771118]],[\"random_Fri_Oct_15_09-17-31_2021.json\",[0.36096938775510207,1.6254416961130742,0.2782608695652174],[0.9466560482978821,0.9471536874771118]],[\"random_Fri_Oct_15_09-17-31_2021.json\",[0.36096938775510207,1.6254416961130742,0.2782608695652174],[0.9466560482978821,0.9471536874771118]],[\"random_Fri_Oct_15_09-17-31_2021.json\",[0.36096938775510207,1.6254416961130742,0.2782608695652174],[0.9466560482978821,0.9471536874771118]],[\"random_Fri_Oct_15_09-17-31_2021.json\",[0.36096938775510207,1.6254416961130742,0.2782608695652174],[0.9466560482978821,0.9471536874771118]],[\"random_Fri_Oct_15_09-17-31_2021.json\",[0.36096938775510207,1.6254416961130742,0.2782608695652174],[0.9466560482978821,0.9471536874771118]],[\"random_Fri_Oct_15_09-17-31_2021.json\",[0.36096938775510207,1.6254416961130742,0.2782608695652174],[0.9466560482978821,0.9471536874771118]],[\"random_Fri_Oct_15_08-56-53_2021.json\",[0.5102040816326531,0.9275,0.477088948787062],[0.9478503465652466,0.9481489062309265]],[\"random_Fri_Oct_15_08-56-53_2021.json\",[0.5102040816326531,0.9275,0.477088948787062],[0.9478503465652466,0.9481489062309265]],[\"random_Fri_Oct_15_08-56-53_2021.json\",[0.5102040816326531,0.9275,0.477088948787062],[0.9478503465652466,0.9481489062309265]],[\"random_Fri_Oct_15_08-56-53_2021.json\",[0.5102040816326531,0.9275,0.477088948787062],[0.9478503465652466,0.9481489062309265]],[\"random_Fri_Oct_15_08-56-53_2021.json\",[0.5102040816326531,0.9275,0.477088948787062],[0.9478503465652466,0.9481489062309265]],[\"random_Fri_Oct_15_08-56-53_2021.json\",[0.5102040816326531,0.9275,0.477088948787062],[0.9478503465652466,0.9481489062309265]],[\"random_Fri_Oct_15_08-56-53_2021.json\",[0.5102040816326531,0.9275,0.477088948787062],[0.9478503465652466,0.9481489062309265]],[\"random_Mon_Feb_7_22-51-11_2022.json\",[2.0,3.0,4.0],[0.9505374431610107,0.9501393437385559]],[\"random_Mon_Feb_7_22-51-11_2022.json\",[2.0,3.0,4.0],[0.9505374431610107,0.9501393437385559]],[\"random_Mon_Feb_7_22-51-11_2022.json\",[2.0,3.0,4.0],[0.9505374431610107,0.9501393437385559]],[\"random_Mon_Feb_7_22-51-11_2022.json\",[2.0,3.0,4.0],[0.9505374431610107,0.9501393437385559]],[\"random_Mon_Feb_7_22-51-11_2022.json\",[2.0,3.0,4.0],[0.9505374431610107,0.9501393437385559]],[\"random_Mon_Feb_7_22-57-02_2022.json\",[1.0,0.25,3.0],[0.9618829488754272,0.9612858295440674]],[\"random_Mon_Feb_7_22-57-02_2022.json\",[1.0,0.25,3.0],[0.9618829488754272,0.9612858295440674]],[\"random_Mon_Feb_7_22-57-02_2022.json\",[1.0,0.25,3.0],[0.9618829488754272,0.9612858295440674]],[\"random_Mon_Feb_7_22-57-02_2022.json\",[1.0,0.25,3.0],[0.9618829488754272,0.9612858295440674]],[\"random_Mon_Feb_7_22-57-02_2022.json\",[1.0,0.25,3.0],[0.9618829488754272,0.9612858295440674]],[\"random_Mon_Feb_7_22-54-36_2022.json\",[0.6666666666666666,4.0,3.0],[0.9455612897872925,0.9465565085411072]],[\"random_Mon_Feb_7_22-54-36_2022.json\",[0.6666666666666666,4.0,3.0],[0.9455612897872925,0.9465565085411072]],[\"random_Mon_Feb_7_22-54-36_2022.json\",[0.6666666666666666,4.0,3.0],[0.9455612897872925,0.9465565085411072]],[\"random_Mon_Feb_7_22-54-36_2022.json\",[0.6666666666666666,4.0,3.0],[0.9455612897872925,0.9465565085411072]],[\"random_Mon_Feb_7_22-47-58_2022.json\",[4.0,0.5,4.0],[0.918988823890686,0.9213773608207703]],[\"random_Mon_Feb_7_22-47-58_2022.json\",[4.0,0.5,4.0],[0.918988823890686,0.9213773608207703]],[\"random_Mon_Feb_7_22-47-58_2022.json\",[4.0,0.5,4.0],[0.918988823890686,0.9213773608207703]],[\"random_Mon_Feb_7_22-47-58_2022.json\",[4.0,0.5,4.0],[0.918988823890686,0.9213773608207703]],[\"random_Mon_Feb_7_22-50-34_2022.json\",[1.0,0.6666666666666666,2.0],[0.9480493664741516,0.9468550682067871]],[\"random_Mon_Feb_7_22-50-34_2022.json\",[1.0,0.6666666666666666,2.0],[0.9480493664741516,0.9468550682067871]],[\"random_Mon_Feb_7_22-50-34_2022.json\",[1.0,0.6666666666666666,2.0],[0.9480493664741516,0.9468550682067871]],[\"random_Mon_Feb_7_22-50-34_2022.json\",[1.0,0.6666666666666666,2.0],[0.9480493664741516,0.9468550682067871]],[\"random_Mon_Feb_7_22-54-03_2022.json\",[1.0,0.6666666666666666,2.0],[0.965465784072876,0.9665604829788208]],[\"random_Mon_Feb_7_22-54-03_2022.json\",[1.0,0.6666666666666666,2.0],[0.965465784072876,0.9665604829788208]],[\"random_Mon_Feb_7_22-54-03_2022.json\",[1.0,0.6666666666666666,2.0],[0.965465784072876,0.9665604829788208]],[\"random_Mon_Feb_7_22-54-03_2022.json\",[1.0,0.6666666666666666,2.0],[0.965465784072876,0.9665604829788208]],[\"random_Mon_Feb_7_22-47-50_2022.json\",[0.6666666666666666,0.3333333333333333,2.0],[0.9598925113677979,0.9616839289665222]],[\"random_Mon_Feb_7_22-47-50_2022.json\",[0.6666666666666666,0.3333333333333333,2.0],[0.9598925113677979,0.9616839289665222]],[\"random_Mon_Feb_7_22-47-50_2022.json\",[0.6666666666666666,0.3333333333333333,2.0],[0.9598925113677979,0.9616839289665222]],[\"random_Mon_Feb_7_22-47-50_2022.json\",[0.6666666666666666,0.3333333333333333,2.0],[0.9598925113677979,0.9616839289665222]],[\"random_Mon_Feb_7_22-56-45_2022.json\",[1.0,0.5,0.3333333333333333],[0.921675980091095,0.9217754602432251]],[\"random_Mon_Feb_7_22-56-45_2022.json\",[1.0,0.5,0.3333333333333333],[0.921675980091095,0.9217754602432251]],[\"random_Mon_Feb_7_22-56-45_2022.json\",[1.0,0.5,0.3333333333333333],[0.921675980091095,0.9217754602432251]],[\"random_Mon_Feb_7_22-56-45_2022.json\",[1.0,0.5,0.3333333333333333],[0.921675980091095,0.9217754602432251]],[\"random_Fri_Oct_15_08-54-46_2021.json\",[0.8941326530612245,0.6847360912981455,1.3520833333333333],[0.944167971611023,0.9428741931915283]],[\"random_Fri_Oct_15_08-54-46_2021.json\",[0.8941326530612245,0.6847360912981455,1.3520833333333333],[0.944167971611023,0.9428741931915283]],[\"random_Fri_Oct_15_08-54-46_2021.json\",[0.8941326530612245,0.6847360912981455,1.3520833333333333],[0.944167971611023,0.9428741931915283]],[\"random_Fri_Oct_15_08-54-46_2021.json\",[0.8941326530612245,0.6847360912981455,1.3520833333333333],[0.944167971611023,0.9428741931915283]],[\"random_Fri_Oct_15_08-54-46_2021.json\",[0.8941326530612245,0.6847360912981455,1.3520833333333333],[0.944167971611023,0.9428741931915283]],[\"random_Fri_Oct_15_08-54-46_2021.json\",[0.8941326530612245,0.6847360912981455,1.3520833333333333],[0.944167971611023,0.9428741931915283]],[\"random_Fri_Oct_15_08-54-46_2021.json\",[0.8941326530612245,0.6847360912981455,1.3520833333333333],[0.944167971611023,0.9428741931915283]],[\"random_Fri_Oct_15_08-54-46_2021.json\",[0.8941326530612245,0.6847360912981455,1.3520833333333333],[0.944167971611023,0.9428741931915283]],[\"random_Mon_Feb_7_22-52-03_2022.json\",[0.25,2.0,1.5],[0.9590963125228882,0.9596934914588928]],[\"random_Mon_Feb_7_22-52-03_2022.json\",[0.25,2.0,1.5],[0.9590963125228882,0.9596934914588928]],[\"random_Mon_Feb_7_22-52-03_2022.json\",[0.25,2.0,1.5],[0.9590963125228882,0.9596934914588928]],[\"random_Mon_Feb_7_22-52-03_2022.json\",[0.25,2.0,1.5],[0.9590963125228882,0.9596934914588928]],[\"random_Mon_Feb_7_22-46-07_2022.json\",[2.0,0.5,0.5],[0.9535230994224548,0.9527269005775452]],[\"random_Mon_Feb_7_22-46-07_2022.json\",[2.0,0.5,0.5],[0.9535230994224548,0.9527269005775452]],[\"random_Mon_Feb_7_22-46-07_2022.json\",[2.0,0.5,0.5],[0.9535230994224548,0.9527269005775452]],[\"random_Mon_Feb_7_22-46-07_2022.json\",[2.0,0.5,0.5],[0.9535230994224548,0.9527269005775452]],[\"random_Mon_Feb_7_22-54-01_2022.json\",[0.6666666666666666,1.5,0.3333333333333333],[0.9497412443161011,0.9483479261398315]],[\"random_Mon_Feb_7_22-54-01_2022.json\",[0.6666666666666666,1.5,0.3333333333333333],[0.9497412443161011,0.9483479261398315]],[\"random_Mon_Feb_7_22-54-01_2022.json\",[0.6666666666666666,1.5,0.3333333333333333],[0.9497412443161011,0.9483479261398315]],[\"random_Mon_Feb_7_22-54-01_2022.json\",[0.6666666666666666,1.5,0.3333333333333333],[0.9497412443161011,0.9483479261398315]],[\"random_Mon_Feb_7_22-45-45_2022.json\",[4.0,0.5,0.3333333333333333],[0.9733280539512634,0.974920392036438]],[\"random_Mon_Feb_7_22-45-45_2022.json\",[4.0,0.5,0.3333333333333333],[0.9733280539512634,0.974920392036438]],[\"random_Mon_Feb_7_22-45-45_2022.json\",[4.0,0.5,0.3333333333333333],[0.9733280539512634,0.974920392036438]],[\"random_Mon_Feb_7_22-45-45_2022.json\",[4.0,0.5,0.3333333333333333],[0.9733280539512634,0.974920392036438]],[\"random_Mon_Feb_7_22-51-50_2022.json\",[2.0,0.25,3.0],[0.9492436051368713,0.9528264403343201]],[\"random_Mon_Feb_7_22-51-50_2022.json\",[2.0,0.25,3.0],[0.9492436051368713,0.9528264403343201]],[\"random_Mon_Feb_7_22-51-50_2022.json\",[2.0,0.25,3.0],[0.9492436051368713,0.9528264403343201]],[\"random_Mon_Feb_7_22-51-50_2022.json\",[2.0,0.25,3.0],[0.9492436051368713,0.9528264403343201]],[\"random_Mon_Feb_7_22-47-19_2022.json\",[1.0,4.0,0.6666666666666666],[0.9714370965957642,0.9703423380851746]],[\"random_Mon_Feb_7_22-47-19_2022.json\",[1.0,4.0,0.6666666666666666],[0.9714370965957642,0.9703423380851746]],[\"random_Mon_Feb_7_22-47-19_2022.json\",[1.0,4.0,0.6666666666666666],[0.9714370965957642,0.9703423380851746]],[\"random_Fri_Oct_15_09-01-33_2021.json\",[1.052295918367347,1.0618181818181818,1.0114155251141552],[0.9506369233131409,0.9507364630699158]],[\"random_Fri_Oct_15_09-01-33_2021.json\",[1.052295918367347,1.0618181818181818,1.0114155251141552],[0.9506369233131409,0.9507364630699158]],[\"random_Fri_Oct_15_09-01-33_2021.json\",[1.052295918367347,1.0618181818181818,1.0114155251141552],[0.9506369233131409,0.9507364630699158]],[\"random_Fri_Oct_15_09-01-33_2021.json\",[1.052295918367347,1.0618181818181818,1.0114155251141552],[0.9506369233131409,0.9507364630699158]],[\"random_Fri_Oct_15_09-01-33_2021.json\",[1.052295918367347,1.0618181818181818,1.0114155251141552],[0.9506369233131409,0.9507364630699158]],[\"random_Fri_Oct_15_09-01-33_2021.json\",[1.052295918367347,1.0618181818181818,1.0114155251141552],[0.9506369233131409,0.9507364630699158]],[\"random_Mon_Feb_7_22-54-44_2022.json\",[1.5,0.6666666666666666,1.0],[0.9705414175987244,0.9709395170211792]],[\"random_Mon_Feb_7_22-54-44_2022.json\",[1.5,0.6666666666666666,1.0],[0.9705414175987244,0.9709395170211792]],[\"random_Mon_Feb_7_22-54-44_2022.json\",[1.5,0.6666666666666666,1.0],[0.9705414175987244,0.9709395170211792]],[\"random_Fri_Oct_15_09-15-23_2021.json\",[0.3201530612244898,1.2350597609561753,1.403225806451613],[0.944167971611023,0.9452627301216125]],[\"random_Fri_Oct_15_09-15-23_2021.json\",[0.3201530612244898,1.2350597609561753,1.403225806451613],[0.944167971611023,0.9452627301216125]],[\"random_Fri_Oct_15_09-15-23_2021.json\",[0.3201530612244898,1.2350597609561753,1.403225806451613],[0.944167971611023,0.9452627301216125]],[\"random_Fri_Oct_15_09-15-23_2021.json\",[0.3201530612244898,1.2350597609561753,1.403225806451613],[0.944167971611023,0.9452627301216125]],[\"random_Fri_Oct_15_09-15-23_2021.json\",[0.3201530612244898,1.2350597609561753,1.403225806451613],[0.944167971611023,0.9452627301216125]],[\"random_Fri_Oct_15_09-15-23_2021.json\",[0.3201530612244898,1.2350597609561753,1.403225806451613],[0.944167971611023,0.9452627301216125]],[\"random_Fri_Oct_15_09-16-55_2021.json\",[0.2627551020408163,0.6067961165048543,0.52],[0.9454618096351624,0.9465565085411072]],[\"random_Fri_Oct_15_09-16-55_2021.json\",[0.2627551020408163,0.6067961165048543,0.52],[0.9454618096351624,0.9465565085411072]],[\"random_Fri_Oct_15_09-16-55_2021.json\",[0.2627551020408163,0.6067961165048543,0.52],[0.9454618096351624,0.9465565085411072]],[\"random_Fri_Oct_15_09-16-55_2021.json\",[0.2627551020408163,0.6067961165048543,0.52],[0.9454618096351624,0.9465565085411072]],[\"random_Fri_Oct_15_09-16-55_2021.json\",[0.2627551020408163,0.6067961165048543,0.52],[0.9454618096351624,0.9465565085411072]],[\"random_Fri_Oct_15_09-16-55_2021.json\",[0.2627551020408163,0.6067961165048543,0.52],[0.9454618096351624,0.9465565085411072]],[\"random_Mon_Feb_7_22-55-37_2022.json\",[0.25,3.0,0.6666666666666666],[0.946755588054657,0.9439689517021179]],[\"random_Mon_Feb_7_22-55-37_2022.json\",[0.25,3.0,0.6666666666666666],[0.946755588054657,0.9439689517021179]],[\"random_Mon_Feb_7_22-55-37_2022.json\",[0.25,3.0,0.6666666666666666],[0.946755588054657,0.9439689517021179]],[\"random_Mon_Feb_7_22-55-37_2022.json\",[0.25,3.0,0.6666666666666666],[0.946755588054657,0.9439689517021179]],[\"random_Fri_Oct_15_09-21-07_2021.json\",[0.29081632653061223,0.9298245614035088,0.660377358490566],[0.9573049545288086,0.9575039744377136]],[\"random_Fri_Oct_15_09-21-07_2021.json\",[0.29081632653061223,0.9298245614035088,0.660377358490566],[0.9573049545288086,0.9575039744377136]],[\"random_Fri_Oct_15_09-21-07_2021.json\",[0.29081632653061223,0.9298245614035088,0.660377358490566],[0.9573049545288086,0.9575039744377136]],[\"random_Fri_Oct_15_09-21-07_2021.json\",[0.29081632653061223,0.9298245614035088,0.660377358490566],[0.9573049545288086,0.9575039744377136]],[\"random_Fri_Oct_15_09-21-07_2021.json\",[0.29081632653061223,0.9298245614035088,0.660377358490566],[0.9573049545288086,0.9575039744377136]],[\"random_Fri_Oct_15_09-21-07_2021.json\",[0.29081632653061223,0.9298245614035088,0.660377358490566],[0.9573049545288086,0.9575039744377136]],[\"random_Mon_Feb_7_22-54-50_2022.json\",[0.25,1.5,1.0],[0.9577030539512634,0.9571058750152588]],[\"random_Mon_Feb_7_22-54-50_2022.json\",[0.25,1.5,1.0],[0.9577030539512634,0.9571058750152588]],[\"random_Mon_Feb_7_22-54-50_2022.json\",[0.25,1.5,1.0],[0.9577030539512634,0.9571058750152588]],[\"random_Mon_Feb_7_22-53-07_2022.json\",[3.0,1.0,0.25],[0.9741241931915283,0.9738256335258484]],[\"random_Mon_Feb_7_22-53-07_2022.json\",[3.0,1.0,0.25],[0.9741241931915283,0.9738256335258484]],[\"random_Mon_Feb_7_22-53-07_2022.json\",[3.0,1.0,0.25],[0.9741241931915283,0.9738256335258484]],[\"random_Fri_Oct_22_10-40-58_2021.json\",[0.33418367346938777,0.3282442748091603,0.3023255813953488],[0.9542197585105896,0.9542197585105896]],[\"random_Fri_Oct_22_10-40-58_2021.json\",[0.33418367346938777,0.3282442748091603,0.3023255813953488],[0.9542197585105896,0.9542197585105896]],[\"random_Fri_Oct_22_10-40-58_2021.json\",[0.33418367346938777,0.3282442748091603,0.3023255813953488],[0.9542197585105896,0.9542197585105896]],[\"random_Fri_Oct_22_10-40-58_2021.json\",[0.33418367346938777,0.3282442748091603,0.3023255813953488],[0.9542197585105896,0.9542197585105896]],[\"random_Fri_Oct_22_10-40-58_2021.json\",[0.33418367346938777,0.3282442748091603,0.3023255813953488],[0.9542197585105896,0.9542197585105896]],[\"random_Fri_Oct_22_10-40-58_2021.json\",[0.33418367346938777,0.3282442748091603,0.3023255813953488],[0.9542197585105896,0.9542197585105896]],[\"random_Mon_Feb_7_22-54-06_2022.json\",[0.6666666666666666,0.25,3.0],[0.9486464858055115,0.9486464858055115]],[\"random_Mon_Feb_7_22-54-06_2022.json\",[0.6666666666666666,0.25,3.0],[0.9486464858055115,0.9486464858055115]],[\"random_Mon_Feb_7_22-54-06_2022.json\",[0.6666666666666666,0.25,3.0],[0.9486464858055115,0.9486464858055115]],[\"random_Mon_Feb_7_22-54-06_2022.json\",[0.6666666666666666,0.25,3.0],[0.9486464858055115,0.9486464858055115]],[\"random_Mon_Feb_7_22-50-59_2022.json\",[0.3333333333333333,3.0,1.5],[0.9117237329483032,0.9118232727050781]],[\"random_Mon_Feb_7_22-50-59_2022.json\",[0.3333333333333333,3.0,1.5],[0.9117237329483032,0.9118232727050781]],[\"random_Mon_Feb_7_22-50-59_2022.json\",[0.3333333333333333,3.0,1.5],[0.9117237329483032,0.9118232727050781]],[\"random_Mon_Feb_7_22-50-59_2022.json\",[0.3333333333333333,3.0,1.5],[0.9117237329483032,0.9118232727050781]],[\"random_Mon_Feb_7_22-55-05_2022.json\",[0.3333333333333333,1.0,2.0],[0.9448646306991577,0.9457603693008423]],[\"random_Mon_Feb_7_22-55-05_2022.json\",[0.3333333333333333,1.0,2.0],[0.9448646306991577,0.9457603693008423]],[\"random_Mon_Feb_7_22-55-05_2022.json\",[0.3333333333333333,1.0,2.0],[0.9448646306991577,0.9457603693008423]],[\"random_Mon_Feb_7_22-55-05_2022.json\",[0.3333333333333333,1.0,2.0],[0.9448646306991577,0.9457603693008423]],[\"random_Mon_Feb_7_22-51-01_2022.json\",[4.0,0.5,4.0],[0.9197850227355957,0.9206807613372803]],[\"random_Mon_Feb_7_22-51-01_2022.json\",[4.0,0.5,4.0],[0.9197850227355957,0.9206807613372803]],[\"random_Mon_Feb_7_22-51-01_2022.json\",[4.0,0.5,4.0],[0.9197850227355957,0.9206807613372803]],[\"random_Mon_Feb_7_22-48-53_2022.json\",[0.25,0.3333333333333333,3.0],[0.9419785141944885,0.943869411945343]],[\"random_Mon_Feb_7_22-48-53_2022.json\",[0.25,0.3333333333333333,3.0],[0.9419785141944885,0.943869411945343]],[\"random_Mon_Feb_7_22-48-53_2022.json\",[0.25,0.3333333333333333,3.0],[0.9419785141944885,0.943869411945343]],[\"random_Mon_Feb_7_22-48-53_2022.json\",[0.25,0.3333333333333333,3.0],[0.9419785141944885,0.943869411945343]],[\"random_Mon_Feb_7_22-55-01_2022.json\",[3.0,0.3333333333333333,2.0],[0.9712380766868591,0.9714370965957642]],[\"random_Mon_Feb_7_22-55-01_2022.json\",[3.0,0.3333333333333333,2.0],[0.9712380766868591,0.9714370965957642]],[\"random_Mon_Feb_7_22-55-01_2022.json\",[3.0,0.3333333333333333,2.0],[0.9712380766868591,0.9714370965957642]],[\"random_Mon_Feb_7_22-55-06_2022.json\",[0.3333333333333333,3.0,4.0],[0.9633758068084717,0.9621815085411072]],[\"random_Mon_Feb_7_22-55-06_2022.json\",[0.3333333333333333,3.0,4.0],[0.9633758068084717,0.9621815085411072]],[\"random_Mon_Feb_7_22-55-06_2022.json\",[0.3333333333333333,3.0,4.0],[0.9633758068084717,0.9621815085411072]],[\"random_Mon_Feb_7_22-55-06_2022.json\",[0.3333333333333333,3.0,4.0],[0.9633758068084717,0.9621815085411072]],[\"random_Mon_Feb_7_22-55-04_2022.json\",[0.5,3.0,4.0],[0.9133160710334778,0.9109275341033936]],[\"random_Mon_Feb_7_22-55-04_2022.json\",[0.5,3.0,4.0],[0.9133160710334778,0.9109275341033936]],[\"random_Mon_Feb_7_22-55-04_2022.json\",[0.5,3.0,4.0],[0.9133160710334778,0.9109275341033936]],[\"random_Mon_Feb_7_22-57-51_2022.json\",[1.0,1.5,0.5],[0.9678543210029602,0.9674562215805054]],[\"random_Mon_Feb_7_22-57-51_2022.json\",[1.0,1.5,0.5],[0.9678543210029602,0.9674562215805054]],[\"random_Mon_Feb_7_22-57-51_2022.json\",[1.0,1.5,0.5],[0.9678543210029602,0.9674562215805054]],[\"random_Mon_Feb_7_22-57-51_2022.json\",[1.0,1.5,0.5],[0.9678543210029602,0.9674562215805054]],[\"random_Mon_Feb_7_22-53-09_2022.json\",[3.0,0.25,0.6666666666666666],[0.9544187784194946,0.9538216590881348]],[\"random_Mon_Feb_7_22-53-09_2022.json\",[3.0,0.25,0.6666666666666666],[0.9544187784194946,0.9538216590881348]],[\"random_Mon_Feb_7_22-53-09_2022.json\",[3.0,0.25,0.6666666666666666],[0.9544187784194946,0.9538216590881348]],[\"random_Mon_Feb_7_22-53-09_2022.json\",[3.0,0.25,0.6666666666666666],[0.9544187784194946,0.9538216590881348]],[\"random_Fri_Oct_15_09-02-02_2021.json\",[0.32653061224489793,1.0625,1.099264705882353],[0.9439689517021179,0.9440684914588928]],[\"random_Fri_Oct_15_09-02-02_2021.json\",[0.32653061224489793,1.0625,1.099264705882353],[0.9439689517021179,0.9440684914588928]],[\"random_Fri_Oct_15_09-02-02_2021.json\",[0.32653061224489793,1.0625,1.099264705882353],[0.9439689517021179,0.9440684914588928]],[\"random_Fri_Oct_15_09-02-02_2021.json\",[0.32653061224489793,1.0625,1.099264705882353],[0.9439689517021179,0.9440684914588928]],[\"random_Fri_Oct_15_09-02-02_2021.json\",[0.32653061224489793,1.0625,1.099264705882353],[0.9439689517021179,0.9440684914588928]],[\"random_Fri_Oct_15_09-02-02_2021.json\",[0.32653061224489793,1.0625,1.099264705882353],[0.9439689517021179,0.9440684914588928]],[\"random_Fri_Oct_15_09-04-41_2021.json\",[0.7091836734693877,0.5863309352517986,1.6288343558282208],[0.9492436051368713,0.9487460255622864]],[\"random_Fri_Oct_15_09-04-41_2021.json\",[0.7091836734693877,0.5863309352517986,1.6288343558282208],[0.9492436051368713,0.9487460255622864]],[\"random_Fri_Oct_15_09-04-41_2021.json\",[0.7091836734693877,0.5863309352517986,1.6288343558282208],[0.9492436051368713,0.9487460255622864]],[\"random_Fri_Oct_15_09-04-41_2021.json\",[0.7091836734693877,0.5863309352517986,1.6288343558282208],[0.9492436051368713,0.9487460255622864]],[\"random_Fri_Oct_15_09-04-41_2021.json\",[0.7091836734693877,0.5863309352517986,1.6288343558282208],[0.9492436051368713,0.9487460255622864]],[\"random_Fri_Oct_15_09-04-41_2021.json\",[0.7091836734693877,0.5863309352517986,1.6288343558282208],[0.9492436051368713,0.9487460255622864]],[\"random_Fri_Oct_15_09-04-41_2021.json\",[0.7091836734693877,0.5863309352517986,1.6288343558282208],[0.9492436051368713,0.9487460255622864]],[\"random_Fri_Oct_15_09-04-41_2021.json\",[0.7091836734693877,0.5863309352517986,1.6288343558282208],[0.9492436051368713,0.9487460255622864]],[\"random_Mon_Feb_7_22-45-35_2022.json\",[2.0,0.3333333333333333,1.5],[0.9207802414894104,0.9211783409118652]],[\"random_Mon_Feb_7_22-45-35_2022.json\",[2.0,0.3333333333333333,1.5],[0.9207802414894104,0.9211783409118652]],[\"random_Mon_Feb_7_22-45-35_2022.json\",[2.0,0.3333333333333333,1.5],[0.9207802414894104,0.9211783409118652]],[\"random_Mon_Feb_7_22-45-35_2022.json\",[2.0,0.3333333333333333,1.5],[0.9207802414894104,0.9211783409118652]],[\"random_Mon_Feb_7_22-51-28_2022.json\",[0.25,3.0,1.5],[0.9635748267173767,0.9617834687232971]],[\"random_Mon_Feb_7_22-51-28_2022.json\",[0.25,3.0,1.5],[0.9635748267173767,0.9617834687232971]],[\"random_Mon_Feb_7_22-51-28_2022.json\",[0.25,3.0,1.5],[0.9635748267173767,0.9617834687232971]],[\"random_Mon_Feb_7_22-51-28_2022.json\",[0.25,3.0,1.5],[0.9635748267173767,0.9617834687232971]],[\"random_Mon_Feb_7_22-52-01_2022.json\",[0.6666666666666666,2.0,0.3333333333333333],[0.9664610028266907,0.9661624431610107]],[\"random_Mon_Feb_7_22-52-01_2022.json\",[0.6666666666666666,2.0,0.3333333333333333],[0.9664610028266907,0.9661624431610107]],[\"random_Mon_Feb_7_22-52-01_2022.json\",[0.6666666666666666,2.0,0.3333333333333333],[0.9664610028266907,0.9661624431610107]],[\"random_Mon_Feb_7_22-52-01_2022.json\",[0.6666666666666666,2.0,0.3333333333333333],[0.9664610028266907,0.9661624431610107]],[\"random_Mon_Feb_7_22-52-07_2022.json\",[0.5,1.0,3.0],[0.943869411945343,0.9455612897872925]],[\"random_Mon_Feb_7_22-52-07_2022.json\",[0.5,1.0,3.0],[0.943869411945343,0.9455612897872925]],[\"random_Mon_Feb_7_22-52-07_2022.json\",[0.5,1.0,3.0],[0.943869411945343,0.9455612897872925]],[\"random_Mon_Feb_7_22-52-07_2022.json\",[0.5,1.0,3.0],[0.943869411945343,0.9455612897872925]],[\"random_Mon_Feb_7_22-47-27_2022.json\",[3.0,1.5,1.5],[0.9509354829788208,0.9514331221580505]],[\"random_Mon_Feb_7_22-47-27_2022.json\",[3.0,1.5,1.5],[0.9509354829788208,0.9514331221580505]],[\"random_Mon_Feb_7_22-47-27_2022.json\",[3.0,1.5,1.5],[0.9509354829788208,0.9514331221580505]],[\"random_Mon_Feb_7_22-47-27_2022.json\",[3.0,1.5,1.5],[0.9509354829788208,0.9514331221580505]],[\"random_Mon_Feb_7_22-52-02_2022.json\",[0.5,0.3333333333333333,2.0],[0.9601910710334778,0.9596934914588928]],[\"random_Mon_Feb_7_22-52-02_2022.json\",[0.5,0.3333333333333333,2.0],[0.9601910710334778,0.9596934914588928]],[\"random_Mon_Feb_7_22-52-02_2022.json\",[0.5,0.3333333333333333,2.0],[0.9601910710334778,0.9596934914588928]],[\"random_Mon_Feb_7_22-52-02_2022.json\",[0.5,0.3333333333333333,2.0],[0.9601910710334778,0.9596934914588928]],[\"random_Fri_Oct_15_08-52-14_2021.json\",[0.3852040816326531,1.2781456953642385,1.0751295336787565],[0.9371019005775452,0.9369028806686401]],[\"random_Fri_Oct_15_08-52-14_2021.json\",[0.3852040816326531,1.2781456953642385,1.0751295336787565],[0.9371019005775452,0.9369028806686401]],[\"random_Fri_Oct_15_08-52-14_2021.json\",[0.3852040816326531,1.2781456953642385,1.0751295336787565],[0.9371019005775452,0.9369028806686401]],[\"random_Fri_Oct_15_08-52-14_2021.json\",[0.3852040816326531,1.2781456953642385,1.0751295336787565],[0.9371019005775452,0.9369028806686401]],[\"random_Fri_Oct_15_08-52-14_2021.json\",[0.3852040816326531,1.2781456953642385,1.0751295336787565],[0.9371019005775452,0.9369028806686401]],[\"random_Fri_Oct_15_08-52-14_2021.json\",[0.3852040816326531,1.2781456953642385,1.0751295336787565],[0.9371019005775452,0.9369028806686401]],[\"random_Fri_Oct_15_08-52-14_2021.json\",[0.3852040816326531,1.2781456953642385,1.0751295336787565],[0.9371019005775452,0.9369028806686401]],[\"random_Fri_Oct_15_08-52-14_2021.json\",[0.3852040816326531,1.2781456953642385,1.0751295336787565],[0.9371019005775452,0.9369028806686401]],[\"random_Mon_Feb_7_22-46-18_2022.json\",[1.5,1.5,1.0],[0.9211783409118652,0.9202826619148254]],[\"random_Mon_Feb_7_22-46-18_2022.json\",[1.5,1.5,1.0],[0.9211783409118652,0.9202826619148254]],[\"random_Mon_Feb_7_22-46-18_2022.json\",[1.5,1.5,1.0],[0.9211783409118652,0.9202826619148254]],[\"random_Mon_Feb_7_22-46-18_2022.json\",[1.5,1.5,1.0],[0.9211783409118652,0.9202826619148254]],[\"random_Fri_Oct_15_09-17-36_2021.json\",[0.8979591836734694,0.5724431818181818,0.6923076923076923],[0.950039803981781,0.9515326619148254]],[\"random_Fri_Oct_15_09-17-36_2021.json\",[0.8979591836734694,0.5724431818181818,0.6923076923076923],[0.950039803981781,0.9515326619148254]],[\"random_Fri_Oct_15_09-17-36_2021.json\",[0.8979591836734694,0.5724431818181818,0.6923076923076923],[0.950039803981781,0.9515326619148254]],[\"random_Fri_Oct_15_09-17-36_2021.json\",[0.8979591836734694,0.5724431818181818,0.6923076923076923],[0.950039803981781,0.9515326619148254]],[\"random_Fri_Oct_15_09-17-36_2021.json\",[0.8979591836734694,0.5724431818181818,0.6923076923076923],[0.950039803981781,0.9515326619148254]],[\"random_Fri_Oct_15_09-17-36_2021.json\",[0.8979591836734694,0.5724431818181818,0.6923076923076923],[0.950039803981781,0.9515326619148254]],[\"random_Mon_Feb_7_22-46-14_2022.json\",[2.0,0.6666666666666666,1.5],[0.9213773608207703,0.9201831221580505]],[\"random_Mon_Feb_7_22-46-14_2022.json\",[2.0,0.6666666666666666,1.5],[0.9213773608207703,0.9201831221580505]],[\"random_Mon_Feb_7_22-46-14_2022.json\",[2.0,0.6666666666666666,1.5],[0.9213773608207703,0.9201831221580505]],[\"random_Mon_Feb_7_22-46-14_2022.json\",[2.0,0.6666666666666666,1.5],[0.9213773608207703,0.9201831221580505]],[\"random_Fri_Oct_15_09-02-15_2021.json\",[0.4362244897959184,1.1169590643274854,0.7277486910994765],[0.9473527073860168,0.9460589289665222]],[\"random_Fri_Oct_15_09-02-15_2021.json\",[0.4362244897959184,1.1169590643274854,0.7277486910994765],[0.9473527073860168,0.9460589289665222]],[\"random_Fri_Oct_15_09-02-15_2021.json\",[0.4362244897959184,1.1169590643274854,0.7277486910994765],[0.9473527073860168,0.9460589289665222]],[\"random_Fri_Oct_15_09-02-15_2021.json\",[0.4362244897959184,1.1169590643274854,0.7277486910994765],[0.9473527073860168,0.9460589289665222]],[\"random_Fri_Oct_15_09-02-15_2021.json\",[0.4362244897959184,1.1169590643274854,0.7277486910994765],[0.9473527073860168,0.9460589289665222]],[\"random_Fri_Oct_15_09-02-15_2021.json\",[0.4362244897959184,1.1169590643274854,0.7277486910994765],[0.9473527073860168,0.9460589289665222]],[\"random_Fri_Oct_15_09-02-15_2021.json\",[0.4362244897959184,1.1169590643274854,0.7277486910994765],[0.9473527073860168,0.9460589289665222]],[\"random_Fri_Oct_15_09-02-15_2021.json\",[0.4362244897959184,1.1169590643274854,0.7277486910994765],[0.9473527073860168,0.9460589289665222]],[\"random_Fri_Oct_15_08-43-30_2021.json\",[0.22704081632653061,1.4438202247191012,1.1750972762645915],[0.9572054147720337,0.9559116363525391]],[\"random_Fri_Oct_15_08-43-30_2021.json\",[0.22704081632653061,1.4438202247191012,1.1750972762645915],[0.9572054147720337,0.9559116363525391]],[\"random_Fri_Oct_15_08-43-30_2021.json\",[0.22704081632653061,1.4438202247191012,1.1750972762645915],[0.9572054147720337,0.9559116363525391]],[\"random_Fri_Oct_15_08-43-30_2021.json\",[0.22704081632653061,1.4438202247191012,1.1750972762645915],[0.9572054147720337,0.9559116363525391]],[\"random_Fri_Oct_15_08-43-30_2021.json\",[0.22704081632653061,1.4438202247191012,1.1750972762645915],[0.9572054147720337,0.9559116363525391]],[\"random_Fri_Oct_15_08-43-30_2021.json\",[0.22704081632653061,1.4438202247191012,1.1750972762645915],[0.9572054147720337,0.9559116363525391]],[\"random_Fri_Oct_15_08-43-30_2021.json\",[0.22704081632653061,1.4438202247191012,1.1750972762645915],[0.9572054147720337,0.9559116363525391]],[\"random_Fri_Oct_15_08-43-30_2021.json\",[0.22704081632653061,1.4438202247191012,1.1750972762645915],[0.9572054147720337,0.9559116363525391]],[\"random_Mon_Feb_7_22-56-41_2022.json\",[1.5,2.0,0.25],[0.9729299545288086,0.9714370965957642]],[\"random_Mon_Feb_7_22-56-41_2022.json\",[1.5,2.0,0.25],[0.9729299545288086,0.9714370965957642]],[\"random_Mon_Feb_7_22-56-41_2022.json\",[1.5,2.0,0.25],[0.9729299545288086,0.9714370965957642]],[\"random_Mon_Feb_7_22-56-41_2022.json\",[1.5,2.0,0.25],[0.9729299545288086,0.9714370965957642]],[\"random_Mon_Feb_7_22-46-50_2022.json\",[4.0,2.0,0.5],[0.9545183181762695,0.952925980091095]],[\"random_Mon_Feb_7_22-46-50_2022.json\",[4.0,2.0,0.5],[0.9545183181762695,0.952925980091095]],[\"random_Mon_Feb_7_22-46-50_2022.json\",[4.0,2.0,0.5],[0.9545183181762695,0.952925980091095]],[\"random_Mon_Feb_7_22-46-50_2022.json\",[4.0,2.0,0.5],[0.9545183181762695,0.952925980091095]],[\"random_Mon_Feb_7_22-57-06_2022.json\",[1.5,0.3333333333333333,0.3333333333333333],[0.921675980091095,0.9257563948631287]],[\"random_Mon_Feb_7_22-57-06_2022.json\",[1.5,0.3333333333333333,0.3333333333333333],[0.921675980091095,0.9257563948631287]],[\"random_Mon_Feb_7_22-57-06_2022.json\",[1.5,0.3333333333333333,0.3333333333333333],[0.921675980091095,0.9257563948631287]],[\"random_Mon_Feb_7_22-57-06_2022.json\",[1.5,0.3333333333333333,0.3333333333333333],[0.921675980091095,0.9257563948631287]],[\"random_Mon_Feb_7_22-55-17_2022.json\",[4.0,1.5,0.6666666666666666],[0.9233678579330444,0.9245620965957642]],[\"random_Mon_Feb_7_22-55-17_2022.json\",[4.0,1.5,0.6666666666666666],[0.9233678579330444,0.9245620965957642]],[\"random_Mon_Feb_7_22-55-17_2022.json\",[4.0,1.5,0.6666666666666666],[0.9233678579330444,0.9245620965957642]],[\"random_Mon_Feb_7_22-55-17_2022.json\",[4.0,1.5,0.6666666666666666],[0.9233678579330444,0.9245620965957642]],[\"random_Mon_Feb_7_22-54-02_2022.json\",[1.5,4.0,0.3333333333333333],[0.9518312215805054,0.9522293210029602]],[\"random_Mon_Feb_7_22-54-02_2022.json\",[1.5,4.0,0.3333333333333333],[0.9518312215805054,0.9522293210029602]],[\"random_Mon_Feb_7_22-54-02_2022.json\",[1.5,4.0,0.3333333333333333],[0.9518312215805054,0.9522293210029602]],[\"random_Mon_Feb_7_22-54-02_2022.json\",[1.5,4.0,0.3333333333333333],[0.9518312215805054,0.9522293210029602]],[\"random_Fri_Oct_15_09-04-44_2021.json\",[0.4451530612244898,1.6991404011461317,1.2900505902192243],[0.9471536874771118,0.9455612897872925]],[\"random_Fri_Oct_15_09-04-44_2021.json\",[0.4451530612244898,1.6991404011461317,1.2900505902192243],[0.9471536874771118,0.9455612897872925]],[\"random_Fri_Oct_15_09-04-44_2021.json\",[0.4451530612244898,1.6991404011461317,1.2900505902192243],[0.9471536874771118,0.9455612897872925]],[\"random_Fri_Oct_15_09-04-44_2021.json\",[0.4451530612244898,1.6991404011461317,1.2900505902192243],[0.9471536874771118,0.9455612897872925]],[\"random_Fri_Oct_15_09-04-44_2021.json\",[0.4451530612244898,1.6991404011461317,1.2900505902192243],[0.9471536874771118,0.9455612897872925]],[\"random_Fri_Oct_15_09-04-44_2021.json\",[0.4451530612244898,1.6991404011461317,1.2900505902192243],[0.9471536874771118,0.9455612897872925]],[\"random_Mon_Feb_7_22-53-11_2022.json\",[2.0,1.5,2.0],[0.9223726391792297,0.9199841022491455]],[\"random_Mon_Feb_7_22-53-11_2022.json\",[2.0,1.5,2.0],[0.9223726391792297,0.9199841022491455]],[\"random_Mon_Feb_7_22-53-11_2022.json\",[2.0,1.5,2.0],[0.9223726391792297,0.9199841022491455]],[\"random_Mon_Feb_7_22-53-11_2022.json\",[2.0,1.5,2.0],[0.9223726391792297,0.9199841022491455]],[\"random_Mon_Feb_7_22-56-18_2022.json\",[0.3333333333333333,4.0,0.5],[0.9111266136169434,0.9118232727050781]],[\"random_Mon_Feb_7_22-56-18_2022.json\",[0.3333333333333333,4.0,0.5],[0.9111266136169434,0.9118232727050781]],[\"random_Mon_Feb_7_22-56-18_2022.json\",[0.3333333333333333,4.0,0.5],[0.9111266136169434,0.9118232727050781]],[\"random_Mon_Feb_7_22-56-18_2022.json\",[0.3333333333333333,4.0,0.5],[0.9111266136169434,0.9118232727050781]],[\"random_Mon_Feb_7_22-49-53_2022.json\",[2.0,0.25,4.0],[0.9509354829788208,0.9505374431610107]],[\"random_Mon_Feb_7_22-49-53_2022.json\",[2.0,0.25,4.0],[0.9509354829788208,0.9505374431610107]],[\"random_Mon_Feb_7_22-49-53_2022.json\",[2.0,0.25,4.0],[0.9509354829788208,0.9505374431610107]],[\"random_Mon_Feb_7_22-49-53_2022.json\",[2.0,0.25,4.0],[0.9509354829788208,0.9505374431610107]],[\"random_Mon_Feb_7_22-46-54_2022.json\",[1.5,0.6666666666666666,4.0],[0.9487460255622864,0.9491441249847412]],[\"random_Mon_Feb_7_22-46-54_2022.json\",[1.5,0.6666666666666666,4.0],[0.9487460255622864,0.9491441249847412]],[\"random_Mon_Feb_7_22-46-54_2022.json\",[1.5,0.6666666666666666,4.0],[0.9487460255622864,0.9491441249847412]],[\"random_Mon_Feb_7_22-46-54_2022.json\",[1.5,0.6666666666666666,4.0],[0.9487460255622864,0.9491441249847412]],[\"random_Mon_Feb_7_22-46-54_2022.json\",[1.5,0.6666666666666666,4.0],[0.9487460255622864,0.9491441249847412]],[\"random_Mon_Feb_7_22-46-54_2022.json\",[1.5,0.6666666666666666,4.0],[0.9487460255622864,0.9491441249847412]],[\"random_Mon_Feb_7_22-46-54_2022.json\",[1.5,0.6666666666666666,4.0],[0.9487460255622864,0.9491441249847412]],[\"random_Mon_Feb_7_22-56-26_2022.json\",[0.6666666666666666,3.0,0.25],[0.9661624431610107,0.9665604829788208]],[\"random_Mon_Feb_7_22-56-26_2022.json\",[0.6666666666666666,3.0,0.25],[0.9661624431610107,0.9665604829788208]],[\"random_Mon_Feb_7_22-56-26_2022.json\",[0.6666666666666666,3.0,0.25],[0.9661624431610107,0.9665604829788208]],[\"random_Mon_Feb_7_22-56-26_2022.json\",[0.6666666666666666,3.0,0.25],[0.9661624431610107,0.9665604829788208]],[\"random_Mon_Feb_7_22-51-13_2022.json\",[0.6666666666666666,1.0,4.0],[0.912917971611023,0.9148089289665222]],[\"random_Mon_Feb_7_22-51-13_2022.json\",[0.6666666666666666,1.0,4.0],[0.912917971611023,0.9148089289665222]],[\"random_Mon_Feb_7_22-51-13_2022.json\",[0.6666666666666666,1.0,4.0],[0.912917971611023,0.9148089289665222]],[\"random_Mon_Feb_7_22-51-13_2022.json\",[0.6666666666666666,1.0,4.0],[0.912917971611023,0.9148089289665222]],[\"random_Mon_Feb_7_22-53-05_2022.json\",[1.0,1.5,0.25],[0.9194864630699158]],[\"random_Mon_Feb_7_22-53-05_2022.json\",[1.0,1.5,0.25],[0.9194864630699158]],[\"random_Mon_Feb_7_22-53-05_2022.json\",[1.0,1.5,0.25],[0.9194864630699158]],[\"random_Mon_Feb_7_22-48-00_2022.json\",[0.6666666666666666,1.5,2.0],[0.9170979261398315]],[\"random_Mon_Feb_7_22-48-00_2022.json\",[0.6666666666666666,1.5,2.0],[0.9170979261398315]],[\"random_Mon_Feb_7_22-54-58_2022.json\",[0.25,0.25,0.25],[0.9370023608207703]],[\"random_Mon_Feb_7_22-54-58_2022.json\",[0.25,0.25,0.25],[0.9370023608207703]],[\"random_Mon_Feb_7_22-54-58_2022.json\",[0.25,0.25,0.25],[0.9370023608207703]],[\"random_Fri_Oct_15_09-16-39_2021.json\",[0.75,1.0238095238095237,0.8039867109634552],[0.9497412443161011]],[\"random_Fri_Oct_15_09-16-39_2021.json\",[0.75,1.0238095238095237,0.8039867109634552],[0.9497412443161011]],[\"random_Fri_Oct_15_09-16-39_2021.json\",[0.75,1.0238095238095237,0.8039867109634552],[0.9497412443161011]],[\"random_Fri_Oct_15_09-16-39_2021.json\",[0.75,1.0238095238095237,0.8039867109634552],[0.9497412443161011]],[\"random_Fri_Oct_15_09-16-39_2021.json\",[0.75,1.0238095238095237,0.8039867109634552],[0.9497412443161011]],[\"random_Fri_Oct_15_09-16-39_2021.json\",[0.75,1.0238095238095237,0.8039867109634552],[0.9497412443161011]],[\"random_Fri_Oct_15_09-16-39_2021.json\",[0.75,1.0238095238095237,0.8039867109634552],[0.9497412443161011]],[\"random_Fri_Oct_15_09-16-59_2021.json\",[0.4094387755102041,1.3707165109034267,1.1886363636363637],[0.9454618096351624]],[\"random_Fri_Oct_15_09-16-59_2021.json\",[0.4094387755102041,1.3707165109034267,1.1886363636363637],[0.9454618096351624]],[\"random_Fri_Oct_15_09-16-59_2021.json\",[0.4094387755102041,1.3707165109034267,1.1886363636363637],[0.9454618096351624]],[\"random_Fri_Oct_15_09-16-59_2021.json\",[0.4094387755102041,1.3707165109034267,1.1886363636363637],[0.9454618096351624]],[\"random_Fri_Oct_15_09-16-59_2021.json\",[0.4094387755102041,1.3707165109034267,1.1886363636363637],[0.9454618096351624]],[\"random_Fri_Oct_15_09-16-59_2021.json\",[0.4094387755102041,1.3707165109034267,1.1886363636363637],[0.9454618096351624]],[\"random_Fri_Oct_15_09-16-59_2021.json\",[0.4094387755102041,1.3707165109034267,1.1886363636363637],[0.9454618096351624]],[\"random_Mon_Feb_7_22-54-00_2022.json\",[0.5,0.6666666666666666,0.25],[0.9485469460487366]],[\"random_Mon_Feb_7_22-54-00_2022.json\",[0.5,0.6666666666666666,0.25],[0.9485469460487366]],[\"random_Mon_Feb_7_22-56-00_2022.json\",[1.5,0.6666666666666666,0.6666666666666666],[0.953125]],[\"random_Mon_Feb_7_22-56-00_2022.json\",[1.5,0.6666666666666666,0.6666666666666666],[0.953125]],[\"random_Mon_Feb_7_22-51-10_2022.json\",[1.5,0.25,0.6666666666666666],[0.9535230994224548]],[\"random_Mon_Feb_7_22-51-10_2022.json\",[1.5,0.25,0.6666666666666666],[0.9535230994224548]],[\"random_Mon_Feb_7_22-51-10_2022.json\",[1.5,0.25,0.6666666666666666],[0.9535230994224548]],[\"random_Mon_Feb_7_22-54-59_2022.json\",[3.0,1.0,1.0],[0.9534235596656799]],[\"random_Mon_Feb_7_22-54-59_2022.json\",[3.0,1.0,1.0],[0.9534235596656799]],[\"random_Mon_Feb_7_22-54-59_2022.json\",[3.0,1.0,1.0],[0.9534235596656799]],[\"random_Mon_Feb_7_22-57-05_2022.json\",[4.0,0.25,0.5],[0.9554139971733093]],[\"random_Mon_Feb_7_22-57-05_2022.json\",[4.0,0.25,0.5],[0.9554139971733093]],[\"random_Mon_Feb_7_22-48-54_2022.json\",[0.25,1.0,1.0],[0.912917971611023]],[\"random_Mon_Feb_7_22-48-54_2022.json\",[0.25,1.0,1.0],[0.912917971611023]],[\"random_Mon_Feb_7_22-48-54_2022.json\",[0.25,1.0,1.0],[0.912917971611023]],[\"random_Mon_Feb_7_22-55-00_2022.json\",[0.6666666666666666,0.25,0.25],[0.9583001732826233]],[\"random_Mon_Feb_7_22-55-00_2022.json\",[0.6666666666666666,0.25,0.25],[0.9583001732826233]],[\"random_Mon_Feb_7_22-55-00_2022.json\",[0.6666666666666666,0.25,0.25],[0.9583001732826233]],[\"random_Mon_Feb_7_22-56-24_2022.json\",[0.6666666666666666,1.0,4.0],[0.9459593892097473]],[\"random_Mon_Feb_7_22-56-24_2022.json\",[0.6666666666666666,1.0,4.0],[0.9459593892097473]],[\"random_Mon_Feb_7_22-55-02_2022.json\",[1.5,0.3333333333333333,0.3333333333333333],[0.9644705653190613]],[\"random_Mon_Feb_7_22-55-02_2022.json\",[1.5,0.3333333333333333,0.3333333333333333],[0.9644705653190613]],[\"random_Mon_Feb_7_22-55-02_2022.json\",[1.5,0.3333333333333333,0.3333333333333333],[0.9644705653190613]],[\"random_Mon_Feb_7_22-47-30_2022.json\",[0.3333333333333333,3.0,4.0],[0.9434713125228882]],[\"random_Mon_Feb_7_22-47-30_2022.json\",[0.3333333333333333,3.0,4.0],[0.9434713125228882]],[\"random_Mon_Feb_7_22-47-30_2022.json\",[0.3333333333333333,3.0,4.0],[0.9434713125228882]],[\"random_Mon_Feb_7_22-53-02_2022.json\",[2.0,0.5,2.0],[0.9201831221580505]],[\"random_Mon_Feb_7_22-53-02_2022.json\",[2.0,0.5,2.0],[0.9201831221580505]],[\"random_Mon_Feb_7_22-57-38_2022.json\",[2.0,0.5,2.0],[0.9525278806686401]],[\"random_Mon_Feb_7_22-57-38_2022.json\",[2.0,0.5,2.0],[0.9525278806686401]],[\"random_Mon_Feb_7_22-52-00_2022.json\",[0.5,1.0,0.25],[0.9477508068084717]],[\"random_Mon_Feb_7_22-52-00_2022.json\",[0.5,1.0,0.25],[0.9477508068084717]],[\"random_Mon_Feb_7_22-47-33_2022.json\",[0.25,1.5,4.0],[0.9107285141944885]],[\"random_Mon_Feb_7_22-47-33_2022.json\",[0.25,1.5,4.0],[0.9107285141944885]],[\"random_Mon_Feb_7_22-47-33_2022.json\",[0.25,1.5,4.0],[0.9107285141944885]],[\"random_Mon_Feb_7_22-46-25_2022.json\",[0.5,0.6666666666666666,0.5],[0.9180931448936462]],[\"random_Mon_Feb_7_22-46-25_2022.json\",[0.5,0.6666666666666666,0.5],[0.9180931448936462]],[\"random_Mon_Feb_7_22-46-25_2022.json\",[0.5,0.6666666666666666,0.5],[0.9180931448936462]],[\"random_Mon_Feb_7_22-55-36_2022.json\",[0.5,1.5,1.0],[0.9635748267173767]],[\"random_Mon_Feb_7_22-55-36_2022.json\",[0.5,1.5,1.0],[0.9635748267173767]],[\"random_Mon_Feb_7_22-55-16_2022.json\",[4.0,0.6666666666666666,1.0],[0.9224721193313599]],[\"random_Mon_Feb_7_22-55-16_2022.json\",[4.0,0.6666666666666666,1.0],[0.9224721193313599]],[\"random_Mon_Feb_7_22-55-16_2022.json\",[4.0,0.6666666666666666,1.0],[0.9224721193313599]],[\"random_Mon_Feb_7_22-54-04_2022.json\",[3.0,0.3333333333333333,1.0],[0.9719347357749939]],[\"random_Mon_Feb_7_22-54-04_2022.json\",[3.0,0.3333333333333333,1.0],[0.9719347357749939]],[\"random_Mon_Feb_7_22-52-04_2022.json\",[0.6666666666666666,3.0,1.5],[0.9673566818237305]],[\"random_Mon_Feb_7_22-52-04_2022.json\",[0.6666666666666666,3.0,1.5],[0.9673566818237305]],[\"random_Mon_Feb_7_22-52-04_2022.json\",[0.6666666666666666,3.0,1.5],[0.9673566818237305]],[\"random_Mon_Feb_7_22-56-25_2022.json\",[0.6666666666666666,2.0,4.0],[0.9480493664741516]],[\"random_Mon_Feb_7_22-56-25_2022.json\",[0.6666666666666666,2.0,4.0],[0.9480493664741516]],[\"random_Fri_Oct_15_09-17-33_2021.json\",[0.3239795918367347,1.3858267716535433,0.3465909090909091],[0.9446656107902527]],[\"random_Fri_Oct_15_09-17-33_2021.json\",[0.3239795918367347,1.3858267716535433,0.3465909090909091],[0.9446656107902527]],[\"random_Fri_Oct_15_09-17-33_2021.json\",[0.3239795918367347,1.3858267716535433,0.3465909090909091],[0.9446656107902527]],[\"random_Fri_Oct_15_09-17-33_2021.json\",[0.3239795918367347,1.3858267716535433,0.3465909090909091],[0.9446656107902527]],[\"random_Fri_Oct_15_09-17-33_2021.json\",[0.3239795918367347,1.3858267716535433,0.3465909090909091],[0.9446656107902527]],[\"random_Fri_Oct_15_09-17-33_2021.json\",[0.3239795918367347,1.3858267716535433,0.3465909090909091],[0.9446656107902527]],[\"random_Fri_Oct_15_09-17-33_2021.json\",[0.3239795918367347,1.3858267716535433,0.3465909090909091],[0.9446656107902527]],[\"random_Fri_Oct_22_10-40-35_2021.json\",[0.25510204081632654,0.705,0.6453900709219859],[0.9541202187538147]],[\"random_Fri_Oct_22_10-40-35_2021.json\",[0.25510204081632654,0.705,0.6453900709219859],[0.9541202187538147]],[\"random_Fri_Oct_22_10-40-35_2021.json\",[0.25510204081632654,0.705,0.6453900709219859],[0.9541202187538147]],[\"random_Fri_Oct_22_10-40-35_2021.json\",[0.25510204081632654,0.705,0.6453900709219859],[0.9541202187538147]],[\"random_Fri_Oct_22_10-40-35_2021.json\",[0.25510204081632654,0.705,0.6453900709219859],[0.9541202187538147]],[\"random_Mon_Feb_7_22-47-22_2022.json\",[3.0,1.0,3.0],[0.9198845624923706]],[\"random_Mon_Feb_7_22-47-22_2022.json\",[3.0,1.0,3.0],[0.9198845624923706]],[\"random_Mon_Feb_7_22-47-22_2022.json\",[3.0,1.0,3.0],[0.9198845624923706]]],\"hovertemplate\":\"log_quantile=%{x}<br>loss=%{marker.color}<br>filename=%{customdata[0]}<br>width_profile=%{customdata[1]}<br>accuracy=%{customdata[2]}<extra></extra>\",\"legendgroup\":\"\",\"marker\":{\"color\":[0.2775043845176697,0.2764306664466858,0.2789990305900574,0.2796706557273865,0.27730652689933777,0.17620041966438293,0.1783822923898697,0.17456071078777313,0.1728573441505432,0.17794208228588104,0.1746058464050293,0.17433644831180573,0.11585167050361633,0.11779820919036865,0.11475417762994766,0.1163463443517685,0.11541735380887985,0.11605595797300339,0.11654306203126907,0.28418880701065063,0.2862464487552643,0.28482890129089355,0.2819920480251312,0.28481122851371765,0.1825522631406784,0.18650716543197632,0.18195071816444397,0.18308834731578827,0.1828872561454773,0.04353540390729904,0.0440254844725132,0.044109247624874115,0.04356924816966057,0.04407411441206932,0.2925269305706024,0.29116323590278625,0.2909598648548126,0.290587842464447,0.2914296090602875,0.2822953164577484,0.2879117727279663,0.2843254804611206,0.28358566761016846,0.2865293025970459,0.17752784490585327,0.17685696482658386,0.17822834849357605,0.17841066420078278,0.17714853584766388,0.15485024452209473,0.15625624358654022,0.15256991982460022,0.15564720332622528,0.15306764841079712,0.18202315270900726,0.18454599380493164,0.18414895236492157,0.18589608371257782,0.18279214203357697,0.18142513930797577,0.18275490403175354,0.17862583696842194,0.1781938374042511,0.176776722073555,0.17944902181625366,0.18238696455955505,0.17855830490589142,0.17581063508987427,0.17141610383987427,0.1711045652627945,0.17115412652492523,0.1708838790655136,0.17023317515850067,0.08765262365341187,0.08633705973625183,0.08609005808830261,0.0876777172088623,0.08516871929168701,0.1835106909275055,0.18568871915340424,0.18499627709388733,0.1880139410495758,0.28378942608833313,0.28386563062667847,0.28519439697265625,0.28249019384384155,0.1734660267829895,0.17328108847141266,0.17527922987937927,0.1764967292547226,0.07456842809915543,0.07345596700906754,0.07246657460927963,0.0734710544347763,0.09616123884916306,0.09416387975215912,0.09492763131856918,0.09587382525205612,0.2880452871322632,0.28481507301330566,0.28017929196357727,0.28080350160598755,0.1971423178911209,0.1974366307258606,0.19778752326965332,0.19783546030521393,0.20007120072841644,0.1948622316122055,0.19509658217430115,0.1997203826904297,0.10302276909351349,0.10367976874113083,0.10676028579473495,0.1066383346915245,0.15586689114570618,0.1562609225511551,0.1560683697462082,0.1541639119386673,0.17685075104236603,0.1713470220565796,0.17295365035533905,0.17524351179599762,0.036951176822185516,0.036603134125471115,0.03603757545351982,0.03626959025859833,0.16704052686691284,0.16613391041755676,0.16784541308879852,0.16475747525691986,0.05583367124199867,0.056067194789648056,0.05712663009762764,0.1694684773683548,0.17188270390033722,0.17110282182693481,0.1705486923456192,0.16885919868946075,0.16729401051998138,0.05761441960930824,0.05707696080207825,0.05843603238463402,0.1926945298910141,0.19293569028377533,0.19466382265090942,0.19124042987823486,0.19211730360984802,0.19185209274291992,0.18585923314094543,0.18550635874271393,0.1924416422843933,0.18523697555065155,0.18113811314105988,0.1808646321296692,0.192744180560112,0.1955350786447525,0.1909443587064743,0.196052685379982,0.11150673776865005,0.11198769509792328,0.11288363486528397,0.11465147882699966,0.11140799522399902,0.1142779141664505,0.10848182439804077,0.11095196008682251,0.11043312400579453,0.03835620358586311,0.03634246438741684,0.03687656298279762,0.13682974874973297,0.134672611951828,0.12534251809120178,0.1346452683210373,0.13375826179981232,0.12711726129055023,0.17811934649944305,0.18226614594459534,0.18356502056121826,0.18156732618808746,0.3121877908706665,0.3180691599845886,0.3166954219341278,0.3142400085926056,0.19158586859703064,0.1909453123807907,0.18957173824310303,0.1944553107023239,0.28519099950790405,0.28540855646133423,0.28410327434539795,0.20405572652816772,0.19510045647621155,0.20111721754074097,0.2024749368429184,0.05236981809139252,0.053233567625284195,0.05255594477057457,0.09458477050065994,0.09409183263778687,0.09588431566953659,0.09730629622936249,0.3114381432533264,0.31101617217063904,0.31086966395378113,0.06249697133898735,0.06016609072685242,0.05936216935515404,0.06102491170167923,0.15406076610088348,0.15242059528827667,0.15338198840618134,0.1517244577407837,0.19188684225082397,0.19222968816757202,0.1888546496629715,0.1876242756843567,0.19013440608978271,0.19106923043727875,0.1780264526605606,0.17173469066619873,0.17539483308792114,0.17686161398887634,0.17716768383979797,0.17691932618618011,0.17771068215370178,0.17800892889499664,0.28635910153388977,0.2817532420158386,0.28177979588508606,0.2810898423194885,0.10569318383932114,0.10393062233924866,0.10028931498527527,0.10367931425571442,0.0699990838766098,0.06941275298595428,0.06961742788553238,0.06883806735277176,0.18714143335819244,0.19176676869392395,0.189097598195076,0.1872750222682953,0.1622970700263977,0.16325180232524872,0.16454187035560608,0.1619417369365692,0.10495064407587051,0.10644196718931198,0.10532635450363159,0.10304797440767288,0.2192334681749344,0.22146663069725037,0.22091560065746307,0.2230723649263382,0.2180442214012146,0.22373639047145844,0.22450263798236847,0.2232743203639984,0.28127041459083557,0.282632976770401,0.28665220737457275,0.2843044400215149,0.16874319314956665,0.16487054526805878,0.16401231288909912,0.16929222643375397,0.16786529123783112,0.16736017167568207,0.283456951379776,0.2804828882217407,0.281607985496521,0.28522810339927673,0.18315063416957855,0.18382787704467773,0.18107455968856812,0.17733101546764374,0.18173542618751526,0.18340176343917847,0.17924603819847107,0.1869748830795288,0.12420003861188889,0.12529635429382324,0.12716566026210785,0.12552647292613983,0.1291455179452896,0.1267993450164795,0.12780608236789703,0.12719792127609253,0.048658739775419235,0.046785563230514526,0.047967519611120224,0.0474289208650589,0.15591725707054138,0.15538892149925232,0.15589824318885803,0.1540534645318985,0.27907994389533997,0.2812286615371704,0.281208336353302,0.2727699279785156,0.2716703712940216,0.2711303234100342,0.2739500403404236,0.2740303874015808,0.16280759871006012,0.1631239354610443,0.1647210270166397,0.16219903528690338,0.1915571540594101,0.18780097365379333,0.18407252430915833,0.185936838388443,0.1865983009338379,0.18676349520683289,0.28108862042427063,0.28308019042015076,0.2832726836204529,0.28532660007476807,0.3138933777809143,0.3116598427295685,0.31177547574043274,0.3118002116680145,0.1738085150718689,0.16999675333499908,0.16891802847385406,0.1687498688697815,0.17311590909957886,0.17273445427417755,0.17077304422855377,0.17197135090827942,0.17286695539951324,0.17066597938537598,0.17198270559310913,0.06740854680538177,0.0665212944149971,0.0668414831161499,0.06890064477920532,0.30682700872421265,0.30876287817955017,0.3061220049858093,0.30181801319122314,0.28573015332221985,0.2823890149593353,0.28818726539611816,0.3069666624069214,0.2988525629043579,0.22031942009925842,0.19917654991149902,0.2226794809103012,0.17442941665649414,0.17368777096271515,0.17194455862045288,0.1741892397403717,0.1713036447763443,0.1696988195180893,0.17141148447990417,0.17953048646450043,0.19164927303791046,0.18226224184036255,0.18480460345745087,0.1850735992193222,0.1840946525335312,0.18995243310928345,0.17809438705444336,0.1765076369047165,0.1608562022447586,0.15936389565467834,0.15840165317058563,0.1589212566614151,0.15870459377765656,0.15760745108127594,0.15808193385601044,0.15808378159999847,0.15074363350868225,0.1471165418624878,0.3198009133338928,0.3229314982891083,0.31067612767219543,0.09486433863639832,0.10283926874399185,0.09839504212141037,0.18401724100112915,0.18615859746932983,0.06095300242304802,0.060778435319662094,0.05984347313642502,0.19796542823314667,0.1993955671787262,0.19446857273578644,0.28480467200279236,0.284975528717041,0.16269905865192413,0.1618669480085373,0.169564887881279,0.1795690804719925,0.332526296377182,0.3251991271972656,0.31893619894981384,0.2960148751735687,0.29256612062454224,0.29713135957717896,0.08052662014961243,0.08503282815217972,0.27098435163497925,0.27238377928733826,0.27484726905822754,0.04693150892853737,0.04758445918560028,0.07127885520458221,0.07070013135671616,0.0701586902141571,0.18687176704406738,0.18377554416656494,0.18975165486335754,0.1828088015317917,0.1780492663383484,0.19089701771736145,0.18451623618602753,0.1873239427804947,0.18892772495746613,0.12419931590557098,0.11780592799186707,0.13035248219966888,0.1256210058927536,0.12931504845619202,0.2804735600948334,0.2828150689601898,0.28378134965896606],\"coloraxis\":\"coloraxis\",\"symbol\":\"circle\"},\"mode\":\"markers\",\"name\":\"\",\"orientation\":\"v\",\"showlegend\":false,\"x\":[-1.628869754532156,-1.628869754532156,-1.628869754532156,-1.628869754532156,-1.628869754532156,-0.21048875557238675,-0.21048875557238675,-0.21048875557238675,-0.21048875557238675,-0.21048875557238675,-0.21048875557238675,-0.21048875557238675,0.6174756683404847,0.6174756683404847,0.6174756683404847,0.6174756683404847,0.6174756683404847,0.6174756683404847,0.6174756683404847,-1.628869754532156,-1.628869754532156,-1.628869754532156,-1.628869754532156,-1.628869754532156,-0.5131103809032711,-0.5131103809032711,-0.5131103809032711,-0.5131103809032711,-0.5131103809032711,-1.3075072239366505,-1.3075072239366505,-1.3075072239366505,-1.3075072239366505,-1.3075072239366505,-1.628869754532156,-1.628869754532156,-1.628869754532156,-1.628869754532156,-1.628869754532156,-1.628869754532156,-1.628869754532156,-1.628869754532156,-1.628869754532156,-1.628869754532156,-0.11326111540822897,-0.11326111540822897,-0.11326111540822897,-0.11326111540822897,-0.11326111540822897,-0.28998786124707,-0.28998786124707,-0.28998786124707,-0.28998786124707,-0.28998786124707,-0.11326111540822897,-0.11326111540822897,-0.11326111540822897,-0.11326111540822897,-0.11326111540822897,-0.11326111540822897,-0.11326111540822897,-0.08515302130271117,-0.08515302130271117,-0.08515302130271117,-0.08515302130271117,-0.08515302130271117,-0.08515302130271117,-0.08515302130271117,-1.3075072239366505,-1.3075072239366505,-1.3075072239366505,-1.3075072239366505,-1.3075072239366505,1.398065923870615,1.398065923870615,1.398065923870615,1.398065923870615,1.398065923870615,-0.9966571346641311,-0.9966571346641311,-0.9966571346641311,-0.9966571346641311,-1.628869754532156,-1.628869754532156,-1.628869754532156,-1.628869754532156,-0.38737510032389394,-0.38737510032389394,-0.38737510032389394,-0.38737510032389394,1.5643691305235077,1.5643691305235077,1.5643691305235077,1.5643691305235077,1.531759878546558,1.531759878546558,1.531759878546558,1.531759878546558,-1.628869754532156,-1.628869754532156,-1.628869754532156,-1.628869754532156,-0.6907991241928865,-0.6907991241928865,-0.6907991241928865,-0.6907991241928865,-0.6907991241928865,-0.6907991241928865,-0.6907991241928865,-0.6907991241928865,1.398065923870615,1.398065923870615,1.398065923870615,1.398065923870615,-0.21048875557238675,-0.21048875557238675,-0.21048875557238675,-0.21048875557238675,-0.14331506570000196,-0.14331506570000196,-0.14331506570000196,-0.14331506570000196,1.9090464168214967,1.9090464168214967,1.9090464168214967,1.9090464168214967,-0.5511889567475775,-0.5511889567475775,-0.5511889567475775,-0.5511889567475775,1.6695021599980087,1.6695021599980087,1.6695021599980087,-0.33595738754445253,-0.33595738754445253,-0.33595738754445253,-0.33595738754445253,-0.33595738754445253,-0.33595738754445253,0.937112017091945,0.937112017091945,0.937112017091945,-0.28998786124707,-0.28998786124707,-0.28998786124707,-0.28998786124707,-0.28998786124707,-0.28998786124707,-0.0587540618256877,-0.0587540618256877,-0.0587540618256877,-0.0587540618256877,-0.0587540618256877,-0.0587540618256877,-0.33595738754445253,-0.33595738754445253,-0.33595738754445253,-0.33595738754445253,1.6436056532172891,1.6436056532172891,1.6436056532172891,1.6436056532172891,1.6436056532172891,1.6436056532172891,1.5217826348650503,1.5217826348650503,1.5217826348650503,1.350860356596683,1.350860356596683,1.350860356596683,1.8479880280812184,1.8479880280812184,1.8479880280812184,1.8479880280812184,1.8479880280812184,1.8479880280812184,-0.33595738754445253,-0.33595738754445253,-0.33595738754445253,-0.33595738754445253,-1.628869754532156,-1.628869754532156,-1.628869754532156,-1.628869754532156,-0.33595738754445253,-0.33595738754445253,-0.33595738754445253,-0.33595738754445253,-1.628869754532156,-1.628869754532156,-1.628869754532156,-0.36090574654872287,-0.36090574654872287,-0.36090574654872287,-0.36090574654872287,1.536988812374485,1.536988812374485,1.536988812374485,0.9646627162988572,0.9646627162988572,0.9646627162988572,0.9646627162988572,-1.628869754532156,-1.628869754532156,-1.628869754532156,1.0340446486295387,1.0340446486295387,1.0340446486295387,1.0340446486295387,-0.28998786124707,-0.28998786124707,-0.28998786124707,-0.28998786124707,-0.22904124139816953,-0.22904124139816953,-0.22904124139816953,-0.22904124139816953,-0.22904124139816953,-0.22904124139816953,-0.24842176927128473,-0.24842176927128473,-0.24842176927128473,-0.24842176927128473,-0.24842176927128473,-0.24842176927128473,-0.24842176927128473,-0.24842176927128473,-1.628869754532156,-1.628869754532156,-1.628869754532156,-1.628869754532156,1.3073638244383148,1.3073638244383148,1.3073638244383148,1.3073638244383148,1.5831712401067133,1.5831712401067133,1.5831712401067133,1.5831712401067133,-0.44570824441305945,-0.44570824441305945,-0.44570824441305945,-0.44570824441305945,-1.3075072239366505,-1.3075072239366505,-1.3075072239366505,-1.3075072239366505,1.5411914472467199,1.5411914472467199,1.5411914472467199,1.5411914472467199,-0.8173412428314776,-0.8173412428314776,-0.8173412428314776,-0.8173412428314776,-0.8173412428314776,-0.8173412428314776,-0.8173412428314776,-0.8173412428314776,-1.628869754532156,-1.628869754532156,-1.628869754532156,-1.628869754532156,-0.11326111540822897,-0.11326111540822897,-0.11326111540822897,-0.11326111540822897,-0.11326111540822897,-0.11326111540822897,-1.628869754532156,-1.628869754532156,-1.628869754532156,-1.628869754532156,-0.15915974491548884,-0.15915974491548884,-0.15915974491548884,-0.15915974491548884,-0.15915974491548884,-0.15915974491548884,-0.15915974491548884,-0.15915974491548884,1.1628670238472891,1.1628670238472891,1.1628670238472891,1.1628670238472891,1.1628670238472891,1.1628670238472891,1.1628670238472891,1.1628670238472891,1.947937932369379,1.947937932369379,1.947937932369379,1.947937932369379,-0.41556301588526573,-0.41556301588526573,-0.41556301588526573,-0.41556301588526573,-1.628869754532156,-1.628869754532156,-1.628869754532156,-1.628869754532156,-1.628869754532156,-1.628869754532156,-1.628869754532156,-1.628869754532156,-0.5511889567475775,-0.5511889567475775,-0.5511889567475775,-0.5511889567475775,-0.33595738754445253,-0.33595738754445253,-0.33595738754445253,-0.33595738754445253,-0.33595738754445253,-0.33595738754445253,-1.628869754532156,-1.628869754532156,-1.628869754532156,-1.628869754532156,-1.628869754532156,-1.628869754532156,-1.628869754532156,-1.628869754532156,-0.6907991241928865,-0.6907991241928865,-0.6907991241928865,-0.6907991241928865,-0.8173412428314776,-0.8173412428314776,-0.8173412428314776,-0.8173412428314776,-0.8173412428314776,-0.8173412428314776,-0.8173412428314776,1.6243803413341018,1.6243803413341018,1.6243803413341018,1.6243803413341018,-1.628869754532156,-1.628869754532156,-1.628869754532156,-1.628869754532156,-1.628869754532156,-1.628869754532156,-1.628869754532156,-1.628869754532156,-1.628869754532156,0.043469882647757405,0.043469882647757405,0.043469882647757405,-0.19269644459394225,-0.19269644459394225,-0.19269644459394225,-0.19269644459394225,-0.19269644459394225,-0.19269644459394225,-0.19269644459394225,-0.2687077213994605,-0.2687077213994605,-0.2687077213994605,-0.2687077213994605,-0.2687077213994605,-0.2687077213994605,-0.2687077213994605,0.022742096538186582,0.022742096538186582,-0.22904124139816953,-0.22904124139816953,-0.08515302130271117,-0.08515302130271117,-0.08515302130271117,-0.8978094702734347,-0.8978094702734347,-0.8978094702734347,-0.38737510032389394,-0.38737510032389394,-1.628869754532156,-1.628869754532156,-1.628869754532156,1.89016053645838,1.89016053645838,1.89016053645838,-0.5929299156862665,-0.5929299156862665,1.769755398739778,1.769755398739778,1.769755398739778,-0.8173412428314776,-0.8173412428314776,-0.8173412428314776,-1.628869754532156,-1.628869754532156,-0.5929299156862665,-0.5929299156862665,-0.03386824690590523,-0.03386824690590523,-1.628869754532156,-1.628869754532156,-1.628869754532156,-1.628869754532156,-1.628869754532156,-1.628869754532156,1.5146596269335493,1.5146596269335493,-1.628869754532156,-1.628869754532156,-1.628869754532156,1.3251827021124443,1.3251827021124443,1.790538005243911,1.790538005243911,1.790538005243911,-0.9966571346641311,-0.9966571346641311,-0.11326111540822897,-0.11326111540822897,-0.11326111540822897,-0.11326111540822897,-0.11326111540822897,-0.11326111540822897,-0.11326111540822897,1.6817771003269693,1.6817771003269693,1.6817771003269693,1.6817771003269693,1.6817771003269693,-1.628869754532156,-1.628869754532156,-1.628869754532156],\"xaxis\":\"x\",\"y\":[0.2775043845176697,0.2764306664466858,0.2789990305900574,0.2796706557273865,0.27730652689933777,0.17620041966438293,0.1783822923898697,0.17456071078777313,0.1728573441505432,0.17794208228588104,0.1746058464050293,0.17433644831180573,0.11585167050361633,0.11779820919036865,0.11475417762994766,0.1163463443517685,0.11541735380887985,0.11605595797300339,0.11654306203126907,0.28418880701065063,0.2862464487552643,0.28482890129089355,0.2819920480251312,0.28481122851371765,0.1825522631406784,0.18650716543197632,0.18195071816444397,0.18308834731578827,0.1828872561454773,0.04353540390729904,0.0440254844725132,0.044109247624874115,0.04356924816966057,0.04407411441206932,0.2925269305706024,0.29116323590278625,0.2909598648548126,0.290587842464447,0.2914296090602875,0.2822953164577484,0.2879117727279663,0.2843254804611206,0.28358566761016846,0.2865293025970459,0.17752784490585327,0.17685696482658386,0.17822834849357605,0.17841066420078278,0.17714853584766388,0.15485024452209473,0.15625624358654022,0.15256991982460022,0.15564720332622528,0.15306764841079712,0.18202315270900726,0.18454599380493164,0.18414895236492157,0.18589608371257782,0.18279214203357697,0.18142513930797577,0.18275490403175354,0.17862583696842194,0.1781938374042511,0.176776722073555,0.17944902181625366,0.18238696455955505,0.17855830490589142,0.17581063508987427,0.17141610383987427,0.1711045652627945,0.17115412652492523,0.1708838790655136,0.17023317515850067,0.08765262365341187,0.08633705973625183,0.08609005808830261,0.0876777172088623,0.08516871929168701,0.1835106909275055,0.18568871915340424,0.18499627709388733,0.1880139410495758,0.28378942608833313,0.28386563062667847,0.28519439697265625,0.28249019384384155,0.1734660267829895,0.17328108847141266,0.17527922987937927,0.1764967292547226,0.07456842809915543,0.07345596700906754,0.07246657460927963,0.0734710544347763,0.09616123884916306,0.09416387975215912,0.09492763131856918,0.09587382525205612,0.2880452871322632,0.28481507301330566,0.28017929196357727,0.28080350160598755,0.1971423178911209,0.1974366307258606,0.19778752326965332,0.19783546030521393,0.20007120072841644,0.1948622316122055,0.19509658217430115,0.1997203826904297,0.10302276909351349,0.10367976874113083,0.10676028579473495,0.1066383346915245,0.15586689114570618,0.1562609225511551,0.1560683697462082,0.1541639119386673,0.17685075104236603,0.1713470220565796,0.17295365035533905,0.17524351179599762,0.036951176822185516,0.036603134125471115,0.03603757545351982,0.03626959025859833,0.16704052686691284,0.16613391041755676,0.16784541308879852,0.16475747525691986,0.05583367124199867,0.056067194789648056,0.05712663009762764,0.1694684773683548,0.17188270390033722,0.17110282182693481,0.1705486923456192,0.16885919868946075,0.16729401051998138,0.05761441960930824,0.05707696080207825,0.05843603238463402,0.1926945298910141,0.19293569028377533,0.19466382265090942,0.19124042987823486,0.19211730360984802,0.19185209274291992,0.18585923314094543,0.18550635874271393,0.1924416422843933,0.18523697555065155,0.18113811314105988,0.1808646321296692,0.192744180560112,0.1955350786447525,0.1909443587064743,0.196052685379982,0.11150673776865005,0.11198769509792328,0.11288363486528397,0.11465147882699966,0.11140799522399902,0.1142779141664505,0.10848182439804077,0.11095196008682251,0.11043312400579453,0.03835620358586311,0.03634246438741684,0.03687656298279762,0.13682974874973297,0.134672611951828,0.12534251809120178,0.1346452683210373,0.13375826179981232,0.12711726129055023,0.17811934649944305,0.18226614594459534,0.18356502056121826,0.18156732618808746,0.3121877908706665,0.3180691599845886,0.3166954219341278,0.3142400085926056,0.19158586859703064,0.1909453123807907,0.18957173824310303,0.1944553107023239,0.28519099950790405,0.28540855646133423,0.28410327434539795,0.20405572652816772,0.19510045647621155,0.20111721754074097,0.2024749368429184,0.05236981809139252,0.053233567625284195,0.05255594477057457,0.09458477050065994,0.09409183263778687,0.09588431566953659,0.09730629622936249,0.3114381432533264,0.31101617217063904,0.31086966395378113,0.06249697133898735,0.06016609072685242,0.05936216935515404,0.06102491170167923,0.15406076610088348,0.15242059528827667,0.15338198840618134,0.1517244577407837,0.19188684225082397,0.19222968816757202,0.1888546496629715,0.1876242756843567,0.19013440608978271,0.19106923043727875,0.1780264526605606,0.17173469066619873,0.17539483308792114,0.17686161398887634,0.17716768383979797,0.17691932618618011,0.17771068215370178,0.17800892889499664,0.28635910153388977,0.2817532420158386,0.28177979588508606,0.2810898423194885,0.10569318383932114,0.10393062233924866,0.10028931498527527,0.10367931425571442,0.0699990838766098,0.06941275298595428,0.06961742788553238,0.06883806735277176,0.18714143335819244,0.19176676869392395,0.189097598195076,0.1872750222682953,0.1622970700263977,0.16325180232524872,0.16454187035560608,0.1619417369365692,0.10495064407587051,0.10644196718931198,0.10532635450363159,0.10304797440767288,0.2192334681749344,0.22146663069725037,0.22091560065746307,0.2230723649263382,0.2180442214012146,0.22373639047145844,0.22450263798236847,0.2232743203639984,0.28127041459083557,0.282632976770401,0.28665220737457275,0.2843044400215149,0.16874319314956665,0.16487054526805878,0.16401231288909912,0.16929222643375397,0.16786529123783112,0.16736017167568207,0.283456951379776,0.2804828882217407,0.281607985496521,0.28522810339927673,0.18315063416957855,0.18382787704467773,0.18107455968856812,0.17733101546764374,0.18173542618751526,0.18340176343917847,0.17924603819847107,0.1869748830795288,0.12420003861188889,0.12529635429382324,0.12716566026210785,0.12552647292613983,0.1291455179452896,0.1267993450164795,0.12780608236789703,0.12719792127609253,0.048658739775419235,0.046785563230514526,0.047967519611120224,0.0474289208650589,0.15591725707054138,0.15538892149925232,0.15589824318885803,0.1540534645318985,0.27907994389533997,0.2812286615371704,0.281208336353302,0.2727699279785156,0.2716703712940216,0.2711303234100342,0.2739500403404236,0.2740303874015808,0.16280759871006012,0.1631239354610443,0.1647210270166397,0.16219903528690338,0.1915571540594101,0.18780097365379333,0.18407252430915833,0.185936838388443,0.1865983009338379,0.18676349520683289,0.28108862042427063,0.28308019042015076,0.2832726836204529,0.28532660007476807,0.3138933777809143,0.3116598427295685,0.31177547574043274,0.3118002116680145,0.1738085150718689,0.16999675333499908,0.16891802847385406,0.1687498688697815,0.17311590909957886,0.17273445427417755,0.17077304422855377,0.17197135090827942,0.17286695539951324,0.17066597938537598,0.17198270559310913,0.06740854680538177,0.0665212944149971,0.0668414831161499,0.06890064477920532,0.30682700872421265,0.30876287817955017,0.3061220049858093,0.30181801319122314,0.28573015332221985,0.2823890149593353,0.28818726539611816,0.3069666624069214,0.2988525629043579,0.22031942009925842,0.19917654991149902,0.2226794809103012,0.17442941665649414,0.17368777096271515,0.17194455862045288,0.1741892397403717,0.1713036447763443,0.1696988195180893,0.17141148447990417,0.17953048646450043,0.19164927303791046,0.18226224184036255,0.18480460345745087,0.1850735992193222,0.1840946525335312,0.18995243310928345,0.17809438705444336,0.1765076369047165,0.1608562022447586,0.15936389565467834,0.15840165317058563,0.1589212566614151,0.15870459377765656,0.15760745108127594,0.15808193385601044,0.15808378159999847,0.15074363350868225,0.1471165418624878,0.3198009133338928,0.3229314982891083,0.31067612767219543,0.09486433863639832,0.10283926874399185,0.09839504212141037,0.18401724100112915,0.18615859746932983,0.06095300242304802,0.060778435319662094,0.05984347313642502,0.19796542823314667,0.1993955671787262,0.19446857273578644,0.28480467200279236,0.284975528717041,0.16269905865192413,0.1618669480085373,0.169564887881279,0.1795690804719925,0.332526296377182,0.3251991271972656,0.31893619894981384,0.2960148751735687,0.29256612062454224,0.29713135957717896,0.08052662014961243,0.08503282815217972,0.27098435163497925,0.27238377928733826,0.27484726905822754,0.04693150892853737,0.04758445918560028,0.07127885520458221,0.07070013135671616,0.0701586902141571,0.18687176704406738,0.18377554416656494,0.18975165486335754,0.1828088015317917,0.1780492663383484,0.19089701771736145,0.18451623618602753,0.1873239427804947,0.18892772495746613,0.12419931590557098,0.11780592799186707,0.13035248219966888,0.1256210058927536,0.12931504845619202,0.2804735600948334,0.2828150689601898,0.28378134965896606],\"yaxis\":\"y\",\"type\":\"scatter\"}],                        {\"template\":{\"data\":{\"histogram2dcontour\":[{\"type\":\"histogram2dcontour\",\"colorbar\":{\"outlinewidth\":0,\"ticks\":\"\"},\"colorscale\":[[0.0,\"#0d0887\"],[0.1111111111111111,\"#46039f\"],[0.2222222222222222,\"#7201a8\"],[0.3333333333333333,\"#9c179e\"],[0.4444444444444444,\"#bd3786\"],[0.5555555555555556,\"#d8576b\"],[0.6666666666666666,\"#ed7953\"],[0.7777777777777778,\"#fb9f3a\"],[0.8888888888888888,\"#fdca26\"],[1.0,\"#f0f921\"]]}],\"choropleth\":[{\"type\":\"choropleth\",\"colorbar\":{\"outlinewidth\":0,\"ticks\":\"\"}}],\"histogram2d\":[{\"type\":\"histogram2d\",\"colorbar\":{\"outlinewidth\":0,\"ticks\":\"\"},\"colorscale\":[[0.0,\"#0d0887\"],[0.1111111111111111,\"#46039f\"],[0.2222222222222222,\"#7201a8\"],[0.3333333333333333,\"#9c179e\"],[0.4444444444444444,\"#bd3786\"],[0.5555555555555556,\"#d8576b\"],[0.6666666666666666,\"#ed7953\"],[0.7777777777777778,\"#fb9f3a\"],[0.8888888888888888,\"#fdca26\"],[1.0,\"#f0f921\"]]}],\"heatmap\":[{\"type\":\"heatmap\",\"colorbar\":{\"outlinewidth\":0,\"ticks\":\"\"},\"colorscale\":[[0.0,\"#0d0887\"],[0.1111111111111111,\"#46039f\"],[0.2222222222222222,\"#7201a8\"],[0.3333333333333333,\"#9c179e\"],[0.4444444444444444,\"#bd3786\"],[0.5555555555555556,\"#d8576b\"],[0.6666666666666666,\"#ed7953\"],[0.7777777777777778,\"#fb9f3a\"],[0.8888888888888888,\"#fdca26\"],[1.0,\"#f0f921\"]]}],\"heatmapgl\":[{\"type\":\"heatmapgl\",\"colorbar\":{\"outlinewidth\":0,\"ticks\":\"\"},\"colorscale\":[[0.0,\"#0d0887\"],[0.1111111111111111,\"#46039f\"],[0.2222222222222222,\"#7201a8\"],[0.3333333333333333,\"#9c179e\"],[0.4444444444444444,\"#bd3786\"],[0.5555555555555556,\"#d8576b\"],[0.6666666666666666,\"#ed7953\"],[0.7777777777777778,\"#fb9f3a\"],[0.8888888888888888,\"#fdca26\"],[1.0,\"#f0f921\"]]}],\"contourcarpet\":[{\"type\":\"contourcarpet\",\"colorbar\":{\"outlinewidth\":0,\"ticks\":\"\"}}],\"contour\":[{\"type\":\"contour\",\"colorbar\":{\"outlinewidth\":0,\"ticks\":\"\"},\"colorscale\":[[0.0,\"#0d0887\"],[0.1111111111111111,\"#46039f\"],[0.2222222222222222,\"#7201a8\"],[0.3333333333333333,\"#9c179e\"],[0.4444444444444444,\"#bd3786\"],[0.5555555555555556,\"#d8576b\"],[0.6666666666666666,\"#ed7953\"],[0.7777777777777778,\"#fb9f3a\"],[0.8888888888888888,\"#fdca26\"],[1.0,\"#f0f921\"]]}],\"surface\":[{\"type\":\"surface\",\"colorbar\":{\"outlinewidth\":0,\"ticks\":\"\"},\"colorscale\":[[0.0,\"#0d0887\"],[0.1111111111111111,\"#46039f\"],[0.2222222222222222,\"#7201a8\"],[0.3333333333333333,\"#9c179e\"],[0.4444444444444444,\"#bd3786\"],[0.5555555555555556,\"#d8576b\"],[0.6666666666666666,\"#ed7953\"],[0.7777777777777778,\"#fb9f3a\"],[0.8888888888888888,\"#fdca26\"],[1.0,\"#f0f921\"]]}],\"mesh3d\":[{\"type\":\"mesh3d\",\"colorbar\":{\"outlinewidth\":0,\"ticks\":\"\"}}],\"scatter\":[{\"fillpattern\":{\"fillmode\":\"overlay\",\"size\":10,\"solidity\":0.2},\"type\":\"scatter\"}],\"parcoords\":[{\"type\":\"parcoords\",\"line\":{\"colorbar\":{\"outlinewidth\":0,\"ticks\":\"\"}}}],\"scatterpolargl\":[{\"type\":\"scatterpolargl\",\"marker\":{\"colorbar\":{\"outlinewidth\":0,\"ticks\":\"\"}}}],\"bar\":[{\"error_x\":{\"color\":\"#2a3f5f\"},\"error_y\":{\"color\":\"#2a3f5f\"},\"marker\":{\"line\":{\"color\":\"#E5ECF6\",\"width\":0.5},\"pattern\":{\"fillmode\":\"overlay\",\"size\":10,\"solidity\":0.2}},\"type\":\"bar\"}],\"scattergeo\":[{\"type\":\"scattergeo\",\"marker\":{\"colorbar\":{\"outlinewidth\":0,\"ticks\":\"\"}}}],\"scatterpolar\":[{\"type\":\"scatterpolar\",\"marker\":{\"colorbar\":{\"outlinewidth\":0,\"ticks\":\"\"}}}],\"histogram\":[{\"marker\":{\"pattern\":{\"fillmode\":\"overlay\",\"size\":10,\"solidity\":0.2}},\"type\":\"histogram\"}],\"scattergl\":[{\"type\":\"scattergl\",\"marker\":{\"colorbar\":{\"outlinewidth\":0,\"ticks\":\"\"}}}],\"scatter3d\":[{\"type\":\"scatter3d\",\"line\":{\"colorbar\":{\"outlinewidth\":0,\"ticks\":\"\"}},\"marker\":{\"colorbar\":{\"outlinewidth\":0,\"ticks\":\"\"}}}],\"scattermapbox\":[{\"type\":\"scattermapbox\",\"marker\":{\"colorbar\":{\"outlinewidth\":0,\"ticks\":\"\"}}}],\"scatterternary\":[{\"type\":\"scatterternary\",\"marker\":{\"colorbar\":{\"outlinewidth\":0,\"ticks\":\"\"}}}],\"scattercarpet\":[{\"type\":\"scattercarpet\",\"marker\":{\"colorbar\":{\"outlinewidth\":0,\"ticks\":\"\"}}}],\"carpet\":[{\"aaxis\":{\"endlinecolor\":\"#2a3f5f\",\"gridcolor\":\"white\",\"linecolor\":\"white\",\"minorgridcolor\":\"white\",\"startlinecolor\":\"#2a3f5f\"},\"baxis\":{\"endlinecolor\":\"#2a3f5f\",\"gridcolor\":\"white\",\"linecolor\":\"white\",\"minorgridcolor\":\"white\",\"startlinecolor\":\"#2a3f5f\"},\"type\":\"carpet\"}],\"table\":[{\"cells\":{\"fill\":{\"color\":\"#EBF0F8\"},\"line\":{\"color\":\"white\"}},\"header\":{\"fill\":{\"color\":\"#C8D4E3\"},\"line\":{\"color\":\"white\"}},\"type\":\"table\"}],\"barpolar\":[{\"marker\":{\"line\":{\"color\":\"#E5ECF6\",\"width\":0.5},\"pattern\":{\"fillmode\":\"overlay\",\"size\":10,\"solidity\":0.2}},\"type\":\"barpolar\"}],\"pie\":[{\"automargin\":true,\"type\":\"pie\"}]},\"layout\":{\"autotypenumbers\":\"strict\",\"colorway\":[\"#636efa\",\"#EF553B\",\"#00cc96\",\"#ab63fa\",\"#FFA15A\",\"#19d3f3\",\"#FF6692\",\"#B6E880\",\"#FF97FF\",\"#FECB52\"],\"font\":{\"color\":\"#2a3f5f\"},\"hovermode\":\"closest\",\"hoverlabel\":{\"align\":\"left\"},\"paper_bgcolor\":\"white\",\"plot_bgcolor\":\"#E5ECF6\",\"polar\":{\"bgcolor\":\"#E5ECF6\",\"angularaxis\":{\"gridcolor\":\"white\",\"linecolor\":\"white\",\"ticks\":\"\"},\"radialaxis\":{\"gridcolor\":\"white\",\"linecolor\":\"white\",\"ticks\":\"\"}},\"ternary\":{\"bgcolor\":\"#E5ECF6\",\"aaxis\":{\"gridcolor\":\"white\",\"linecolor\":\"white\",\"ticks\":\"\"},\"baxis\":{\"gridcolor\":\"white\",\"linecolor\":\"white\",\"ticks\":\"\"},\"caxis\":{\"gridcolor\":\"white\",\"linecolor\":\"white\",\"ticks\":\"\"}},\"coloraxis\":{\"colorbar\":{\"outlinewidth\":0,\"ticks\":\"\"}},\"colorscale\":{\"sequential\":[[0.0,\"#0d0887\"],[0.1111111111111111,\"#46039f\"],[0.2222222222222222,\"#7201a8\"],[0.3333333333333333,\"#9c179e\"],[0.4444444444444444,\"#bd3786\"],[0.5555555555555556,\"#d8576b\"],[0.6666666666666666,\"#ed7953\"],[0.7777777777777778,\"#fb9f3a\"],[0.8888888888888888,\"#fdca26\"],[1.0,\"#f0f921\"]],\"sequentialminus\":[[0.0,\"#0d0887\"],[0.1111111111111111,\"#46039f\"],[0.2222222222222222,\"#7201a8\"],[0.3333333333333333,\"#9c179e\"],[0.4444444444444444,\"#bd3786\"],[0.5555555555555556,\"#d8576b\"],[0.6666666666666666,\"#ed7953\"],[0.7777777777777778,\"#fb9f3a\"],[0.8888888888888888,\"#fdca26\"],[1.0,\"#f0f921\"]],\"diverging\":[[0,\"#8e0152\"],[0.1,\"#c51b7d\"],[0.2,\"#de77ae\"],[0.3,\"#f1b6da\"],[0.4,\"#fde0ef\"],[0.5,\"#f7f7f7\"],[0.6,\"#e6f5d0\"],[0.7,\"#b8e186\"],[0.8,\"#7fbc41\"],[0.9,\"#4d9221\"],[1,\"#276419\"]]},\"xaxis\":{\"gridcolor\":\"white\",\"linecolor\":\"white\",\"ticks\":\"\",\"title\":{\"standoff\":15},\"zerolinecolor\":\"white\",\"automargin\":true,\"zerolinewidth\":2},\"yaxis\":{\"gridcolor\":\"white\",\"linecolor\":\"white\",\"ticks\":\"\",\"title\":{\"standoff\":15},\"zerolinecolor\":\"white\",\"automargin\":true,\"zerolinewidth\":2},\"scene\":{\"xaxis\":{\"backgroundcolor\":\"#E5ECF6\",\"gridcolor\":\"white\",\"linecolor\":\"white\",\"showbackground\":true,\"ticks\":\"\",\"zerolinecolor\":\"white\",\"gridwidth\":2},\"yaxis\":{\"backgroundcolor\":\"#E5ECF6\",\"gridcolor\":\"white\",\"linecolor\":\"white\",\"showbackground\":true,\"ticks\":\"\",\"zerolinecolor\":\"white\",\"gridwidth\":2},\"zaxis\":{\"backgroundcolor\":\"#E5ECF6\",\"gridcolor\":\"white\",\"linecolor\":\"white\",\"showbackground\":true,\"ticks\":\"\",\"zerolinecolor\":\"white\",\"gridwidth\":2}},\"shapedefaults\":{\"line\":{\"color\":\"#2a3f5f\"}},\"annotationdefaults\":{\"arrowcolor\":\"#2a3f5f\",\"arrowhead\":0,\"arrowwidth\":1},\"geo\":{\"bgcolor\":\"white\",\"landcolor\":\"#E5ECF6\",\"subunitcolor\":\"white\",\"showland\":true,\"showlakes\":true,\"lakecolor\":\"white\"},\"title\":{\"x\":0.05},\"mapbox\":{\"style\":\"light\"}}},\"xaxis\":{\"anchor\":\"y\",\"domain\":[0.0,1.0],\"title\":{\"text\":\"log_quantile\"}},\"yaxis\":{\"anchor\":\"x\",\"domain\":[0.0,1.0],\"title\":{\"text\":\"loss\"}},\"coloraxis\":{\"colorbar\":{\"title\":{\"text\":\"loss\"}},\"colorscale\":[[0.0,\"#0d0887\"],[0.1111111111111111,\"#46039f\"],[0.2222222222222222,\"#7201a8\"],[0.3333333333333333,\"#9c179e\"],[0.4444444444444444,\"#bd3786\"],[0.5555555555555556,\"#d8576b\"],[0.6666666666666666,\"#ed7953\"],[0.7777777777777778,\"#fb9f3a\"],[0.8888888888888888,\"#fdca26\"],[1.0,\"#f0f921\"]]},\"legend\":{\"tracegroupgap\":0},\"margin\":{\"t\":60}},                        {\"responsive\": true}                    ).then(function(){\n",
       "                            \n",
       "var gd = document.getElementById('c68ae5e0-c682-41f8-83bc-7cfbb2edb24e');\n",
       "var x = new MutationObserver(function (mutations, observer) {{\n",
       "        var display = window.getComputedStyle(gd).display;\n",
       "        if (!display || display === 'none') {{\n",
       "            console.log([gd, 'removed!']);\n",
       "            Plotly.purge(gd);\n",
       "            observer.disconnect();\n",
       "        }}\n",
       "}});\n",
       "\n",
       "// Listen for the removal of the full notebook cells\n",
       "var notebookContainer = gd.closest('#notebook-container');\n",
       "if (notebookContainer) {{\n",
       "    x.observe(notebookContainer, {childList: true});\n",
       "}}\n",
       "\n",
       "// Listen for the clearing of the current output cell\n",
       "var outputEl = gd.closest('.output');\n",
       "if (outputEl) {{\n",
       "    x.observe(outputEl, {childList: true});\n",
       "}}\n",
       "\n",
       "                        })                };                });            </script>        </div>"
      ]
     },
     "metadata": {},
     "output_type": "display_data"
    }
   ],
   "source": [
    "import plotly.express as px\n",
    "import pandas\n",
    "\n",
    "# Quantiles\n",
    "for i in range(9,10):\n",
    "    # Bivariate analysis of quantiles and losses\n",
    "    x = [np.log10(x+0.01) for (x,y,e) in scatter_data[i]]\n",
    "    y = [y for (x,y,e) in scatter_data[i]]\n",
    "    # Additionnal data\n",
    "    more = [e for (x,y,e) in scatter_data[i]]\n",
    "    filenames  = [ e['filename'] for e in more]\n",
    "    widths     = [ e['width_ratios'] for e in more]\n",
    "    accuracies = [ e['learning_curve_acc'] for e in more]\n",
    "    # Correlations\n",
    "    spearman = scipy.stats.spearmanr(x, y)\n",
    "    pearson  = scipy.stats.pearsonr(x, y)\n",
    "    slope, intercept, r_value, p_value, std_err = scipy.stats.linregress(x, y)\n",
    "    print(\"Correlation measures: \")\n",
    "    print(\"Spearman:\", spearman )\n",
    "    print(\"Pearson :\", pearson  )\n",
    "    print(\"R2      :\", r_value)\n",
    "    data_dict = {\n",
    "        'log_quantile' : x,\n",
    "        'loss'         : y,\n",
    "        'filename'     : filenames,\n",
    "        'width_profile': widths,\n",
    "        'accuracy'     : accuracies\n",
    "    }\n",
    "    #print(more)\n",
    "    df = pandas.DataFrame.from_dict( data_dict )\n",
    "    fig = px.scatter( data_dict, x='log_quantile', y='loss', \n",
    "                      color='loss',\n",
    "                      hover_data=['filename', 'width_profile', 'accuracy']\n",
    "                    )\n",
    "    fig.show()"
   ]
  },
  {
   "cell_type": "markdown",
   "metadata": {},
   "source": [
    "## III. Regression on all quantiles"
   ]
  },
  {
   "cell_type": "code",
   "execution_count": 93,
   "metadata": {},
   "outputs": [
    {
     "name": "stdout",
     "output_type": "stream",
     "text": [
      "Requirement already satisfied: statsmodels in /home/arouge/.local/lib/python3.8/site-packages (0.13.2)\n",
      "Requirement already satisfied: numpy>=1.17 in /home/arouge/.local/lib/python3.8/site-packages (from statsmodels) (1.22.3)\n",
      "Requirement already satisfied: scipy>=1.3 in /home/arouge/.local/lib/python3.8/site-packages (from statsmodels) (1.8.0)\n",
      "Requirement already satisfied: pandas>=0.25 in /home/arouge/.local/lib/python3.8/site-packages (from statsmodels) (1.4.2)\n",
      "Requirement already satisfied: packaging>=21.3 in /home/arouge/.local/lib/python3.8/site-packages (from statsmodels) (21.3)\n",
      "Requirement already satisfied: patsy>=0.5.2 in /home/arouge/.local/lib/python3.8/site-packages (from statsmodels) (0.5.2)\n",
      "Requirement already satisfied: python-dateutil>=2.8.1 in /home/arouge/.local/lib/python3.8/site-packages (from pandas>=0.25->statsmodels) (2.8.2)\n",
      "Requirement already satisfied: pytz>=2020.1 in /home/arouge/.local/lib/python3.8/site-packages (from pandas>=0.25->statsmodels) (2022.1)\n",
      "Requirement already satisfied: pyparsing!=3.0.5,>=2.0.2 in /home/arouge/.local/lib/python3.8/site-packages (from packaging>=21.3->statsmodels) (3.0.7)\n",
      "Requirement already satisfied: six in /usr/lib/python3/dist-packages (from patsy>=0.5.2->statsmodels) (1.14.0)\n"
     ]
    }
   ],
   "source": [
    "!pip install statsmodels"
   ]
  },
  {
   "cell_type": "code",
   "execution_count": 94,
   "metadata": {},
   "outputs": [
    {
     "name": "stdout",
     "output_type": "stream",
     "text": [
      "(429, 9)\n",
      "(429,)\n",
      "(429, 10)\n",
      "                            OLS Regression Results                            \n",
      "==============================================================================\n",
      "Dep. Variable:                      y   R-squared:                       0.831\n",
      "Model:                            OLS   Adj. R-squared:                  0.827\n",
      "Method:                 Least Squares   F-statistic:                     228.8\n",
      "Date:                Sat, 16 Apr 2022   Prob (F-statistic):          1.23e-155\n",
      "Time:                        05:21:22   Log-Likelihood:                 895.25\n",
      "No. Observations:                 429   AIC:                            -1770.\n",
      "Df Residuals:                     419   BIC:                            -1730.\n",
      "Df Model:                           9                                         \n",
      "Covariance Type:            nonrobust                                         \n",
      "==============================================================================\n",
      "                 coef    std err          t      P>|t|      [0.025      0.975]\n",
      "------------------------------------------------------------------------------\n",
      "const          0.2173      0.009     25.319      0.000       0.200       0.234\n",
      "x1             0.0236      0.021      1.142      0.254      -0.017       0.064\n",
      "x2            -0.0053      0.020     -0.262      0.794      -0.045       0.035\n",
      "x3            -0.0043      0.017     -0.256      0.798      -0.038       0.029\n",
      "x4             0.0050      0.019      0.261      0.794      -0.032       0.042\n",
      "x5             0.0013      0.015      0.086      0.931      -0.027       0.030\n",
      "x6             0.0083      0.010      0.800      0.424      -0.012       0.029\n",
      "x7             0.0015      0.007      0.215      0.830      -0.012       0.015\n",
      "x8             0.0200      0.005      3.863      0.000       0.010       0.030\n",
      "x9            -0.0799      0.003    -28.662      0.000      -0.085      -0.074\n",
      "==============================================================================\n",
      "Omnibus:                      346.948   Durbin-Watson:                   0.486\n",
      "Prob(Omnibus):                  0.000   Jarque-Bera (JB):             7786.755\n",
      "Skew:                          -3.312   Prob(JB):                         0.00\n",
      "Kurtosis:                      22.793   Cond. No.                         81.1\n",
      "==============================================================================\n",
      "\n",
      "Notes:\n",
      "[1] Standard Errors assume that the covariance matrix of the errors is correctly specified.\n"
     ]
    }
   ],
   "source": [
    "Xtrain = []\n",
    "Ytrain = []\n",
    "for i in range(1,10):\n",
    "    # Bivariate analysis of quantiles and losses\n",
    "    x = [np.log10(x+0.01) for (x,y,e) in scatter_data[i]]\n",
    "    x = np.array(x)\n",
    "    Xtrain.append(x)\n",
    "    Ytrain = [y for (x,y,e) in scatter_data[i]]\n",
    "Xtrain = np.stack( Xtrain ).T\n",
    "Ytrain = np.array( Ytrain )\n",
    "\n",
    "print(Xtrain.shape)\n",
    "print(Ytrain.shape)\n",
    "\n",
    "import statsmodels.api as sm\n",
    "X1train = sm.add_constant(Xtrain)\n",
    "print(X1train.shape)\n",
    "reg = sm.OLS(Ytrain,X1train)\n",
    "resReg = reg.fit()\n",
    "print(resReg.summary())"
   ]
  },
  {
   "cell_type": "markdown",
   "metadata": {},
   "source": [
    "## IV. Attempt at plot for all quantiles"
   ]
  },
  {
   "cell_type": "code",
   "execution_count": 7,
   "metadata": {},
   "outputs": [
    {
     "name": "stdout",
     "output_type": "stream",
     "text": [
      "Correlation measures: (correlation, p_value)\n",
      "Spearman: -0.07991481027968876 0.16318233600737994\n",
      "Pearson : (-0.05623345690940012, 0.32687199992114463)\n",
      "R2      : -0.05623345690940013\n",
      "Spearman: -0.0618563170486543 0.2807444963763668\n",
      "Pearson : (-0.08549260038414422, 0.13566712523618)\n",
      "R2      : -0.08549260038414419\n",
      "Spearman: -0.26997348068784854 1.6466372194416246e-06\n",
      "Pearson : (-0.24962828765747394, 9.916062052780186e-06)\n",
      "R2      : -0.24962828765747389\n",
      "Spearman: -0.2478092054763237 1.1558839515978013e-05\n",
      "Pearson : (-0.27175142946685593, 1.3974804440554057e-06)\n",
      "R2      : -0.27175142946685593\n",
      "Spearman: -0.22531208454511165 6.994571627027091e-05\n",
      "Pearson : (-0.2950580377661445, 1.457885793765101e-07)\n",
      "R2      : -0.29505803776614437\n",
      "Spearman: -0.2810015528993487 5.839998999096055e-07\n",
      "Pearson : (-0.35741307187124144, 1.19026991773754e-10)\n",
      "R2      : -0.35741307187124155\n",
      "Spearman: -0.3831266771435193 3.887934508058172e-12\n",
      "Pearson : (-0.4562621221223903, 3.86651766103737e-17)\n",
      "R2      : -0.45626212212239003\n",
      "Spearman: -0.5640926796328241 4.184233416807744e-27\n",
      "Pearson : (-0.6349575327224061, 6.088425210975693e-36)\n",
      "R2      : -0.6349575327224065\n",
      "Spearman: -0.7834505317073995 9.153998129623716e-65\n",
      "Pearson : (-0.8687251580181178, 9.105377325177967e-95)\n",
      "R2      : -0.8687251580181176\n"
     ]
    },
    {
     "data": {
      "image/png": "[encoded data removed]",
      "text/plain": [
       "<Figure size 720x432 with 2 Axes>"
      ]
     },
     "metadata": {
      "needs_background": "light"
     },
     "output_type": "display_data"
    }
   ],
   "source": [
    "import matplotlib.pyplot as plt\n",
    "import scipy\n",
    "from scipy import stats\n",
    "\n",
    "# Means \n",
    "\n",
    "# Quantiles\n",
    "fig = plt.figure( figsize = (10,6) )\n",
    "ax  = fig.add_subplot( 111 )\n",
    "final_x = []\n",
    "final_y = []\n",
    "final_c = []\n",
    "print(\"Correlation measures: (correlation, p_value)\")\n",
    "for i in range(1,10):\n",
    "    # Bivariate analysis of quantiles and losses\n",
    "    x = [np.log10(x+0.001) for (x,y) in scatter_data[i]]\n",
    "    #x = [x for (x,y) in scatter_data[i]]\n",
    "    y = [y for (x,y) in scatter_data[i]]\n",
    "    spearman = scipy.stats.spearmanr(x, y)\n",
    "    pearson  = scipy.stats.pearsonr(x, y)\n",
    "    slope, intercept, r_value, p_value, std_err = scipy.stats.linregress(x, y)\n",
    "    print(\"Spearman:\", spearman[0], spearman[1] )\n",
    "    print(\"Pearson :\", pearson  )\n",
    "    print(\"R2      :\", r_value)\n",
    "    # Plot\n",
    "    color = [i*0.1]*len(x)\n",
    "    final_x = final_x + x\n",
    "    final_y = final_y + y\n",
    "    final_c = final_c + color\n",
    "#\n",
    "scale = 50\n",
    "plt.scatter( final_x, final_y, alpha=0.4, c=final_c, s=scale, cmap='plasma')\n",
    "plt.colorbar()\n",
    "plt.title(f'''FPT quantiles vs Loss''')\n",
    "plt.xlabel(\"($log_{10}$ of) FPT quantile\")\n",
    "plt.ylabel(\"Loss\")\n",
    "plt.savefig(f'''FTP_quantile{i*10}.png''')\n",
    "plt.show()\n"
   ]
  },
  {
   "cell_type": "code",
   "execution_count": null,
   "metadata": {},
   "outputs": [],
   "source": []
  }
 ],
 "metadata": {
  "kernelspec": {
   "display_name": "Python 3",
   "language": "python",
   "name": "python3"
  },
  "language_info": {
   "codemirror_mode": {
    "name": "ipython",
    "version": 3
   },
   "file_extension": ".py",
   "mimetype": "text/x-python",
   "name": "python",
   "nbconvert_exporter": "python",
   "pygments_lexer": "ipython3",
   "version": "3.8.10"
  }
 },
 "nbformat": 4,
 "nbformat_minor": 2
}
