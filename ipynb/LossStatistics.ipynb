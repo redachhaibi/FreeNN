{
 "cells": [
  {
   "cell_type": "markdown",
   "metadata": {},
   "source": [
    "## I. Extract recorded data and describe status"
   ]
  },
  {
   "cell_type": "code",
   "execution_count": null,
   "metadata": {
    "scrolled": true
   },
   "outputs": [],
   "source": [
    "import os\n",
    "import json\n",
    "import numpy as np\n",
    "\n",
    "experiment_dir = \"../experiments/random_architectures_with_loss\"\n",
    "dir_depth      = 4\n",
    "\n",
    "# Get list of json files\n",
    "filenames = [f for f in os.listdir(experiment_dir) if os.path.isfile(os.path.join(experiment_dir, f))]\n",
    "data = []\n",
    "\n",
    "# Get content\n",
    "for filename in filenames:\n",
    "    full_path = os.path.join(experiment_dir, filename)\n",
    "    config = json.load( open( full_path) )\n",
    "    # Fix for old files where there was a typo\n",
    "    if 'FPT' in config:\n",
    "        FPT_key = 'FPT'\n",
    "    elif 'FTP' in config:\n",
    "        FPT_key = 'FTP'\n",
    "    else:\n",
    "        assert(False)\n",
    "    if not 'Results' in config:\n",
    "        data_element = { 'filename': filename, **config[FPT_key], 'learning_curve_train': [], 'learning_curve_acc': [] }\n",
    "    elif not 'learning_curve_acc' in config['Results']:\n",
    "        data_element = { 'filename': filename, **config[FPT_key], **config['Results'], 'learning_curve_acc': [] }\n",
    "    else:\n",
    "        data_element = { 'filename': filename, **config[FPT_key], **config['Results'] }\n",
    "    data.append( data_element )\n",
    "    \n",
    "for e in data:\n",
    "    # Clean up\n",
    "    #del e['quantiles']\n",
    "    del e['cumulative']\n",
    "    del e['density']\n",
    "    # Format\n",
    "    print(e['filename'], ':')\n",
    "    quantile_count = len(e['quantiles'])\n",
    "    print( f'  |- {quantile_count} quantiles available')\n",
    "    samples_count  = len(e['learning_curve_train'])\n",
    "    print( f'  |- {samples_count} training samples available' )\n",
    "    rounded_losses = np.round( e['learning_curve_train'], decimals=4 )\n",
    "    print( f'  |- Losses ', rounded_losses )\n",
    "    rounded_acc = np.round( e['learning_curve_acc'], decimals=4 )\n",
    "    print( f'  |- Accuracies ', rounded_acc )"
   ]
  },
  {
   "cell_type": "code",
   "execution_count": null,
   "metadata": {},
   "outputs": [],
   "source": [
    "scatter_data = {}\n",
    "\n",
    "for i in range(11):\n",
    "    scatter_data[i] = []\n",
    "\n",
    "for e in data:\n",
    "    train_sample = e['learning_curve_train']\n",
    "    print(e.keys())\n",
    "    for s in train_sample:\n",
    "        for i in range(11):\n",
    "            if s < 0.5: # Remove frozen outliers\n",
    "                scatter_data[i].append( (e['quantiles'][i], s, e))\n",
    "\n",
    "# Data points for each quantile\n",
    "for i in range(11):\n",
    "    print( i, ':', len(scatter_data[i]) )"
   ]
  },
  {
   "cell_type": "markdown",
   "metadata": {},
   "source": [
    "## II. Scatter plots Loss vs quantile"
   ]
  },
  {
   "cell_type": "code",
   "execution_count": null,
   "metadata": {
    "scrolled": false
   },
   "outputs": [],
   "source": [
    "import matplotlib.pyplot as plt\n",
    "import scipy\n",
    "from scipy import stats\n",
    "\n",
    "# Means \n",
    "\n",
    "# Quantiles\n",
    "for i in range(1,10):\n",
    "    # Bivariate analysis of quantiles and losses\n",
    "    x = [np.log10(x+0.01) for (x,y,e) in scatter_data[i]]\n",
    "    y = [y for (x,y,e) in scatter_data[i]]\n",
    "    spearman = scipy.stats.spearmanr(x, y)\n",
    "    pearson  = scipy.stats.pearsonr(x, y)\n",
    "    slope, intercept, r_value, p_value, std_err = scipy.stats.linregress(x, y)\n",
    "    print(\"Correlation measures: \")\n",
    "    print(\"Spearman:\", spearman )\n",
    "    print(\"Pearson :\", pearson  )\n",
    "    print(\"R2      :\", r_value)\n",
    "    # Plot\n",
    "    plt.scatter( x, y , alpha=0.4)\n",
    "    plt.title(f'''FPT quantile at {i*0.1} vs Loss''')\n",
    "    plt.xlabel(\"FPT quantile\")\n",
    "    plt.ylabel(\"Loss\")\n",
    "    plt.savefig(f'''FTP_quantile{i*10}.png''')\n",
    "    plt.show()\n"
   ]
  },
  {
   "cell_type": "code",
   "execution_count": null,
   "metadata": {},
   "outputs": [],
   "source": [
    "!pip install scipy\n"
   ]
  },
  {
   "cell_type": "markdown",
   "metadata": {},
   "source": [
    "## III. Interactive plot using Plotly"
   ]
  },
  {
   "cell_type": "code",
   "execution_count": null,
   "metadata": {},
   "outputs": [],
   "source": [
    "!pip install plotly pandas"
   ]
  },
  {
   "cell_type": "code",
   "execution_count": null,
   "metadata": {},
   "outputs": [],
   "source": [
    "import plotly.express as px\n",
    "import pandas\n",
    "\n",
    "# Quantiles\n",
    "for i in range(9,10):\n",
    "    # Bivariate analysis of quantiles and losses\n",
    "    x = [np.log10(x+0.01) for (x,y,e) in scatter_data[i]]\n",
    "    y = [y for (x,y,e) in scatter_data[i]]\n",
    "    # Additionnal data\n",
    "    more = [e for (x,y,e) in scatter_data[i]]\n",
    "    filenames  = [ e['filename'] for e in more]\n",
    "    widths     = [ str(e['width_ratios']) for e in more]\n",
    "    accuracies = np.array( [ np.mean(e['learning_curve_acc']) for e in more] )\n",
    "    # Correlations\n",
    "    spearman = scipy.stats.spearmanr(x, y)\n",
    "    pearson  = scipy.stats.pearsonr(x, y)\n",
    "    slope, intercept, r_value, p_value, std_err = scipy.stats.linregress(x, y)\n",
    "    print(\"Correlation measures: \")\n",
    "    print(\"Spearman:\", spearman )\n",
    "    print(\"Pearson :\", pearson  )\n",
    "    print(\"R2      :\", r_value)\n",
    "    data_dict = {\n",
    "        'log_quantile' : x,\n",
    "        'loss'         : y,\n",
    "        'filename'     : filenames,\n",
    "        'width_profile': widths,\n",
    "        'accuracy'     : np.round( accuracies*100, decimals=2 )\n",
    "    }\n",
    "    #print(more)\n",
    "    df = pandas.DataFrame.from_dict( data_dict )\n",
    "    fig = px.scatter( data_dict, x='log_quantile', y='loss', \n",
    "                      color='accuracy',\n",
    "                      hover_data=['filename', 'width_profile', 'accuracy']\n",
    "                    )\n",
    "    fig.show()"
   ]
  },
  {
   "cell_type": "markdown",
   "metadata": {},
   "source": [
    "## II. Bis. Accuracies"
   ]
  },
  {
   "cell_type": "code",
   "execution_count": null,
   "metadata": {},
   "outputs": [],
   "source": [
    "scatter_data = {}\n",
    "\n",
    "for i in range(11):\n",
    "    scatter_data[i] = []\n",
    "\n",
    "for e in data:\n",
    "    train_sample = e['learning_curve_acc']\n",
    "    for s in train_sample:\n",
    "        for i in range(11):\n",
    "            #if s < 0.5: # Remove frozen outliers\n",
    "                scatter_data[i].append( (e['quantiles'][i], s, e))\n",
    "\n",
    "# Data points for each quantile\n",
    "for i in range(11):\n",
    "    print( i, ':', len(scatter_data[i]) )"
   ]
  },
  {
   "cell_type": "code",
   "execution_count": null,
   "metadata": {},
   "outputs": [],
   "source": [
    "import matplotlib.pyplot as plt\n",
    "import scipy\n",
    "from scipy import stats\n",
    "\n",
    "# Means \n",
    "\n",
    "# Quantiles\n",
    "for i in range(8,10):\n",
    "    # Bivariate analysis of quantiles and losses\n",
    "    x = [np.log10(x+0.01) for (x,y,e) in scatter_data[i]]\n",
    "    y = [y*100 for (x,y,e) in scatter_data[i]]\n",
    "    spearman = scipy.stats.spearmanr(x, y)\n",
    "    pearson  = scipy.stats.pearsonr(x, y)\n",
    "    slope, intercept, r_value, p_value, std_err = scipy.stats.linregress(x, y)\n",
    "    print(\"Correlation measures: \")\n",
    "    print(\"Spearman:\", spearman )\n",
    "    print(\"Pearson :\", pearson  )\n",
    "    print(\"R2      :\", r_value)\n",
    "    # Plot\n",
    "    plt.scatter( x, y , alpha=0.4)\n",
    "    plt.title(f'''FPT quantile at {i*0.1} vs Loss''')\n",
    "    plt.xlabel(\"FPT quantile\")\n",
    "    plt.ylabel(\"Accuracy in %\")\n",
    "    plt.ylim(90,100)\n",
    "    plt.savefig(f'''FTP_accuraries{i*10}.png''')\n",
    "    plt.show()"
   ]
  },
  {
   "cell_type": "code",
   "execution_count": null,
   "metadata": {},
   "outputs": [],
   "source": [
    "import plotly.express as px\n",
    "from plotly.graph_objs import *\n",
    "import pandas\n",
    "\n",
    "# Quantiles\n",
    "for i in range(9,10):\n",
    "    full_data = scatter_data[i]\n",
    "    full_data = [ (x,y,e) for (x,y,e) in full_data if y>0.9]\n",
    "    # Bivariate analysis of quantiles and losses\n",
    "    x = [np.log10(x+0.01) for (x,y,e) in full_data]\n",
    "    y = [y*100 for (x,y,e) in full_data]\n",
    "    # Additionnal data\n",
    "    more = [e for (x,y,e) in full_data]\n",
    "    filenames  = [ e['filename'] for e in more]\n",
    "    widths     = [ str(e['width_ratios']) for e in more]\n",
    "    layer_sizes = [ np.cumprod(e['width_ratios'])*784 for e in more] \n",
    "    sizes       = [ np.log10(np.sum( e[:-1]*e[1:] )) for e in layer_sizes]\n",
    "    accuracies  = np.array( [ np.mean(e['learning_curve_acc']) for e in more] )\n",
    "    # Correlations\n",
    "    spearman = scipy.stats.spearmanr(x, y)\n",
    "    pearson  = scipy.stats.pearsonr(x, y)\n",
    "    slope, intercept, r_value, p_value, std_err = scipy.stats.linregress(x, y)\n",
    "    print(\"Correlation measures: \")\n",
    "    print(\"Spearman:\", spearman )\n",
    "    print(\"Pearson :\", pearson  )\n",
    "    print(\"R2      :\", r_value)\n",
    "    data_dict = {\n",
    "        'dot_size'     : 1,\n",
    "        'log_quantile' : x,\n",
    "        'accuracy'     : y,\n",
    "        'filename'     : filenames,\n",
    "        'width_profile': widths,\n",
    "        'log10_parameter_count': sizes,\n",
    "        'accuracy'     : np.round( accuracies*100, decimals=2 )\n",
    "    }\n",
    "    df = pandas.DataFrame.from_dict( data_dict )\n",
    "    layout = Layout(\n",
    "        paper_bgcolor='rgba(0,0,0,0)',\n",
    "        plot_bgcolor='rgba(0,0,0,0)'\n",
    "    )\n",
    "    fig = px.scatter( data_dict, \n",
    "                      size='dot_size',\n",
    "                      size_max=10,\n",
    "                      x='log_quantile', y='accuracy', \n",
    "                      color='log10_parameter_count',\n",
    "                      hover_data=['filename', 'width_profile', 'accuracy'],\n",
    "                      color_continuous_scale=[\"green\", \"orange\", \"red\"]\n",
    "                    )\n",
    "    fig.update_layout({\n",
    "        'plot_bgcolor' : 'rgba(0, 0, 0, 0)',\n",
    "        'paper_bgcolor': 'rgba(0, 0, 0, 0)',\n",
    "    })\n",
    "    fig.show()"
   ]
  },
  {
   "cell_type": "markdown",
   "metadata": {},
   "source": [
    "## III. Regression on all quantiles"
   ]
  },
  {
   "cell_type": "code",
   "execution_count": null,
   "metadata": {},
   "outputs": [],
   "source": [
    "!pip install statsmodels"
   ]
  },
  {
   "cell_type": "code",
   "execution_count": null,
   "metadata": {},
   "outputs": [],
   "source": [
    "Xtrain = []\n",
    "Ytrain = []\n",
    "for i in range(1,10):\n",
    "    # Bivariate analysis of quantiles and losses\n",
    "    x = [np.log10(x+0.01) for (x,y,e) in scatter_data[i]]\n",
    "    x = np.array(x)\n",
    "    Xtrain.append(x)\n",
    "    Ytrain = [y for (x,y,e) in scatter_data[i]]\n",
    "Xtrain = np.stack( Xtrain ).T\n",
    "Ytrain = np.array( Ytrain )\n",
    "\n",
    "print(Xtrain.shape)\n",
    "print(Ytrain.shape)\n",
    "\n",
    "import statsmodels.api as sm\n",
    "X1train = sm.add_constant(Xtrain)\n",
    "print(X1train.shape)\n",
    "reg = sm.OLS(Ytrain,X1train)\n",
    "resReg = reg.fit()\n",
    "print(resReg.summary())"
   ]
  },
  {
   "cell_type": "markdown",
   "metadata": {},
   "source": [
    "## IV. Attempt at plot for all quantiles"
   ]
  },
  {
   "cell_type": "code",
   "execution_count": null,
   "metadata": {},
   "outputs": [],
   "source": [
    "import matplotlib.pyplot as plt\n",
    "import scipy\n",
    "from scipy import stats\n",
    "\n",
    "# Means \n",
    "\n",
    "# Quantiles\n",
    "fig = plt.figure( figsize = (10,6) )\n",
    "ax  = fig.add_subplot( 111 )\n",
    "final_x = []\n",
    "final_y = []\n",
    "final_c = []\n",
    "print(\"Correlation measures: (correlation, p_value)\")\n",
    "for i in range(1,10):\n",
    "    # Bivariate analysis of quantiles and losses\n",
    "    x = [np.log10(x+0.001) for (x,y) in scatter_data[i]]\n",
    "    #x = [x for (x,y) in scatter_data[i]]\n",
    "    y = [y for (x,y) in scatter_data[i]]\n",
    "    spearman = scipy.stats.spearmanr(x, y)\n",
    "    pearson  = scipy.stats.pearsonr(x, y)\n",
    "    slope, intercept, r_value, p_value, std_err = scipy.stats.linregress(x, y)\n",
    "    print(\"Spearman:\", spearman[0], spearman[1] )\n",
    "    print(\"Pearson :\", pearson  )\n",
    "    print(\"R2      :\", r_value)\n",
    "    # Plot\n",
    "    color = [i*0.1]*len(x)\n",
    "    final_x = final_x + x\n",
    "    final_y = final_y + y\n",
    "    final_c = final_c + color\n",
    "#\n",
    "scale = 50\n",
    "plt.scatter( final_x, final_y, alpha=0.4, c=final_c, s=scale, cmap='plasma')\n",
    "plt.colorbar()\n",
    "plt.title(f'''FPT quantiles vs Loss''')\n",
    "plt.xlabel(\"($log_{10}$ of) FPT quantile\")\n",
    "plt.ylabel(\"Loss\")\n",
    "plt.savefig(f'''FTP_quantile{i*10}.png''')\n",
    "plt.show()\n"
   ]
  },
  {
   "cell_type": "code",
   "execution_count": null,
   "metadata": {},
   "outputs": [],
   "source": []
  }
 ],
 "metadata": {
  "kernelspec": {
   "display_name": "Python 3",
   "language": "python",
   "name": "python3"
  },
  "language_info": {
   "codemirror_mode": {
    "name": "ipython",
    "version": 3
   },
   "file_extension": ".py",
   "mimetype": "text/x-python",
   "name": "python",
   "nbconvert_exporter": "python",
   "pygments_lexer": "ipython3",
   "version": "3.8.10"
  }
 },
 "nbformat": 4,
 "nbformat_minor": 2
}
